{
 "cells": [
  {
   "cell_type": "code",
   "execution_count": 1,
   "id": "1ce184b5",
   "metadata": {},
   "outputs": [],
   "source": [
    "import numpy as np\n",
    "import matplotlib.pyplot as plt\n",
    "%matplotlib inline\n",
    "import seaborn as sns"
   ]
  },
  {
   "cell_type": "code",
   "execution_count": 2,
   "id": "4fbb21ca",
   "metadata": {},
   "outputs": [],
   "source": [
    "from scipy.stats import norm\n",
    "import sys\n",
    "sys.path.append('../')\n",
    "import imp\n",
    "import pickle"
   ]
  },
  {
   "cell_type": "code",
   "execution_count": 3,
   "id": "454222a6",
   "metadata": {},
   "outputs": [],
   "source": [
    "import mdp\n",
    "imp.reload(mdp)\n",
    "from mdp import get_mdp, simulate_from_mdp"
   ]
  },
  {
   "cell_type": "code",
   "execution_count": 4,
   "id": "18b282a2",
   "metadata": {},
   "outputs": [
    {
     "name": "stderr",
     "output_type": "stream",
     "text": [
      "/home/cgagne/cvar_generation/conda_env/lib/python3.9/site-packages/tqdm/auto.py:22: TqdmWarning: IProgress not found. Please update jupyter and ipywidgets. See https://ipywidgets.readthedocs.io/en/stable/user_install.html\n",
      "  from .autonotebook import tqdm as notebook_tqdm\n"
     ]
    }
   ],
   "source": [
    "from rl_learner import TD_Learner\n",
    "import torch\n",
    "from mdp import get_reward_dist_per_state"
   ]
  },
  {
   "cell_type": "markdown",
   "id": "0842f701",
   "metadata": {},
   "source": [
    "## 4 level tree (9 states)"
   ]
  },
  {
   "cell_type": "markdown",
   "id": "0fca894a",
   "metadata": {},
   "source": [
    "### Create MDP"
   ]
  },
  {
   "cell_type": "code",
   "execution_count": 5,
   "id": "d71d244e",
   "metadata": {},
   "outputs": [
    {
     "name": "stdout",
     "output_type": "stream",
     "text": [
      "9tree\n"
     ]
    }
   ],
   "source": [
    "P, R, n_states, states = get_mdp('9tree')"
   ]
  },
  {
   "cell_type": "markdown",
   "id": "8bbb1e7c",
   "metadata": {},
   "source": [
    "### Simulate"
   ]
  },
  {
   "cell_type": "code",
   "execution_count": 6,
   "id": "42850b63",
   "metadata": {},
   "outputs": [],
   "source": [
    "(states_all, rewards_all, \n",
    " states_onehot_all, mask) = simulate_from_mdp(1, P, R, n_states, states, \n",
    "                                              n_episodes = 10000, max_seq_len = 4)"
   ]
  },
  {
   "cell_type": "code",
   "execution_count": 7,
   "id": "cde03cf9",
   "metadata": {},
   "outputs": [
    {
     "name": "stdout",
     "output_type": "stream",
     "text": [
      "[ 0  1  4 -1]\n",
      "[-1.26408588]\n",
      "[[1. 0. 0. 0. 0. 0. 0. 0. 0.]\n",
      " [0. 1. 0. 0. 0. 0. 0. 0. 0.]\n",
      " [0. 0. 0. 0. 1. 0. 0. 0. 0.]\n",
      " [0. 0. 0. 0. 0. 0. 0. 0. 0.]]\n"
     ]
    }
   ],
   "source": [
    "ep = 0\n",
    "print(states_all[ep,])\n",
    "print(rewards_all[ep,])\n",
    "print(states_onehot_all[ep,])"
   ]
  },
  {
   "cell_type": "code",
   "execution_count": 8,
   "id": "a2bb6640",
   "metadata": {},
   "outputs": [
    {
     "name": "stdout",
     "output_type": "stream",
     "text": [
      "[ 0  1  4 -1]\n",
      "[-1.51901938]\n",
      "[[1. 0. 0. 0. 0. 0. 0. 0. 0.]\n",
      " [0. 1. 0. 0. 0. 0. 0. 0. 0.]\n",
      " [0. 0. 0. 0. 1. 0. 0. 0. 0.]\n",
      " [0. 0. 0. 0. 0. 0. 0. 0. 0.]]\n"
     ]
    }
   ],
   "source": [
    "ep = 10\n",
    "print(states_all[ep,])\n",
    "print(rewards_all[ep,])\n",
    "print(states_onehot_all[ep,])"
   ]
  },
  {
   "cell_type": "code",
   "execution_count": 9,
   "id": "2e544851",
   "metadata": {},
   "outputs": [
    {
     "data": {
      "text/plain": [
       "array([[1, 1, 1, 0],\n",
       "       [1, 1, 1, 0],\n",
       "       [1, 1, 1, 0],\n",
       "       ...,\n",
       "       [1, 1, 1, 1],\n",
       "       [1, 1, 1, 0],\n",
       "       [1, 1, 1, 0]])"
      ]
     },
     "execution_count": 9,
     "metadata": {},
     "output_type": "execute_result"
    }
   ],
   "source": [
    "mask"
   ]
  },
  {
   "cell_type": "markdown",
   "id": "38d46664",
   "metadata": {},
   "source": [
    "### Save "
   ]
  },
  {
   "cell_type": "code",
   "execution_count": 10,
   "id": "96111115",
   "metadata": {},
   "outputs": [
    {
     "name": "stdout",
     "output_type": "stream",
     "text": [
      "(10000, 4, 9)\n",
      "(10000, 1)\n"
     ]
    }
   ],
   "source": [
    "# save out data \n",
    "print(states_onehot_all.shape)\n",
    "print(rewards_all.shape)\n",
    "np.save('../mscl/simple_mdp_states_onehot.npy', states_onehot_all)\n",
    "np.save('../mscl/simple_mdp_rewards.npy', rewards_all)\n",
    "np.save('../mscl/simple_mdp_mask.npy', mask)"
   ]
  },
  {
   "cell_type": "markdown",
   "id": "ec845f54",
   "metadata": {},
   "source": [
    "### Look at Log"
   ]
  },
  {
   "cell_type": "code",
   "execution_count": 38,
   "id": "052bfe83",
   "metadata": {},
   "outputs": [],
   "source": [
    "n_quantiles=5\n",
    "taus = (2 * np.arange(n_quantiles) + 1) / (2.0 * n_quantiles)"
   ]
  },
  {
   "cell_type": "code",
   "execution_count": 45,
   "id": "442e6df7",
   "metadata": {},
   "outputs": [
    {
     "data": {
      "text/plain": [
       "<All keys matched successfully>"
      ]
     },
     "execution_count": 45,
     "metadata": {},
     "output_type": "execute_result"
    }
   ],
   "source": [
    "Z_network = TD_Learner(n_states, n_quantiles, hidden_dim=None)\n",
    "epoch=20\n",
    "file1 = f'../data/results/single_sentences_I_1/quantile_learner_mdp_linear/quantile_learner_mdp_epoch{epoch}.pkl'\n",
    "file2=f'../data/results/single_sentences_I_1/quantile_learner_mdp_linear/log_quantile_learner_mdp_epoch{epoch}.pkl'\n",
    "\n",
    "Z_network.load_state_dict(torch.load(file,\n",
    "                                    map_location=torch.device('cpu')))"
   ]
  },
  {
   "cell_type": "code",
   "execution_count": 51,
   "id": "1ec1c66d",
   "metadata": {},
   "outputs": [],
   "source": [
    "log = pickle.load(open(file2,'rb'))\n",
    "loss = np.array(log['loss'])\n",
    "epoch = np.array(log['epoch'])\n",
    "state0 = np.array(log['state 0'])"
   ]
  },
  {
   "cell_type": "code",
   "execution_count": 52,
   "id": "14a3f379",
   "metadata": {},
   "outputs": [
    {
     "data": {
      "image/png": "[encoded data removed]",
      "text/plain": [
       "<Figure size 432x288 with 1 Axes>"
      ]
     },
     "metadata": {
      "needs_background": "light"
     },
     "output_type": "display_data"
    }
   ],
   "source": [
    "plt.plot(epoch, loss)\n",
    "sns.despine()"
   ]
  },
  {
   "cell_type": "code",
   "execution_count": 53,
   "id": "18c05c75",
   "metadata": {},
   "outputs": [
    {
     "data": {
      "image/png": "[encoded data removed]",
      "text/plain": [
       "<Figure size 432x288 with 1 Axes>"
      ]
     },
     "metadata": {
      "needs_background": "light"
     },
     "output_type": "display_data"
    }
   ],
   "source": [
    "plt.plot(epoch, state0); \n",
    "sns.despine()"
   ]
  },
  {
   "cell_type": "markdown",
   "id": "c9a410f6",
   "metadata": {},
   "source": [
    "### Look at Distributions and Compare to TD Learner"
   ]
  },
  {
   "cell_type": "code",
   "execution_count": 54,
   "id": "533ca3ce",
   "metadata": {},
   "outputs": [
    {
     "name": "stdout",
     "output_type": "stream",
     "text": [
      "true thetas\n",
      "[-2.11 -1.27  0.96  2.36  3.71]\n",
      "theta estimates\n",
      "[-1.51 -1.05  1.06  2.25  2.86]\n"
     ]
    },
    {
     "data": {
      "image/png": "[encoded data removed]",
      "text/plain": [
       "<Figure size 432x288 with 1 Axes>"
      ]
     },
     "metadata": {
      "needs_background": "light"
     },
     "output_type": "display_data"
    }
   ],
   "source": [
    "state = 0\n",
    "rewards_per_state = get_reward_dist_per_state(state, states_all, rewards_all)\n",
    "plt.hist(rewards_per_state)\n",
    "plt.xlim([-5,6])\n",
    "plt.title(f'state {state}')\n",
    "sns.despine()\n",
    "\n",
    "print('true thetas')\n",
    "thetas = [np.quantile(rewards_per_state.squeeze(), q) for q in taus]\n",
    "print(np.array(thetas).round(2))\n",
    "print('theta estimates')\n",
    "state_onehot = np.zeros(n_states)\n",
    "state_onehot[state]=1\n",
    "print(Z_network(torch.Tensor(state_onehot)).detach().cpu().numpy().round(2))"
   ]
  },
  {
   "cell_type": "code",
   "execution_count": 55,
   "id": "ea80cee9",
   "metadata": {},
   "outputs": [
    {
     "name": "stdout",
     "output_type": "stream",
     "text": [
      "true thetas\n",
      "[-2.41 -1.9  -1.5  -1.08 -0.57]\n",
      "theta estimates\n",
      "[-1.99 -1.7  -1.49 -1.27 -0.97]\n"
     ]
    },
    {
     "data": {
      "image/png": "[encoded data removed]",
      "text/plain": [
       "<Figure size 432x288 with 1 Axes>"
      ]
     },
     "metadata": {
      "needs_background": "light"
     },
     "output_type": "display_data"
    }
   ],
   "source": [
    "state = 1\n",
    "rewards_per_state = get_reward_dist_per_state(state, states_all, rewards_all)\n",
    "plt.hist(rewards_per_state)\n",
    "plt.xlim([-5,6])\n",
    "plt.title(f'state {state}')\n",
    "sns.despine()\n",
    "\n",
    "print('true thetas')\n",
    "thetas = [np.quantile(rewards_per_state.squeeze(), q) for q in taus]\n",
    "print(np.array(thetas).round(2))\n",
    "print('theta estimates')\n",
    "state_onehot = np.zeros(n_states)\n",
    "state_onehot[state]=1\n",
    "print(Z_network(torch.Tensor(state_onehot)).detach().cpu().numpy().round(2))"
   ]
  },
  {
   "cell_type": "code",
   "execution_count": 56,
   "id": "9495304d",
   "metadata": {},
   "outputs": [
    {
     "name": "stdout",
     "output_type": "stream",
     "text": [
      "true thetas\n",
      "[1.58 2.1  2.62 3.29 4.13]\n",
      "theta estimates\n",
      "[1.99 2.36 2.69 3.05 3.47]\n"
     ]
    },
    {
     "data": {
      "image/png": "[encoded data removed]",
      "text/plain": [
       "<Figure size 432x288 with 1 Axes>"
      ]
     },
     "metadata": {
      "needs_background": "light"
     },
     "output_type": "display_data"
    }
   ],
   "source": [
    "state = 2\n",
    "rewards_per_state = get_reward_dist_per_state(state, states_all, rewards_all)\n",
    "plt.hist(rewards_per_state)\n",
    "plt.xlim([-5,6])\n",
    "plt.title(f'state {state}')\n",
    "sns.despine()\n",
    "\n",
    "print('true thetas')\n",
    "thetas = [np.quantile(rewards_per_state.squeeze(), q) for q in taus]\n",
    "print(np.array(thetas).round(2))\n",
    "print('theta estimates')\n",
    "state_onehot = np.zeros(n_states)\n",
    "state_onehot[state]=1\n",
    "theta_hats =Z_network(torch.Tensor(state_onehot)).detach().cpu().numpy().round(2)\n",
    "print(theta_hats)"
   ]
  },
  {
   "cell_type": "code",
   "execution_count": 57,
   "id": "185a30a9",
   "metadata": {},
   "outputs": [
    {
     "data": {
      "image/png": "[encoded data removed]",
      "text/plain": [
       "<Figure size 432x288 with 1 Axes>"
      ]
     },
     "metadata": {
      "needs_background": "light"
     },
     "output_type": "display_data"
    }
   ],
   "source": [
    "plt.hist(rewards_per_state, cumulative=True, histtype='step', density=True, bins=30)\n",
    "sns.despine()\n",
    "plt.xlim([-5,6])\n",
    "\n",
    "x_range = plt.gca().get_xlim()[-1] - plt.gca().get_xlim()[0]\n",
    "x_max = plt.gca().get_xlim()[-1]\n",
    "x_min = plt.gca().get_xlim()[0]\n",
    "\n",
    "for tau, theta, theta_hat in zip(taus, thetas, theta_hats):\n",
    "    #plt.axhline(y=tau, xmin=0, xmax=(theta-x_min)/(x_range))\n",
    "    #plt.axvline(theta, 0, tau)\n",
    "    \n",
    "    plt.axhline(y=tau, xmin=0, xmax=(theta_hat-x_min)/(x_range), color=sns.color_palette()[1])\n",
    "    plt.axvline(theta_hat, 0, tau, color=sns.color_palette()[1])"
   ]
  },
  {
   "cell_type": "markdown",
   "id": "add7cada",
   "metadata": {},
   "source": [
    "## Forward Sampling"
   ]
  },
  {
   "cell_type": "code",
   "execution_count": 44,
   "id": "b9633d2b",
   "metadata": {},
   "outputs": [],
   "source": [
    "import cvar_sampler\n",
    "imp.reload(cvar_sampler)\n",
    "from cvar_sampler import cvar_forward_sampler"
   ]
  },
  {
   "cell_type": "code",
   "execution_count": 58,
   "id": "e07df504",
   "metadata": {},
   "outputs": [],
   "source": [
    "alpha0=0.75\n",
    "s0=0\n",
    "(states_all2, \n",
    " rewards_all2, \n",
    " alphas_all2) = cvar_forward_sampler(P, R, s0, alpha0, n_eps=100, \n",
    "                                     n_quantiles = 10, verbose = False,\n",
    "                                     states_all_prev=states_all, rewards_all_prev=rewards_all,\n",
    "                                     max_seq_len=4)\n"
   ]
  },
  {
   "cell_type": "code",
   "execution_count": 59,
   "id": "770d3e77",
   "metadata": {},
   "outputs": [
    {
     "name": "stdout",
     "output_type": "stream",
     "text": [
      "[[ 0  1  4 -1]\n",
      " [ 0  2  5 -1]\n",
      " [ 0  1  3 -1]\n",
      " [ 0  1  3 -1]\n",
      " [ 0  1  4 -1]]\n",
      "[-1.05984102  1.31973436 -2.12938014 -2.42658194 -1.18982527]\n"
     ]
    }
   ],
   "source": [
    "print(states_all2[0:5])\n",
    "print(rewards_all2[0:5])"
   ]
  },
  {
   "cell_type": "code",
   "execution_count": 60,
   "id": "59d419b1",
   "metadata": {},
   "outputs": [
    {
     "data": {
      "image/png": "[encoded data removed]",
      "text/plain": [
       "<Figure size 432x288 with 1 Axes>"
      ]
     },
     "metadata": {
      "needs_background": "light"
     },
     "output_type": "display_data"
    }
   ],
   "source": [
    "state = 0\n",
    "\n",
    "plt.hist(get_reward_dist_per_state(state, states_all, rewards_all), alpha=0.5, density=True)\n",
    "plt.hist(get_reward_dist_per_state(state, states_all2, rewards_all2), alpha=0.5, density=True)\n",
    "\n",
    "plt.xlim([-5,6])\n",
    "plt.title(f'state {state}')\n",
    "sns.despine()"
   ]
  },
  {
   "cell_type": "code",
   "execution_count": null,
   "id": "de659c76",
   "metadata": {},
   "outputs": [],
   "source": []
  }
 ],
 "metadata": {
  "kernelspec": {
   "display_name": "Python 3",
   "language": "python",
   "name": "python3"
  },
  "language_info": {
   "codemirror_mode": {
    "name": "ipython",
    "version": 3
   },
   "file_extension": ".py",
   "mimetype": "text/x-python",
   "name": "python",
   "nbconvert_exporter": "python",
   "pygments_lexer": "ipython3",
   "version": "3.9.12"
  },
  "toc": {
   "base_numbering": 1,
   "nav_menu": {},
   "number_sections": true,
   "sideBar": true,
   "skip_h1_title": false,
   "title_cell": "Table of Contents",
   "title_sidebar": "Contents",
   "toc_cell": false,
   "toc_position": {},
   "toc_section_display": true,
   "toc_window_display": true
  }
 },
 "nbformat": 4,
 "nbformat_minor": 5
}
