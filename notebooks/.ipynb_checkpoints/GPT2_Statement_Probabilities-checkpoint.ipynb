{
 "cells": [
  {
   "cell_type": "code",
   "execution_count": 1,
   "id": "534cfa47",
   "metadata": {},
   "outputs": [],
   "source": [
    "from transformers import (\n",
    "    GPT2Config,\n",
    "    GPT2Tokenizer,\n",
    "    GPT2DoubleHeadsModel,\n",
    "    GPT2LMHeadModel,\n",
    "    AutoTokenizer,\n",
    "    AutoModelForSequenceClassification,\n",
    ")"
   ]
  },
  {
   "cell_type": "code",
   "execution_count": 6,
   "id": "d46610ff",
   "metadata": {},
   "outputs": [],
   "source": [
    "model = '../models/pretrained/gpt2-large'\n",
    "device = 'cpu'\n",
    "config = GPT2Config.from_pretrained(model)\n",
    "tokenizer = GPT2Tokenizer.from_pretrained(model)\n",
    "model = GPT2LMHeadModel.from_pretrained(model, config=config)\n",
    "model.config.pad_token_id = model.config.eos_token_id\n",
    "model.to(device);"
   ]
  },
  {
   "cell_type": "markdown",
   "id": "75414620",
   "metadata": {},
   "source": [
    "### Grammaticality"
   ]
  },
  {
   "cell_type": "code",
   "execution_count": 4,
   "id": "1ac576b6",
   "metadata": {},
   "outputs": [
    {
     "name": "stdout",
     "output_type": "stream",
     "text": [
      "i would like to thank you mr chairman loss=4.593\n",
      "i would liking to thanks you mr chair in loss=7.030\n",
      "thnks chair loss=8.403\n"
     ]
    }
   ],
   "source": [
    "texts = ['i would like to thank you mr chairman', \n",
    "         'i would liking to thanks you mr chair in', 'thnks chair' ]\n",
    "losses = []\n",
    "for text in texts:\n",
    "    tokens_tensor = tokenizer.encode(text, add_special_tokens=False, return_tensors=\"pt\")    \n",
    "    loss = model(tokens_tensor, labels=tokens_tensor)[0]\n",
    "    losses.append(loss)\n",
    "    print(f'{text} loss={loss:.3f}')"
   ]
  },
  {
   "cell_type": "markdown",
   "id": "0f96ad19",
   "metadata": {},
   "source": [
    "### Content"
   ]
  },
  {
   "cell_type": "code",
   "execution_count": 12,
   "id": "529cfc4e",
   "metadata": {},
   "outputs": [
    {
     "name": "stdout",
     "output_type": "stream",
     "text": [
      "I have a math test tomorrow. I might fail the test. loss=3.165\n",
      "I have a math test tomorrow. I have the chance to impress my parents if I do well. loss=2.807\n",
      "I have a math test tomorrow. I have the chance to impress my parents. loss=3.121\n",
      "I have a math test tomorrow. I think I will cook dinner now. loss=3.649\n",
      "I have a math test tomorrow. My future job will be hard. loss=3.673\n",
      "I have a math test tomorrow. I went to the grocery store. loss=3.045\n",
      "I have a math test tomorrow. I need to study hard. loss=3.049\n",
      "I have a math test tomorrow. My dog is chewing on his toy. loss=3.679\n",
      "I have a math test tomorrow. My dog was chewing on his toy and then he got up and chased that cat around the house. loss=3.371\n"
     ]
    }
   ],
   "source": [
    "prompt = 'I have a math test tomorrow. '\n",
    "texts = ['I might fail the test.', \n",
    "         'I have the chance to impress my parents if I do well.', \n",
    "         'I have the chance to impress my parents.',\n",
    "         'I think I will cook dinner now.',\n",
    "         'My future job will be hard.',\n",
    "         'I went to the grocery store.',\n",
    "         'I need to study hard.',\n",
    "         'My dog is chewing on his toy.',\n",
    "         'My dog was chewing on his toy and then he got up and chased the cat around the house.']\n",
    "texts = [prompt+text for text in texts]\n",
    "losses = []\n",
    "for text in texts:\n",
    "    tokens_tensor = tokenizer.encode(text, add_special_tokens=False, return_tensors=\"pt\")    \n",
    "    loss = model(tokens_tensor, labels=tokens_tensor)[0]\n",
    "    losses.append(loss)\n",
    "    print(f'{text} loss={loss:.3f}')"
   ]
  },
  {
   "cell_type": "markdown",
   "id": "ea68a2c7",
   "metadata": {},
   "source": [
    "### Lm Scorer?"
   ]
  },
  {
   "cell_type": "code",
   "execution_count": 1,
   "id": "114d3117",
   "metadata": {},
   "outputs": [],
   "source": [
    " #(https://github.com/simonepri/lm-scorer)"
   ]
  },
  {
   "cell_type": "markdown",
   "id": "05aa5fa0",
   "metadata": {},
   "source": [
    "### Entailment Scorer\n",
    "\n",
    "- https://huggingface.co/datasets/snli\n",
    "- https://huggingface.co/datasets/swag\n",
    "- https://cims.nyu.edu/~sbowman/multinli/"
   ]
  },
  {
   "cell_type": "markdown",
   "id": "1df97bd5",
   "metadata": {},
   "source": [
    "#### as entailment"
   ]
  },
  {
   "cell_type": "code",
   "execution_count": 8,
   "id": "140a9371",
   "metadata": {},
   "outputs": [],
   "source": [
    "from sentence_transformers import CrossEncoder\n",
    "from scipy.special import softmax"
   ]
  },
  {
   "cell_type": "code",
   "execution_count": 5,
   "id": "ac9150fe",
   "metadata": {},
   "outputs": [],
   "source": [
    "#model = CrossEncoder('cross-encoder/nli-distilroberta-base')"
   ]
  },
  {
   "cell_type": "code",
   "execution_count": 4,
   "id": "b6b660c4",
   "metadata": {},
   "outputs": [],
   "source": [
    "#model.save_pretrained('../models/pretrained/nli-distilroberta-base')"
   ]
  },
  {
   "cell_type": "code",
   "execution_count": 2,
   "id": "ebc6b2c8",
   "metadata": {},
   "outputs": [],
   "source": [
    "model = CrossEncoder('../models/pretrained/nli-distilroberta-base')"
   ]
  },
  {
   "cell_type": "code",
   "execution_count": 23,
   "id": "41afcafc",
   "metadata": {},
   "outputs": [
    {
     "data": {
      "text/plain": [
       "array([[-3.4729373 ,  3.718417  ,  0.30496567],\n",
       "       [ 4.732198  , -3.256608  , -2.0175304 ]], dtype=float32)"
      ]
     },
     "execution_count": 23,
     "metadata": {},
     "output_type": "execute_result"
    }
   ],
   "source": [
    "scores = model.predict([('A man is eating pizza', 'A man eats something'), \n",
    "                        ('A black race car starts up in front of a crowd of people.',\n",
    "                         'A man is driving down a lonely road.')])\n",
    "scores"
   ]
  },
  {
   "cell_type": "code",
   "execution_count": 19,
   "id": "45792e91",
   "metadata": {},
   "outputs": [
    {
     "data": {
      "text/plain": [
       "[('I have a math test tomorrow.', 'I do not have a math test tomorrow.'),\n",
       " ('I have a math test tomorrow.', 'I have no school tomorrow.'),\n",
       " ('I have a math test tomorrow.', 'I might fail the test.'),\n",
       " ('I have a math test tomorrow.',\n",
       "  'I have the chance to impress my parents if I do well.'),\n",
       " ('I have a math test tomorrow.', 'I have the chance to impress my parents.'),\n",
       " ('I have a math test tomorrow.', 'I think I will cook dinner now.'),\n",
       " ('I have a math test tomorrow.', 'My future job will be hard.'),\n",
       " ('I have a math test tomorrow.', 'I went to the grocery store.'),\n",
       " ('I have a math test tomorrow.', 'I need to study hard.'),\n",
       " ('I have a math test tomorrow.', 'My dog is chewing on his toy.'),\n",
       " ('I have a math test tomorrow.',\n",
       "  'My dog was chewing on his toy and then he got up and chased the cat around the house.')]"
      ]
     },
     "execution_count": 19,
     "metadata": {},
     "output_type": "execute_result"
    }
   ],
   "source": [
    "prompt = 'I have a math test tomorrow.'\n",
    "texts = ['I do not have a math test tomorrow.',\n",
    "         'I have no school tomorrow.',\n",
    "         'I might fail the test.', \n",
    "         'I have the chance to impress my parents if I do well.', \n",
    "         'I have the chance to impress my parents.',\n",
    "         'I think I will cook dinner now.',\n",
    "         'My future job will be hard.',\n",
    "         'I went to the grocery store.',\n",
    "         'I need to study hard.',\n",
    "         'My dog is chewing on his toy.',\n",
    "         'My dog was chewing on his toy and then he got up and chased the cat around the house.']\n",
    "\n",
    "pairs = [(prompt, text) for text in texts]\n",
    "pairs"
   ]
  },
  {
   "cell_type": "code",
   "execution_count": 20,
   "id": "6c4f2353",
   "metadata": {},
   "outputs": [],
   "source": [
    "scores = model.predict(pairs)"
   ]
  },
  {
   "cell_type": "code",
   "execution_count": 21,
   "id": "0fdaae55",
   "metadata": {},
   "outputs": [
    {
     "data": {
      "text/plain": [
       "array([[1.  , 0.  , 0.  ],\n",
       "       [0.99, 0.  , 0.01],\n",
       "       [0.  , 0.01, 0.99],\n",
       "       [0.  , 0.01, 0.99],\n",
       "       [0.  , 0.01, 0.99],\n",
       "       [0.99, 0.  , 0.01],\n",
       "       [0.01, 0.01, 0.99],\n",
       "       [0.99, 0.  , 0.01],\n",
       "       [0.01, 0.03, 0.95],\n",
       "       [1.  , 0.  , 0.  ],\n",
       "       [0.99, 0.  , 0.01]], dtype=float32)"
      ]
     },
     "execution_count": 21,
     "metadata": {},
     "output_type": "execute_result"
    }
   ],
   "source": [
    "softmax(scores, axis=1).round(2)"
   ]
  },
  {
   "cell_type": "code",
   "execution_count": 22,
   "id": "d146a283",
   "metadata": {},
   "outputs": [
    {
     "name": "stdout",
     "output_type": "stream",
     "text": [
      "I have a math test tomorrow. I do not have a math test tomorrow. [ 4.24 -2.36 -2.21]\n",
      "I have a math test tomorrow. I have no school tomorrow. [ 3.98 -2.87 -1.29]\n",
      "I have a math test tomorrow. I might fail the test. [-2.34 -0.94  3.62]\n",
      "I have a math test tomorrow. I have the chance to impress my parents if I do well. [-2.32 -1.02  3.7 ]\n",
      "I have a math test tomorrow. I have the chance to impress my parents. [-1.91 -1.37  3.61]\n",
      "I have a math test tomorrow. I think I will cook dinner now. [ 3.96 -3.82 -0.4 ]\n",
      "I have a math test tomorrow. My future job will be hard. [-1.48 -1.67  3.43]\n",
      "I have a math test tomorrow. I went to the grocery store. [ 3.89 -3.78 -0.35]\n",
      "I have a math test tomorrow. I need to study hard. [-1.56 -0.71  2.63]\n",
      "I have a math test tomorrow. My dog is chewing on his toy. [ 4.53 -3.7  -1.44]\n",
      "I have a math test tomorrow. My dog was chewing on his toy and then he got up and chased the cat around the house. [ 4.05 -4.28 -0.24]\n"
     ]
    }
   ],
   "source": [
    "for ti, text in enumerate(texts):\n",
    "    print(f'{prompt} {text} {scores[ti,:].round(2)}')\n",
    "#scores"
   ]
  },
  {
   "cell_type": "markdown",
   "id": "7952df06",
   "metadata": {},
   "source": [
    "#### as zero-shot"
   ]
  },
  {
   "cell_type": "code",
   "execution_count": 43,
   "id": "0dc126af",
   "metadata": {},
   "outputs": [],
   "source": [
    "from transformers import pipeline\n",
    "import numpy as np"
   ]
  },
  {
   "cell_type": "code",
   "execution_count": 26,
   "id": "c4f337ea",
   "metadata": {},
   "outputs": [
    {
     "name": "stdout",
     "output_type": "stream",
     "text": [
      "{'sequence': 'Apple just announced the newest iPhone X', 'labels': ['technology', 'sports', 'politics'], 'scores': [0.9906043410301208, 0.005863797850906849, 0.003531870199367404]}\n"
     ]
    }
   ],
   "source": [
    "classifier = pipeline(\"zero-shot-classification\", model='../models/pretrained/nli-distilroberta-base')\n",
    "\n",
    "sent = \"Apple just announced the newest iPhone X\"\n",
    "candidate_labels = [\"technology\", \"sports\", \"politics\"]\n",
    "res = classifier(sent, candidate_labels)\n",
    "print(res)"
   ]
  },
  {
   "cell_type": "code",
   "execution_count": 30,
   "id": "28291944",
   "metadata": {},
   "outputs": [
    {
     "name": "stdout",
     "output_type": "stream",
     "text": [
      "{'sequence': 'I have a math test tomorrow. I need to study hard.', 'labels': ['improbable', 'probable'], 'scores': [0.5948284268379211, 0.40517154335975647]}\n"
     ]
    }
   ],
   "source": [
    "classifier = pipeline(\"zero-shot-classification\", model='../models/pretrained/nli-distilroberta-base')\n",
    "\n",
    "sent = \"I have a math test tomorrow. I do not have a math test tomorrow.\"\n",
    "sent = \"I have a math test tomorrow. I need to study hard.\"\n",
    "candidate_labels = [\"probable\", \"improbable\"]\n",
    "res = classifier(sent, candidate_labels)\n",
    "print(res)"
   ]
  },
  {
   "cell_type": "code",
   "execution_count": 32,
   "id": "4cb7435c",
   "metadata": {},
   "outputs": [
    {
     "name": "stdout",
     "output_type": "stream",
     "text": [
      "{'sequence': 'I have a math test tomorrow.', 'labels': ['I went to the park.'], 'scores': [0.008240976370871067]}\n"
     ]
    }
   ],
   "source": [
    "sent = \"I have a math test tomorrow.\"\n",
    "candidate_labels = [\"I went to the park.\"]\n",
    "res = classifier(sent, candidate_labels)\n",
    "print(res)"
   ]
  },
  {
   "cell_type": "code",
   "execution_count": 53,
   "id": "0aaaf4a5",
   "metadata": {},
   "outputs": [
    {
     "name": "stdout",
     "output_type": "stream",
     "text": [
      "I have a math test tomorrow. I do not have a math test tomorrow. 0.0\n",
      "I have a math test tomorrow. I have no school tomorrow. 0.01\n",
      "I have a math test tomorrow. I might fail the test. 0.38\n",
      "I have a math test tomorrow. I have the chance to impress my parents if I do well. 0.54\n",
      "I have a math test tomorrow. I have the chance to impress my parents. 0.4\n",
      "I have a math test tomorrow. I think I will cook dinner now. 0.0\n",
      "I have a math test tomorrow. My future job will be hard. 0.36\n",
      "I have a math test tomorrow. I went to the grocery store. 0.01\n",
      "I have a math test tomorrow. I need to study hard. 0.47\n",
      "I have a math test tomorrow. My dog is chewing on his toy. 0.0\n",
      "I have a math test tomorrow. My dog was chewing on his toy and then he got up and chased the cat around the house. 0.0\n"
     ]
    }
   ],
   "source": [
    "prompt = \"I have a math test tomorrow.\"\n",
    "for ti, text in enumerate(texts):\n",
    "    res = classifier(prompt, text)\n",
    "    score = np.round(res['scores'][0],2)\n",
    "    print(f'{prompt} {text} {score}')"
   ]
  },
  {
   "cell_type": "code",
   "execution_count": 54,
   "id": "460e6603",
   "metadata": {},
   "outputs": [
    {
     "data": {
      "text/plain": [
       "{'sequence': 'I have a math test tomorrow.',\n",
       " 'labels': ['I need to study hard.',\n",
       "  'I have the chance to impress my parents if I do well.',\n",
       "  'I might fail the test.',\n",
       "  'My future job will be hard.',\n",
       "  'I have the chance to impress my parents.',\n",
       "  'I have no school tomorrow.',\n",
       "  'I do not have a math test tomorrow.',\n",
       "  'My dog is chewing on his toy.',\n",
       "  'I went to the grocery store.',\n",
       "  'I think I will cook dinner now.',\n",
       "  'My dog was chewing on his toy and then he got up and chased the cat around the house.'],\n",
       " 'scores': [0.24693726003170013,\n",
       "  0.15573418140411377,\n",
       "  0.15039072930812836,\n",
       "  0.13005255162715912,\n",
       "  0.11426583677530289,\n",
       "  0.05318985879421234,\n",
       "  0.04382216930389404,\n",
       "  0.0410136841237545,\n",
       "  0.03034592792391777,\n",
       "  0.02107062004506588,\n",
       "  0.013177117332816124]}"
      ]
     },
     "execution_count": 54,
     "metadata": {},
     "output_type": "execute_result"
    }
   ],
   "source": [
    "res = classifier(prompt, texts)\n",
    "res"
   ]
  },
  {
   "cell_type": "code",
   "execution_count": 85,
   "id": "d99f7a00",
   "metadata": {},
   "outputs": [],
   "source": [
    "texts = ['I do not have a math test tomorrow.',\n",
    "         'I have no school tomorrow.',\n",
    "         'I might fail the test.', \n",
    "         'I have the chance to impress my parents if I do well.', \n",
    "         'I have the chance to impress my parents.',\n",
    "         'I think I will cook dinner now.',\n",
    "         'My future job will be hard.',\n",
    "         'I went to the grocery store.',\n",
    "         'I need to study hard.',\n",
    "         'My dog is chewing on his toy.',\n",
    "         'My dog chased a cat around in the park.',\n",
    "        # 'I have a toothache.',\n",
    "         'I went to the dentist',\n",
    "         'I went to the doctor']"
   ]
  },
  {
   "cell_type": "code",
   "execution_count": 86,
   "id": "527e65b6",
   "metadata": {},
   "outputs": [],
   "source": [
    "# prompt = \"I walked my dog to the park.\"\n",
    "# for ti, text in enumerate(texts):\n",
    "#     res = classifier(prompt, text)\n",
    "#     score = np.round(res['scores'][0],2)\n",
    "#     print(f'{prompt} {text} {score}')"
   ]
  },
  {
   "cell_type": "code",
   "execution_count": 89,
   "id": "80e06268",
   "metadata": {},
   "outputs": [
    {
     "data": {
      "text/plain": [
       "{'sequence': 'I need to have surgery.',\n",
       " 'labels': ['My future job will be hard.',\n",
       "  'I went to the doctor',\n",
       "  'I might fail the test.',\n",
       "  'I do not have a math test tomorrow.',\n",
       "  'I need to study hard.',\n",
       "  'I went to the dentist',\n",
       "  'I have no school tomorrow.',\n",
       "  'I went to the grocery store.',\n",
       "  'My dog is chewing on his toy.',\n",
       "  'I have the chance to impress my parents if I do well.',\n",
       "  'I have the chance to impress my parents.',\n",
       "  'My dog chased a cat around in the park.',\n",
       "  'I think I will cook dinner now.'],\n",
       " 'scores': [0.29420918226242065,\n",
       "  0.2702980041503906,\n",
       "  0.11532612144947052,\n",
       "  0.07720661163330078,\n",
       "  0.06659335643053055,\n",
       "  0.058381590992212296,\n",
       "  0.030719276517629623,\n",
       "  0.018948888406157494,\n",
       "  0.018022341653704643,\n",
       "  0.014573161490261555,\n",
       "  0.01224702037870884,\n",
       "  0.012176312506198883,\n",
       "  0.011298167519271374]}"
      ]
     },
     "execution_count": 89,
     "metadata": {},
     "output_type": "execute_result"
    }
   ],
   "source": [
    "#prompt = \"I went to the dentist.\"\n",
    "#prompt = \"I have a toothache\"\n",
    "prompt = \"I need to have surgery.\"\n",
    "res = classifier(prompt, texts)\n",
    "res "
   ]
  },
  {
   "cell_type": "code",
   "execution_count": 92,
   "id": "cf7613d6",
   "metadata": {},
   "outputs": [],
   "source": [
    "#np.sum(res['scores'])"
   ]
  },
  {
   "cell_type": "code",
   "execution_count": 96,
   "id": "f61aac9d",
   "metadata": {},
   "outputs": [
    {
     "name": "stdout",
     "output_type": "stream",
     "text": [
      "I need to have surgery. I do not have a math test tomorrow. 0.02\n",
      "I need to have surgery. I have no school tomorrow. 0.01\n",
      "I need to have surgery. I might fail the test. 0.47\n",
      "I need to have surgery. I have the chance to impress my parents if I do well. 0.0\n",
      "I need to have surgery. I have the chance to impress my parents. 0.0\n",
      "I need to have surgery. I think I will cook dinner now. 0.0\n",
      "I need to have surgery. My future job will be hard. 0.77\n",
      "I need to have surgery. I went to the grocery store. 0.0\n",
      "I need to have surgery. I need to study hard. 0.02\n",
      "I need to have surgery. My dog is chewing on his toy. 0.0\n",
      "I need to have surgery. My dog chased a cat around in the park. 0.0\n",
      "I need to have surgery. I went to the dentist 0.06\n",
      "I need to have surgery. I went to the doctor 0.46\n"
     ]
    }
   ],
   "source": [
    "scores = []\n",
    "for ti, text in enumerate(texts):\n",
    "    res = classifier(prompt, text)\n",
    "    score = np.round(res['scores'][0],2)\n",
    "    scores.append(score)\n",
    "    print(f'{prompt} {text} {score}')"
   ]
  },
  {
   "cell_type": "code",
   "execution_count": 98,
   "id": "61849a8e",
   "metadata": {},
   "outputs": [
    {
     "name": "stdout",
     "output_type": "stream",
     "text": [
      "[0.01104972 0.00552486 0.25966851 0.         0.         0.\n",
      " 0.42541436 0.         0.01104972 0.         0.         0.03314917\n",
      " 0.25414365]\n"
     ]
    }
   ],
   "source": [
    "print(np.array(scores)/np.sum(scores))"
   ]
  },
  {
   "cell_type": "code",
   "execution_count": 110,
   "id": "48f33ec8",
   "metadata": {},
   "outputs": [
    {
     "name": "stdout",
     "output_type": "stream",
     "text": [
      "{'sequence': 'I have a math test.', 'labels': ['I finished the credit studies for my AP classes.', 'I had surgery.', 'I went to the doctors.'], 'scores': [0.42004308104515076, 0.30406567454338074, 0.2758912444114685]}\n",
      "\n",
      "{'sequence': 'I went to the doctors.', 'labels': ['I had surgery.', 'I finished the credit studies for my AP classes.', 'I have a math test.'], 'scores': [0.8455312252044678, 0.07818540185689926, 0.07628338038921356]}\n",
      "\n",
      "{'sequence': 'I had surgery.', 'labels': ['I went to the doctors.', 'I have a math test.', 'I finished the credit studies for my AP classes.'], 'scores': [0.9386029839515686, 0.03370364382863045, 0.027693290263414383]}\n",
      "\n",
      "{'sequence': 'I finished the credit studies for my AP classes.', 'labels': ['I have a math test.', 'I went to the doctors.', 'I had surgery.'], 'scores': [0.4430335462093353, 0.369669646024704, 0.18729688227176666]}\n",
      "\n"
     ]
    }
   ],
   "source": [
    "texts = ['I have a math test.', 'I went to the doctors.', 'I had surgery.' ,\n",
    "'I finished the credit studies for my AP classes.']\n",
    "for text in texts:\n",
    "    prompt = text\n",
    "    text_tmp = texts.copy()\n",
    "    text_tmp.remove(text)\n",
    "    res = classifier(prompt, text_tmp)\n",
    "    print(res)\n",
    "    print()"
   ]
  },
  {
   "cell_type": "code",
   "execution_count": 111,
   "id": "21a5a0f5",
   "metadata": {},
   "outputs": [
    {
     "name": "stdout",
     "output_type": "stream",
     "text": [
      "{'sequence': 'I have a math test.', 'labels': ['I will finish the credit studies for my AP classes.', 'I will go to the doctors.', 'I need surgery.'], 'scores': [0.5052475929260254, 0.2510741949081421, 0.24367819726467133]}\n",
      "\n",
      "{'sequence': 'I will go to the doctors.', 'labels': ['I need surgery.', 'I will finish the credit studies for my AP classes.', 'I have a math test.'], 'scores': [0.809511125087738, 0.1013128012418747, 0.0891759917140007]}\n",
      "\n",
      "{'sequence': 'I need surgery.', 'labels': ['I will go to the doctors.', 'I have a math test.', 'I will finish the credit studies for my AP classes.'], 'scores': [0.8930190801620483, 0.06989777833223343, 0.037083085626363754]}\n",
      "\n",
      "{'sequence': 'I will finish the credit studies for my AP classes.', 'labels': ['I have a math test.', 'I will go to the doctors.', 'I need surgery.'], 'scores': [0.4230411648750305, 0.39691033959388733, 0.18004855513572693]}\n",
      "\n"
     ]
    }
   ],
   "source": [
    "texts = ['I have a math test.', 'I will go to the doctors.', 'I need surgery.' ,\n",
    "'I will finish the credit studies for my AP classes.']\n",
    "for text in texts:\n",
    "    prompt = text\n",
    "    text_tmp = texts.copy()\n",
    "    text_tmp.remove(text)\n",
    "    res = classifier(prompt, text_tmp)\n",
    "    print(res)\n",
    "    print()"
   ]
  },
  {
   "cell_type": "markdown",
   "id": "f4672d02",
   "metadata": {},
   "source": [
    "### as zero-shot, for selecting sentences"
   ]
  },
  {
   "cell_type": "code",
   "execution_count": 5,
   "id": "ceb76ff4",
   "metadata": {},
   "outputs": [],
   "source": [
    "from transformers import pipeline\n",
    "import numpy as np\n",
    "from pathlib import Path"
   ]
  },
  {
   "cell_type": "code",
   "execution_count": 2,
   "id": "c1872abb",
   "metadata": {},
   "outputs": [],
   "source": [
    "classifier = pipeline(\"zero-shot-classification\", model='../models/pretrained/nli-distilroberta-base')\n"
   ]
  },
  {
   "cell_type": "code",
   "execution_count": 46,
   "id": "c1e2e26b",
   "metadata": {},
   "outputs": [],
   "source": [
    "save_folder = '/home/cgagne/cvar_generation/data/results/single_sentences_I_1'\n",
    "filename = 'round1_ends.txt'\n",
    "\n",
    "f = open(Path(save_folder) / filename, \"r\")\n",
    "sentences = f.readlines()\n",
    "sentences = [s.replace('\\n','') for s in sentences]\n",
    "\n",
    "filename = 'prompt_list.txt'\n",
    "f = open(Path(save_folder) / filename, \"r\")\n",
    "sentences2 = f.readlines()\n",
    "sentences2 = [s.replace('\\n','') for s in sentences2]\n",
    "\n",
    "sentences.extend(sentences2)"
   ]
  },
  {
   "cell_type": "code",
   "execution_count": 47,
   "id": "606dafb9",
   "metadata": {},
   "outputs": [
    {
     "data": {
      "text/plain": [
       "84"
      ]
     },
     "execution_count": 47,
     "metadata": {},
     "output_type": "execute_result"
    }
   ],
   "source": [
    "len(sentences)"
   ]
  },
  {
   "cell_type": "code",
   "execution_count": 58,
   "id": "9fa5f023",
   "metadata": {},
   "outputs": [
    {
     "name": "stdout",
     "output_type": "stream",
     "text": [
      "I won't slack off.\n",
      "---\n",
      "So on and so forth. 0.0795\n",
      "I did this. 0.0639\n",
      "Nothing seemed to have changed. 0.0609\n",
      "We call that work. 0.0495\n",
      "So that if anyone found me, if you found me, he or she would know my name. 0.0397\n",
      "Please let me get some speed to finish. 0.0342\n",
      "I was the same man in the past. 0.0312\n",
      "I was wearing my hosiery. 0.029\n",
      "I need to think carefully. 0.028\n",
      "I have to get my concentration back. 0.0252\n"
     ]
    }
   ],
   "source": [
    "# select starting thought\n",
    "s1 = np.random.choice(sentences)\n",
    "print(s1)\n",
    "print('---')\n",
    "\n",
    "# consider possible next thoughts (should be all, but simplify to 20 for now)\n",
    "s2_candidates = np.random.choice(sentences, size=len(sentences))\n",
    "s2_candidates = sentences.copy()\n",
    "s2_candidates.remove(s1)\n",
    "res = classifier(s1, s2_candidates)\n",
    "probs = res['scores'] # calculate probabilities \n",
    "probs = probs/np.sum(probs)\n",
    "for l,s in zip(res['labels'][0:10],res['scores'][0:10]):\n",
    "    print(f'{l} {s:.3}')\n",
    "#s2 = np.random.choice(s2_candidates, p=probs)\n",
    "#print(s2)"
   ]
  },
  {
   "cell_type": "markdown",
   "id": "9f07141c",
   "metadata": {},
   "source": [
    "### sentiment scorerers"
   ]
  },
  {
   "cell_type": "code",
   "execution_count": 70,
   "id": "4cc84fcf",
   "metadata": {},
   "outputs": [],
   "source": [
    "from transformers import AutoTokenizer, AutoModelForSequenceClassification\n",
    "from scipy.special import softmax"
   ]
  },
  {
   "cell_type": "code",
   "execution_count": 59,
   "id": "49863b45",
   "metadata": {},
   "outputs": [],
   "source": [
    "save_folder = '/home/cgagne/cvar_generation/data/results/single_sentences_I_1'\n",
    "filename = 'round1_ends.txt'\n",
    "\n",
    "f = open(Path(save_folder) / filename, \"r\")\n",
    "sentences = f.readlines()\n",
    "sentences = [s.replace('\\n','') for s in sentences]\n",
    "\n",
    "filename = 'prompt_list.txt'\n",
    "f = open(Path(save_folder) / filename, \"r\")\n",
    "sentences2 = f.readlines()\n",
    "sentences2 = [s.replace('\\n','') for s in sentences2]\n",
    "\n",
    "sentences.extend(sentences2)"
   ]
  },
  {
   "cell_type": "code",
   "execution_count": 60,
   "id": "35486780",
   "metadata": {},
   "outputs": [
    {
     "data": {
      "text/plain": [
       "84"
      ]
     },
     "execution_count": 60,
     "metadata": {},
     "output_type": "execute_result"
    }
   ],
   "source": [
    "len(sentences)"
   ]
  },
  {
   "cell_type": "code",
   "execution_count": 102,
   "id": "18bfa72a",
   "metadata": {},
   "outputs": [],
   "source": [
    "scorer = '/home/cgagne/cvar_generation/models/pretrained/nlptown-bert-base-multilingual-uncased-sentiment'\n",
    "scorer = '/home/cgagne/cvar_generation/models/pretrained/cardiffnlp-twitter-roberta-base-sentiment'\n",
    "scorer_tokenizer = AutoTokenizer.from_pretrained(scorer)\n",
    "scorer_model = AutoModelForSequenceClassification.from_pretrained(scorer)\n",
    "scorer_model.to('cpu');"
   ]
  },
  {
   "cell_type": "code",
   "execution_count": 103,
   "id": "c78f0b05",
   "metadata": {},
   "outputs": [],
   "source": [
    "output = scorer_model(**scorer_tokenizer(sentences, return_tensors='pt', padding=True))"
   ]
  },
  {
   "cell_type": "code",
   "execution_count": 112,
   "id": "bd1075ad",
   "metadata": {},
   "outputs": [],
   "source": [
    "output = scorer_model(**scorer_tokenizer(sentences, return_tensors='pt', padding=True))\n",
    "probs = softmax(output[0].detach().cpu().numpy(),axis=1)\n",
    "\n",
    "if probs.shape[1]==5:\n",
    "    scores = np.dot(probs,np.arange(-2,3))\n",
    "else:\n",
    "    scores = np.dot(probs,np.arange(-1,2))\n",
    "#scores = np.argmax(probs,axis=1)\n",
    "sort_idx = np.argsort(scores)\n",
    "scores_sorted = [scores[i] for i in sort_idx]\n",
    "sentences_sorted = [sentences[i] for i in sort_idx]"
   ]
  },
  {
   "cell_type": "code",
   "execution_count": 113,
   "id": "c49de583",
   "metadata": {},
   "outputs": [
    {
     "name": "stdout",
     "output_type": "stream",
     "text": [
      "I might even fail the test. -0.930\n",
      "I might fail the test. -0.915\n",
      "I now realize I have dog allergies. -0.887\n",
      "I burned me way too much calories. -0.877\n",
      "The test can be problematic. -0.870\n",
      "I need more surgery. -0.818\n",
      "I slept so badly at first, I fell asleep in the toilet,' said Cobain. -0.803\n",
      "I need surgery. -0.802\n",
      "I'm dropping out. -0.785\n",
      "I don't think I can. -0.663\n",
      "That is neither of your business Nick replied. -0.474\n",
      "I have a slow breakup. -0.458\n",
      "I never saw those road rage incidents, he told a local news outlet. -0.407\n",
      "Nothing seemed to have changed. -0.377\n",
      "This is where it stopped. -0.341\n",
      "I went to the doctors. -0.247\n",
      "We've got to fix up the house. -0.239\n",
      "You aren't that stupid, Bob said sarcastically before notifying Chuck with a yes. -0.237\n",
      "I was the same man in the past. -0.211\n",
      "I need to think carefully. -0.207\n",
      "I have a math test. -0.189\n",
      "I emailed my parents. -0.187\n",
      "I'm seriously starving, but I still want to win just one game. -0.174\n",
      "Well, you get the point, Jones said. -0.165\n",
      "I know who needs a roommate. -0.154\n",
      "I bent the first day of school. -0.121\n",
      "I need to take care of my family. -0.097\n",
      "What will happen when we take the test again. -0.085\n",
      "I pick up stuff for school. -0.080\n",
      "I drank my coffee. -0.046\n",
      "So on and so forth. -0.046\n",
      "Yes… he did have lines, but they seemed to disappear when I removed my eyelids. -0.015\n",
      "I was wearing my hosiery. -0.015\n",
      "I went to bed. -0.005\n",
      "We call that work. -0.003\n",
      "I have to get my concentration back. 0.005\n",
      "I lay down to watch TV. 0.011\n",
      "I walked out to the garage. 0.023\n",
      "I won't slack off. 0.030\n",
      "I went to the grocery store. 0.031\n",
      "I need to study hard. 0.045\n",
      "Picked up the laundry. 0.048\n",
      "I started thinking about what my life was going to be. 0.049\n",
      "I gave myself a shower. 0.071\n",
      "Then it's off to the drawing room. 0.077\n",
      "And I had a hot dish in the sink. 0.092\n",
      "I did this. 0.094\n",
      "I even took my daughter to a doctor's appointment yesterday. 0.097\n",
      "I went to my grandparents' house. 0.109\n",
      "So that if anyone found me, if you found me, he or she would know my name. 0.116\n",
      "I saw a friend. 0.136\n",
      "I packed my jeans. 0.139\n",
      "I bought the groceries. 0.144\n",
      "Please let me get some speed to finish. 0.148\n",
      "I brushed my teeth. 0.169\n",
      "I brushed my teeth. 0.169\n",
      "I ate. 0.176\n",
      "I walked my dog. 0.198\n",
      "I made dinner and talked about football. 0.210\n",
      "I did a little shopping in the mall. 0.214\n",
      "I did what any parent would do. 0.214\n",
      "I made a fridge. 0.222\n",
      "I got up and walked outside. 0.223\n",
      "I travelled to meet someone to say hello. 0.281\n",
      "I made dinner. 0.282\n",
      "I made dinner. 0.282\n",
      "I took the day off and walked to the mall. 0.309\n",
      "I ate dinner. 0.328\n",
      "I met my children and my friends. 0.329\n",
      "I even asked God for dinner. 0.330\n",
      "It's trying to watch someone I love on national TV. 0.341\n",
      "I ate breakfast. 0.347\n",
      "I went home and the dogs were asleep and the cat was alive. 0.376\n",
      "I walked my dog to the park. 0.381\n",
      "My sister is waiting for me there. 0.429\n",
      "I gave the cat me a home. 0.434\n",
      "I had a long walk in the park before getting home. 0.445\n",
      "I woke up early. 0.497\n",
      "I went to the gym. 0.501\n",
      "I just had a conversation with a friend — he wants to teach me how to pitch. 0.509\n",
      "The family also received financial support from Washington Gov. 0.580\n",
      "A visit to the bathroom can kill the sunlight, but it seems to have cured me. 0.630\n",
      "I spent a brief moment with family. 0.637\n",
      "The doctor wrote me my favorite fried chicken recipe. 0.856\n"
     ]
    }
   ],
   "source": [
    "for s,sc in zip(sentences_sorted, scores_sorted):\n",
    "    print(f'{s} {sc:.3f}')"
   ]
  },
  {
   "cell_type": "code",
   "execution_count": 115,
   "id": "7735da08",
   "metadata": {},
   "outputs": [],
   "source": [
    "#probs"
   ]
  },
  {
   "cell_type": "code",
   "execution_count": null,
   "id": "057a82f6",
   "metadata": {},
   "outputs": [],
   "source": []
  }
 ],
 "metadata": {
  "kernelspec": {
   "display_name": "Python 3",
   "language": "python",
   "name": "python3"
  },
  "language_info": {
   "codemirror_mode": {
    "name": "ipython",
    "version": 3
   },
   "file_extension": ".py",
   "mimetype": "text/x-python",
   "name": "python",
   "nbconvert_exporter": "python",
   "pygments_lexer": "ipython3",
   "version": "3.9.12"
  },
  "toc": {
   "base_numbering": 1,
   "nav_menu": {},
   "number_sections": true,
   "sideBar": true,
   "skip_h1_title": false,
   "title_cell": "Table of Contents",
   "title_sidebar": "Contents",
   "toc_cell": false,
   "toc_position": {},
   "toc_section_display": true,
   "toc_window_display": true
  }
 },
 "nbformat": 4,
 "nbformat_minor": 5
}
