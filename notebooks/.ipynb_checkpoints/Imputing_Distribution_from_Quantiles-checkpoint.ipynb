{
 "cells": [
  {
   "cell_type": "code",
   "execution_count": 13,
   "id": "db59e499",
   "metadata": {},
   "outputs": [],
   "source": [
    "import numpy as np\n",
    "import scipy\n",
    "import scipy.stats\n",
    "import matplotlib.pyplot as plt\n",
    "import seaborn as sns\n",
    "%matplotlib inline"
   ]
  },
  {
   "cell_type": "markdown",
   "id": "3abf69ca",
   "metadata": {},
   "source": [
    "### Code"
   ]
  },
  {
   "cell_type": "code",
   "execution_count": 14,
   "id": "f9bc4ddb",
   "metadata": {},
   "outputs": [],
   "source": [
    "def expectile_loss_fn(expectiles, taus, samples):\n",
    "    '''\n",
    "    From Nature Paper Online Code (their notes below)\n",
    "    It's the Expectile loss function for finding samples this time instead of expectiles.\n",
    "    see Rowland et al. 2019 eqn. 8\n",
    "\n",
    "    '''\n",
    "\n",
    "    # distributional TD model: delta_t = (r + \\gamma V*) - V_i\n",
    "    # expectile loss: delta = sample - expectile\n",
    "    delta = (samples[None, :] - expectiles[:, None])\n",
    "\n",
    "    # distributional TD model: alpha^+ delta if delta > 0, alpha^- delta otherwise\n",
    "    # expectile loss: |taus - I_{delta <= 0}| * delta^2\n",
    "\n",
    "    # Note: When used to decode we take the gradient of this loss,\n",
    "    # and then evaluate the mean-squared gradient. That is because *samples* must\n",
    "    # trade-off errors with all expectiles to zero out the gradient of the\n",
    "    # expectile loss.\n",
    "    indic = np.array(delta <= 0., dtype=np.float32)\n",
    "    grad =  np.abs(taus[:, None] - indic) * delta * -0.5\n",
    "    return np.mean(np.square(np.mean(grad, axis=-1)))\n"
   ]
  },
  {
   "cell_type": "code",
   "execution_count": 15,
   "id": "a843343b",
   "metadata": {},
   "outputs": [],
   "source": [
    "def find_expectiles(expectiles0,taus,samples,method='optimize_scipy',alpha=0.01,\n",
    "                    max_iters=10000,precision=0.0001,printt=False):\n",
    "\n",
    "    '''\n",
    "    Given samples, calculate best fitting expectiles.\n",
    "\n",
    "    Notes on gradient descent:\n",
    "        - learning rate needs to be low (0.01 or less) for distributions with rare events\n",
    "        - in general, I don't the grad descent function, but it's nice to know it works\n",
    "\n",
    "    '''\n",
    "    if method=='grad_desc':\n",
    "        expectiles_n = expectiles0.copy()\n",
    "        for _i in range(max_iters):\n",
    "            if printt:\n",
    "                print(_i)\n",
    "            expectiles_c = expectiles_n\n",
    "\n",
    "            # grad over entire dataset (versus at a sample)\n",
    "            grad = np.mean(grad_expectile_loss(expectiles_c,taus,samples),axis=1)\n",
    "            expectiles_n = expectiles_c - alpha*np.squeeze(grad)\n",
    "\n",
    "            step = expectiles_c-expectiles_n\n",
    "            if np.all(np.abs(step)<=precision):\n",
    "                expectiles = expectiles_n\n",
    "                print('here')\n",
    "                break\n",
    "\n",
    "        expectiles = expectiles_n\n",
    "\n",
    "    elif method=='optimize_scipy':\n",
    "        #import pdb; pdb.set_trace()\n",
    "        fn_to_minimize = lambda x: expectile_loss(x, taus, samples)\n",
    "        result = scipy.optimize.minimize(\n",
    "                    fn_to_minimize, method=None, x0=expectiles0)['x']\n",
    "        expectiles = result\n",
    "\n",
    "    return(expectiles)"
   ]
  },
  {
   "cell_type": "code",
   "execution_count": 16,
   "id": "bc94d39e",
   "metadata": {},
   "outputs": [],
   "source": [
    "def impute_distribution(expectiles, taus, minv=-10, maxv=10, method=None,\n",
    "                 max_samples=100, max_epochs=5, N=25):\n",
    "    \"\"\"\n",
    "    From Nature Paper Online Code (their notes below)\n",
    "    They say 'Run decoding given reversal points and asymmetries (taus).'\n",
    "\n",
    "    expectiles were reversal points in their code\n",
    "    Reversal points = (but they were estimated from neurons)\n",
    "\n",
    "    \"\"\"\n",
    "\n",
    "    ind = list(np.argsort(expectiles))\n",
    "    points = expectiles[ind]\n",
    "    tau = taus[ind]\n",
    "\n",
    "    # Robustified optimization to infer distribution\n",
    "    # Generate max_epochs sets of samples,\n",
    "    # each starting the optimization at the best of max_samples initial points.\n",
    "    sampled_dist = []\n",
    "    for _ in range(max_epochs):\n",
    "        # Randomly search for good initial conditions\n",
    "        # This significantly improves the minima found\n",
    "        #import pdb; pdb.set_trace()\n",
    "        samples = np.random.uniform(minv, maxv, size=(max_samples, N))\n",
    "        fvalues = np.array([expectile_loss_fn(points, tau, x0) for x0 in samples])\n",
    "        #np.array([x0 for x0 in samples])\n",
    "\n",
    "        # Perform loss minimizing on expectile loss (w.r.t samples)\n",
    "        x0 = np.array(sorted(samples[fvalues.argmin()]))\n",
    "        fn_to_minimize = lambda x: expectile_loss_fn(points, tau, x)\n",
    "        result = scipy.optimize.minimize(\n",
    "            fn_to_minimize, method=method,\n",
    "            bounds=[(minv, maxv) for _ in x0], x0=x0)['x']\n",
    "\n",
    "        #import pdb; pdb.set_trace()\n",
    "        sampled_dist.extend(result.tolist())\n",
    "\n",
    "    return np.array(sampled_dist), expectile_loss_fn(points, tau, np.array(sampled_dist))"
   ]
  },
  {
   "cell_type": "markdown",
   "id": "187ce506",
   "metadata": {},
   "source": [
    "### Expectile Examples"
   ]
  },
  {
   "cell_type": "code",
   "execution_count": 5,
   "id": "680d5977",
   "metadata": {},
   "outputs": [],
   "source": [
    "x = np.random.normal(0,1, 1000)"
   ]
  },
  {
   "cell_type": "code",
   "execution_count": 10,
   "id": "a27707fa",
   "metadata": {},
   "outputs": [],
   "source": [
    "n_quantiles = 10\n",
    "taus = (2 * np.arange(n_quantiles) + 1) / (2.0 * n_quantiles)"
   ]
  },
  {
   "cell_type": "code",
   "execution_count": 11,
   "id": "34bffc0e",
   "metadata": {},
   "outputs": [],
   "source": [
    "def calc_quantiles(x, taus):\n",
    "    quantiles = []\n",
    "    for tau in taus:\n",
    "        quantiles.append(np.quantile(x, tau))\n",
    "    return(np.array(quantiles))"
   ]
  },
  {
   "cell_type": "code",
   "execution_count": 12,
   "id": "7556b2b2",
   "metadata": {},
   "outputs": [
    {
     "data": {
      "text/plain": [
       "array([-1.64638609, -1.10887061, -0.73659993, -0.42748155, -0.15054027,\n",
       "        0.09400835,  0.39304641,  0.69622456,  1.0426685 ,  1.63792869])"
      ]
     },
     "execution_count": 12,
     "metadata": {},
     "output_type": "execute_result"
    }
   ],
   "source": [
    "calc_quantiles(x, taus)"
   ]
  },
  {
   "cell_type": "code",
   "execution_count": null,
   "id": "ae8b411b",
   "metadata": {},
   "outputs": [],
   "source": [
    "find_expectiles(x, taus)"
   ]
  },
  {
   "cell_type": "code",
   "execution_count": 9,
   "id": "7a421a79",
   "metadata": {},
   "outputs": [
    {
     "data": {
      "image/png": "[encoded data removed]",
      "text/plain": [
       "<Figure size 432x288 with 1 Axes>"
      ]
     },
     "metadata": {
      "needs_background": "light"
     },
     "output_type": "display_data"
    }
   ],
   "source": [
    "plt.hist(x)\n",
    "sns.despine()"
   ]
  },
  {
   "cell_type": "code",
   "execution_count": null,
   "id": "b15a442a",
   "metadata": {},
   "outputs": [],
   "source": []
  }
 ],
 "metadata": {
  "kernelspec": {
   "display_name": "Python 3",
   "language": "python",
   "name": "python3"
  },
  "language_info": {
   "codemirror_mode": {
    "name": "ipython",
    "version": 3
   },
   "file_extension": ".py",
   "mimetype": "text/x-python",
   "name": "python",
   "nbconvert_exporter": "python",
   "pygments_lexer": "ipython3",
   "version": "3.9.12"
  },
  "toc": {
   "base_numbering": 1,
   "nav_menu": {},
   "number_sections": true,
   "sideBar": true,
   "skip_h1_title": false,
   "title_cell": "Table of Contents",
   "title_sidebar": "Contents",
   "toc_cell": false,
   "toc_position": {},
   "toc_section_display": true,
   "toc_window_display": true
  }
 },
 "nbformat": 4,
 "nbformat_minor": 5
}
