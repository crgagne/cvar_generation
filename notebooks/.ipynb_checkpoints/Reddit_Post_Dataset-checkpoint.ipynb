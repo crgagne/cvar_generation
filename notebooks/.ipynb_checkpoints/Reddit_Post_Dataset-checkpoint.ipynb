{
 "cells": [
  {
   "cell_type": "code",
   "execution_count": 4,
   "id": "6288725b",
   "metadata": {},
   "outputs": [],
   "source": [
    "import sys\n",
    "import numpy as np\n",
    "import matplotlib.pyplot as plt\n",
    "import seaborn as sns\n",
    "import pandas as pd\n",
    "%matplotlib inline\n",
    "import os\n",
    "\n",
    "sys.path.append('../')"
   ]
  },
  {
   "cell_type": "code",
   "execution_count": 5,
   "id": "0bdc97da",
   "metadata": {},
   "outputs": [
    {
     "name": "stderr",
     "output_type": "stream",
     "text": [
      "/home/cgagne/cvar_generation/conda_env/lib/python3.9/site-packages/tqdm/auto.py:22: TqdmWarning: IProgress not found. Please update jupyter and ipywidgets. See https://ipywidgets.readthedocs.io/en/stable/user_install.html\n",
      "  from .autonotebook import tqdm as notebook_tqdm\n"
     ]
    }
   ],
   "source": [
    "import datasets\n",
    "from datasets import load_dataset, load_from_disk"
   ]
  },
  {
   "cell_type": "markdown",
   "id": "15e163cb",
   "metadata": {},
   "source": [
    "### Creating"
   ]
  },
  {
   "cell_type": "markdown",
   "id": "34e9e3b4",
   "metadata": {},
   "source": [
    "`python create_post_dataset.py`\n",
    "\n",
    "`python score_dataset_emotions_and_sentiment.py`"
   ]
  },
  {
   "cell_type": "markdown",
   "id": "d8fa58ea",
   "metadata": {},
   "source": [
    "### Inspecting and Moving Datasets from Other Folders"
   ]
  },
  {
   "cell_type": "markdown",
   "id": "688286e3",
   "metadata": {},
   "source": [
    "#### 64M "
   ]
  },
  {
   "cell_type": "code",
   "execution_count": 48,
   "id": "2304b63e",
   "metadata": {},
   "outputs": [],
   "source": [
    "dataset = load_from_disk('/ptmp/cgagne/clean/data/processed/SMHD_all_depression+control/')\n"
   ]
  },
  {
   "cell_type": "code",
   "execution_count": 49,
   "id": "da30522b",
   "metadata": {},
   "outputs": [
    {
     "name": "stdout",
     "output_type": "stream",
     "text": [
      "DatasetDict({\n",
      "    train: Dataset({\n",
      "        features: ['length', 'post', 'token_type_ids', 'user_id', 'user_label', 'utc'],\n",
      "        num_rows: 64654771\n",
      "    })\n",
      "    test: Dataset({\n",
      "        features: ['length', 'post', 'token_type_ids', 'user_id', 'user_label', 'utc'],\n",
      "        num_rows: 8096311\n",
      "    })\n",
      "    validation: Dataset({\n",
      "        features: ['length', 'post', 'token_type_ids', 'user_id', 'user_label', 'utc'],\n",
      "        num_rows: 8110101\n",
      "    })\n",
      "})\n"
     ]
    }
   ],
   "source": [
    "print(dataset)"
   ]
  },
  {
   "cell_type": "code",
   "execution_count": 50,
   "id": "bd4491a8",
   "metadata": {},
   "outputs": [],
   "source": [
    "#dataset.save_to_disk('/home/cgagne/cvar_generation/data/raw/SMHD_all_depression+control_64M/')"
   ]
  },
  {
   "cell_type": "markdown",
   "id": "bbbd81c0",
   "metadata": {},
   "source": [
    "#### 2M"
   ]
  },
  {
   "cell_type": "code",
   "execution_count": 51,
   "id": "1776ddf4",
   "metadata": {},
   "outputs": [],
   "source": [
    "dataset = load_from_disk('/ptmp/cgagne/dev/data/processed/SMHD_all_depression+control_subsampled/')\n"
   ]
  },
  {
   "cell_type": "code",
   "execution_count": 52,
   "id": "f97ae4c9",
   "metadata": {},
   "outputs": [
    {
     "name": "stdout",
     "output_type": "stream",
     "text": [
      "DatasetDict({\n",
      "    train: Dataset({\n",
      "        features: ['attention_mask', 'length', 'post', 'user_id', 'user_label', 'utc'],\n",
      "        num_rows: 1990578\n",
      "    })\n",
      "    test: Dataset({\n",
      "        features: ['attention_mask', 'length', 'post', 'user_id', 'user_label', 'utc'],\n",
      "        num_rows: 985433\n",
      "    })\n",
      "    validation: Dataset({\n",
      "        features: ['attention_mask', 'length', 'post', 'user_id', 'user_label', 'utc'],\n",
      "        num_rows: 979380\n",
      "    })\n",
      "})\n"
     ]
    }
   ],
   "source": [
    "print(dataset)"
   ]
  },
  {
   "cell_type": "code",
   "execution_count": 53,
   "id": "6b3bc11f",
   "metadata": {},
   "outputs": [],
   "source": [
    "#dataset.save_to_disk('/home/cgagne/cvar_generation/data/raw/SMHD_all_depression+control_subsampled_2M/')"
   ]
  },
  {
   "cell_type": "markdown",
   "id": "4d9c7e26",
   "metadata": {},
   "source": [
    "### 4 Processed Datasets"
   ]
  },
  {
   "cell_type": "code",
   "execution_count": 8,
   "id": "b3d65e28",
   "metadata": {},
   "outputs": [],
   "source": [
    "datasets = ['/home/cgagne/cvar_generation/data/preprocessed/SMHD_posts_depctrl_2M_w_emosent/',\n",
    "            '/home/cgagne/cvar_generation/data/preprocessed/SMHD_posts_depctrl_10M_w_emosent/',\n",
    "            '/home/cgagne/cvar_generation/data/preprocessed/SMHD_sentences_depctrl_2M_w_emosent/',\n",
    "            '/home/cgagne/cvar_generation/data/preprocessed/SMHD_sentences_depctrl_10M_w_emosent/',]"
   ]
  },
  {
   "cell_type": "markdown",
   "id": "654fde11",
   "metadata": {},
   "source": [
    "#### Printing Sizes"
   ]
  },
  {
   "cell_type": "code",
   "execution_count": 7,
   "id": "f8b72e9f",
   "metadata": {},
   "outputs": [
    {
     "name": "stdout",
     "output_type": "stream",
     "text": [
      "DatasetDict({\n",
      "    train: Dataset({\n",
      "        features: ['post', 'sentiment', 'admiration', 'amusement', 'anger', 'annoyance', 'approval', 'caring', 'confusion', 'curiosity', 'desire', 'disappointment', 'disapproval', 'disgust', 'embarrassment', 'excitement', 'fear', 'gratitude', 'grief', 'joy', 'love', 'nervousness', 'neutral', 'optimism', 'pride', 'realization', 'relief', 'remorse', 'sadness', 'surprise'],\n",
      "        num_rows: 1741399\n",
      "    })\n",
      "    test: Dataset({\n",
      "        features: ['post', 'sentiment', 'admiration', 'amusement', 'anger', 'annoyance', 'approval', 'caring', 'confusion', 'curiosity', 'desire', 'disappointment', 'disapproval', 'disgust', 'embarrassment', 'excitement', 'fear', 'gratitude', 'grief', 'joy', 'love', 'nervousness', 'neutral', 'optimism', 'pride', 'realization', 'relief', 'remorse', 'sadness', 'surprise'],\n",
      "        num_rows: 862190\n",
      "    })\n",
      "    validation: Dataset({\n",
      "        features: ['post', 'sentiment', 'admiration', 'amusement', 'anger', 'annoyance', 'approval', 'caring', 'confusion', 'curiosity', 'desire', 'disappointment', 'disapproval', 'disgust', 'embarrassment', 'excitement', 'fear', 'gratitude', 'grief', 'joy', 'love', 'nervousness', 'neutral', 'optimism', 'pride', 'realization', 'relief', 'remorse', 'sadness', 'surprise'],\n",
      "        num_rows: 856723\n",
      "    })\n",
      "})\n",
      "{'post': 'If you want to make it a rare occasion again the only thing you can do is force yourself not to take it so often. As for the negative feelings those might just be because of the stigma drugs have that was implanted in you brain as a child or just a fear of addiction which can be a good thing', 'sentiment': -0.22978093475103378, 'admiration': 0.029477791860699654, 'amusement': 0.00039325508987531066, 'anger': 0.00042400555685162544, 'annoyance': 0.0009604915976524353, 'approval': 0.10555727779865265, 'caring': 0.008854708634316921, 'confusion': 0.057299572974443436, 'curiosity': 0.0013764853356406093, 'desire': 0.00035326104261912405, 'disappointment': 0.0007293754024431109, 'disapproval': 0.00888582319021225, 'disgust': 0.00108830607496202, 'embarrassment': 0.00012261973461136222, 'excitement': 0.00042807700810953975, 'fear': 0.41056329011917114, 'gratitude': 0.00011741675552912056, 'grief': 0.0007602205732837319, 'joy': 0.0003590979613363743, 'love': 0.0002813497558236122, 'nervousness': 0.003679549088701606, 'neutral': 0.4182300865650177, 'optimism': 0.003562026424333453, 'pride': 0.0008513148059137166, 'realization': 0.041737161576747894, 'relief': 0.0005155258695594966, 'remorse': 0.00011482810077723116, 'sadness': 0.00043458305299282074, 'surprise': 0.0011925918515771627}\n",
      "DatasetDict({\n",
      "    train: Dataset({\n",
      "        features: ['post', 'sentiment', 'admiration', 'amusement', 'anger', 'annoyance', 'approval', 'caring', 'confusion', 'curiosity', 'desire', 'disappointment', 'disapproval', 'disgust', 'embarrassment', 'excitement', 'fear', 'gratitude', 'grief', 'joy', 'love', 'nervousness', 'neutral', 'optimism', 'pride', 'realization', 'relief', 'remorse', 'sadness', 'surprise'],\n",
      "        num_rows: 8876334\n",
      "    })\n",
      "    test: Dataset({\n",
      "        features: ['post', 'sentiment', 'admiration', 'amusement', 'anger', 'annoyance', 'approval', 'caring', 'confusion', 'curiosity', 'desire', 'disappointment', 'disapproval', 'disgust', 'embarrassment', 'excitement', 'fear', 'gratitude', 'grief', 'joy', 'love', 'nervousness', 'neutral', 'optimism', 'pride', 'realization', 'relief', 'remorse', 'sadness', 'surprise'],\n",
      "        num_rows: 89480\n",
      "    })\n",
      "    validation: Dataset({\n",
      "        features: ['post', 'sentiment', 'admiration', 'amusement', 'anger', 'annoyance', 'approval', 'caring', 'confusion', 'curiosity', 'desire', 'disappointment', 'disapproval', 'disgust', 'embarrassment', 'excitement', 'fear', 'gratitude', 'grief', 'joy', 'love', 'nervousness', 'neutral', 'optimism', 'pride', 'realization', 'relief', 'remorse', 'sadness', 'surprise'],\n",
      "        num_rows: 89262\n",
      "    })\n",
      "})\n",
      "{'post': 'Probably weed, but maby kratom lsd or shrooms', 'sentiment': -0.08321869373321533, 'admiration': 0.0005628381040878594, 'amusement': 0.00041278693242929876, 'anger': 0.0004361861210782081, 'annoyance': 0.0007334945257753134, 'approval': 0.00026271105161868036, 'caring': 0.00035937156644649804, 'confusion': 0.0006910556112416089, 'curiosity': 0.000788640056271106, 'desire': 0.0002843253896571696, 'disappointment': 0.0003196807811036706, 'disapproval': 0.0004899832420051098, 'disgust': 0.0003058544243685901, 'embarrassment': 0.00017431714513804764, 'excitement': 0.00015304842963814735, 'fear': 0.00016924896044656634, 'gratitude': 0.00016047662938944995, 'grief': 0.00011723081115633249, 'joy': 0.00015345306019298732, 'love': 0.00018314537010155618, 'nervousness': 4.80993403471075e-05, 'neutral': 0.9988191723823547, 'optimism': 0.0005448487936519086, 'pride': 0.00012195460294606164, 'realization': 0.00029209794593043625, 'relief': 8.552019426133484e-05, 'remorse': 0.0001577769435243681, 'sadness': 0.000195743385120295, 'surprise': 0.00015483687457162887}\n",
      "DatasetDict({\n",
      "    train: Dataset({\n",
      "        features: ['sentence', 'sentiment', 'admiration', 'amusement', 'anger', 'annoyance', 'approval', 'caring', 'confusion', 'curiosity', 'desire', 'disappointment', 'disapproval', 'disgust', 'embarrassment', 'excitement', 'fear', 'gratitude', 'grief', 'joy', 'love', 'nervousness', 'neutral', 'optimism', 'pride', 'realization', 'relief', 'remorse', 'sadness', 'surprise'],\n",
      "        num_rows: 2105665\n",
      "    })\n",
      "    test: Dataset({\n",
      "        features: ['sentence', 'sentiment', 'admiration', 'amusement', 'anger', 'annoyance', 'approval', 'caring', 'confusion', 'curiosity', 'desire', 'disappointment', 'disapproval', 'disgust', 'embarrassment', 'excitement', 'fear', 'gratitude', 'grief', 'joy', 'love', 'nervousness', 'neutral', 'optimism', 'pride', 'realization', 'relief', 'remorse', 'sadness', 'surprise'],\n",
      "        num_rows: 1042193\n",
      "    })\n",
      "    validation: Dataset({\n",
      "        features: ['sentence', 'sentiment', 'admiration', 'amusement', 'anger', 'annoyance', 'approval', 'caring', 'confusion', 'curiosity', 'desire', 'disappointment', 'disapproval', 'disgust', 'embarrassment', 'excitement', 'fear', 'gratitude', 'grief', 'joy', 'love', 'nervousness', 'neutral', 'optimism', 'pride', 'realization', 'relief', 'remorse', 'sadness', 'surprise'],\n",
      "        num_rows: 1039376\n",
      "    })\n",
      "})\n",
      "{'sentence': 'If you want to make it a rare occasion again the only thing you can do is force yourself not to take it so often.', 'sentiment': 0.17119667679071426, 'admiration': 0.0003602876386139542, 'amusement': 0.000244917202508077, 'anger': 0.0002679458411876112, 'annoyance': 0.0006114949937909842, 'approval': 0.0010820929892361164, 'caring': 0.002307576360180974, 'confusion': 0.0008844807161949575, 'curiosity': 0.0003064136253669858, 'desire': 0.0002924281288869679, 'disappointment': 0.0007932017324492335, 'disapproval': 0.0017227467615157366, 'disgust': 0.0001458086189813912, 'embarrassment': 0.0001072290469892323, 'excitement': 0.0001065140386344865, 'fear': 0.0001950225851032883, 'gratitude': 5.7074983487837017e-05, 'grief': 0.00015511350648012012, 'joy': 0.00015541182074230164, 'love': 0.00018884733435697854, 'nervousness': 0.00012774078641086817, 'neutral': 0.9974405765533447, 'optimism': 0.0007956051849760115, 'pride': 0.0001476992474636063, 'realization': 0.003502489998936653, 'relief': 0.00016594523913227022, 'remorse': 0.00014907610602676868, 'sadness': 0.00021940145234111696, 'surprise': 0.00012160263577243313}\n",
      "DatasetDict({\n",
      "    train: Dataset({\n",
      "        features: ['sentence', 'sentiment', 'admiration', 'amusement', 'anger', 'annoyance', 'approval', 'caring', 'confusion', 'curiosity', 'desire', 'disappointment', 'disapproval', 'disgust', 'embarrassment', 'excitement', 'fear', 'gratitude', 'grief', 'joy', 'love', 'nervousness', 'neutral', 'optimism', 'pride', 'realization', 'relief', 'remorse', 'sadness', 'surprise'],\n",
      "        num_rows: 9625718\n",
      "    })\n",
      "    test: Dataset({\n",
      "        features: ['sentence', 'sentiment', 'admiration', 'amusement', 'anger', 'annoyance', 'approval', 'caring', 'confusion', 'curiosity', 'desire', 'disappointment', 'disapproval', 'disgust', 'embarrassment', 'excitement', 'fear', 'gratitude', 'grief', 'joy', 'love', 'nervousness', 'neutral', 'optimism', 'pride', 'realization', 'relief', 'remorse', 'sadness', 'surprise'],\n",
      "        num_rows: 96899\n",
      "    })\n",
      "    validation: Dataset({\n",
      "        features: ['sentence', 'sentiment', 'admiration', 'amusement', 'anger', 'annoyance', 'approval', 'caring', 'confusion', 'curiosity', 'desire', 'disappointment', 'disapproval', 'disgust', 'embarrassment', 'excitement', 'fear', 'gratitude', 'grief', 'joy', 'love', 'nervousness', 'neutral', 'optimism', 'pride', 'realization', 'relief', 'remorse', 'sadness', 'surprise'],\n",
      "        num_rows: 96685\n",
      "    })\n",
      "})\n",
      "{'sentence': 'Probably weed, but maby kratom lsd or shrooms.', 'sentiment': -0.09681829065084457, 'admiration': 0.0005525489686988294, 'amusement': 0.00042146496707573533, 'anger': 0.000415841699577868, 'annoyance': 0.0006918292492628098, 'approval': 0.00026216733385808766, 'caring': 0.0003512950788717717, 'confusion': 0.0008059522951953113, 'curiosity': 0.0008772204164415598, 'desire': 0.00026639632415026426, 'disappointment': 0.00030763831455260515, 'disapproval': 0.000485472206491977, 'disgust': 0.0002938966208603233, 'embarrassment': 0.0001691603974904865, 'excitement': 0.00014888064470142126, 'fear': 0.00016300399147439748, 'gratitude': 0.00014741558698005974, 'grief': 0.0001141270695370622, 'joy': 0.00015269085997715592, 'love': 0.00017469734302721918, 'nervousness': 4.780904419021681e-05, 'neutral': 0.9987834095954895, 'optimism': 0.0005479854298755527, 'pride': 0.00011332835856592283, 'realization': 0.0002872287295758724, 'relief': 8.199317380785942e-05, 'remorse': 0.00015321372484322637, 'sadness': 0.00018918397836387157, 'surprise': 0.00015575184079352766}\n"
     ]
    }
   ],
   "source": [
    "for dataset_name in datasets:\n",
    "    dataset = load_from_disk(dataset_name)\n",
    "    print(dataset)\n",
    "    print(dataset['train'][0])"
   ]
  },
  {
   "cell_type": "markdown",
   "id": "461ba622",
   "metadata": {},
   "source": [
    "#### Exploring Emotional Posts 10M"
   ]
  },
  {
   "cell_type": "code",
   "execution_count": 9,
   "id": "99edd60c",
   "metadata": {},
   "outputs": [],
   "source": [
    "dataset = load_from_disk(datasets[1])\n"
   ]
  },
  {
   "cell_type": "code",
   "execution_count": 10,
   "id": "d28382bd",
   "metadata": {},
   "outputs": [
    {
     "name": "stdout",
     "output_type": "stream",
     "text": [
      "DatasetDict({\n",
      "    train: Dataset({\n",
      "        features: ['post', 'sentiment', 'admiration', 'amusement', 'anger', 'annoyance', 'approval', 'caring', 'confusion', 'curiosity', 'desire', 'disappointment', 'disapproval', 'disgust', 'embarrassment', 'excitement', 'fear', 'gratitude', 'grief', 'joy', 'love', 'nervousness', 'neutral', 'optimism', 'pride', 'realization', 'relief', 'remorse', 'sadness', 'surprise'],\n",
      "        num_rows: 8876334\n",
      "    })\n",
      "    test: Dataset({\n",
      "        features: ['post', 'sentiment', 'admiration', 'amusement', 'anger', 'annoyance', 'approval', 'caring', 'confusion', 'curiosity', 'desire', 'disappointment', 'disapproval', 'disgust', 'embarrassment', 'excitement', 'fear', 'gratitude', 'grief', 'joy', 'love', 'nervousness', 'neutral', 'optimism', 'pride', 'realization', 'relief', 'remorse', 'sadness', 'surprise'],\n",
      "        num_rows: 89480\n",
      "    })\n",
      "    validation: Dataset({\n",
      "        features: ['post', 'sentiment', 'admiration', 'amusement', 'anger', 'annoyance', 'approval', 'caring', 'confusion', 'curiosity', 'desire', 'disappointment', 'disapproval', 'disgust', 'embarrassment', 'excitement', 'fear', 'gratitude', 'grief', 'joy', 'love', 'nervousness', 'neutral', 'optimism', 'pride', 'realization', 'relief', 'remorse', 'sadness', 'surprise'],\n",
      "        num_rows: 89262\n",
      "    })\n",
      "})\n"
     ]
    }
   ],
   "source": [
    "print(dataset)"
   ]
  },
  {
   "cell_type": "code",
   "execution_count": 11,
   "id": "71895c0c",
   "metadata": {},
   "outputs": [
    {
     "data": {
      "text/plain": [
       "['I am sick of fucking Arian Foster doing nothing. :(',\n",
       " 'Fucking bf4... Worst fucking gaming experience so far... I get angry everytime i play because it freeze a way too much... Hate it... 100$ in the garbage',\n",
       " 'WW2 is fucking awful, played 9 hours today and want a refund.',\n",
       " 'I cannot believe that blizzard would let this horrible crime against humanity stay in the game so long! This is destroying my experience. I am immediately going to uninstall Overwatch and rate the game 1/5 stars because this is making the game LITERALLY UNPLAYABLE.',\n",
       " \"the defense is fucking atrocious, i'm already tired of this shit and it's the 4th game of the season\",\n",
       " \"I don't know what it is about this game, but I fucking suck dick with the Sniper Rifle ONLY in Team Snipers. I don't know if it's the kickback that makes your crosshair shoot up a FUCKING MILE when you get shot, or if they just took off aim assist in this playlist, but it really bugs the fuck out of me. Is anyone else having problems?\",\n",
       " 'Every time I go to our zoo, I feel sad. I do not like our zoo and the animals look bored to death. We have a terrible zoo!',\n",
       " 'I live down the road from psa and they just suck. Terrible service and terrible attitudes all around.',\n",
       " 'oh god ubus 310?? is the worst fucking class ever. that shit, coupled with dekalb being a shithole made me transfer back to my old school.',\n",
       " 'I hate this person with every fiber of my being, every hour he posts stupid \"like this if you ___\" posts and I can\\'t make it stop, even if I block him I still see his posts.',\n",
       " \"I'm here at the game right now. Pathetic baseball team. Not even making an effort since before the first pitch. They've quit. Total waste of money. I HATE THIS TEAM MORE THAN ANY OTHER TEAM I HAVE EVER WATCHED IN ANY SPORT. FIRE EVERYONE.\",\n",
       " '[This shit]( is frustrating as fuck. Why are we so spread out :(',\n",
       " \"God damn fried chicken. I've found one place in this entire country that sells it, and it's not even that good =(\",\n",
       " 'Dont go to Disney world. Place sucks. People are rude, the staff are assholes, and the whole atmosphere sucks.',\n",
       " \"The Hangover. Don't understand why people rate this film. I found it unfunny and the characters unlikable.\",\n",
       " \"My framerate is a usual 30 fps on medium settings. The hitching is ruining it though, and the game crashes, and this game is just NOT fun. I can not do SHIT! I fucking hate this game and I'm uninstalling it. IDGAF what you people think this game just isnt fun when I KEEP FUCKING DYING.\",\n",
       " 'This is like the worst fucking day of my fucking life. All my boys broke up. FeelsBadMan',\n",
       " \"Fuck psyonix and there bullshit fucking asses, I can't even play ranked because of freezing(not an issue on my end)! Have contacted them multiple times about the issue and have gotten either no response or a response of, it's my networking. BULSHIT!!!! Fuck you psyonix!\",\n",
       " \"Fuck The Rocky Horror Picture Show. It isn't about anything, and the songs are annoying. Furthermore, people SINGING ALONG don't help at all.\",\n",
       " 'As a Canadian, Boston Pizza. Fucking horrible food, service and prices.']"
      ]
     },
     "execution_count": 11,
     "metadata": {},
     "output_type": "execute_result"
    }
   ],
   "source": [
    "dataset=dataset.sort('sentiment')\n",
    "dataset['train'][0:20]['post']"
   ]
  },
  {
   "cell_type": "code",
   "execution_count": 12,
   "id": "58960ebf",
   "metadata": {},
   "outputs": [
    {
     "data": {
      "text/plain": [
       "[\"With that, you've made me very excited for tomorrow! Thanks :)\",\n",
       " 'Thank you my friend! Cant wait to buy the game on Friday, im really quite excited to start my journey :)',\n",
       " 'I am so happy to have stumbled on this. Thank you for everything! Hope you have a great night!',\n",
       " 'Already signed up and am working on the first project! I love it so far! Thanks for the insight :)',\n",
       " 'Glad to see another Seattleite on here :) congrats on the beautiful purchase!',\n",
       " \"This is a dream come true, so yes...I'm VERY happy with this opportunity! The more I read on here, the better I feel about it. Thanks everyone!!\",\n",
       " 'Will do! It’s already been a blast. The Day 5 Season 2 premiere last night was amazing and the perfect way to start it off. The Paramount Theatre is beautiful.',\n",
       " 'Oh man, my favorite birthday memory is when my boyfriend saved up a lot of money to take me to a really nice restaurant in the city. We ended up going to this place called The White Chocolate Grill and man, I was in awe. The food was beautiful and the service was so nice. We ended up getting two free appetizers. It was a great birthday and I really appreciated my boyfriend taking me out on an awesome birthday dinner. woop twentyfive happy birthday~~',\n",
       " 'Congrats!! Also, I love seeing another Monday wedding. It makes me feel at ease with my Monday date every time I see one. Hope goes well!',\n",
       " \"Thats a good start! You look like you have a great body. I can't wait for some more :)\",\n",
       " \"Can't wait for this giveaway :D Eon Neon!!! Thank you for hosting this giveaway :D Appreciate it!\",\n",
       " \"This week was great! I just celebrated my three month anniversary with my secondary, C, and my primary had a date this weekend that went pretty well. The date might be joining us game night later this week, so I'm super excited to meet them :)\",\n",
       " 'Happy Birthday to you!!!! :) Deposited a level 15 Mienfoo (Female) :D Thank you &amp; HBD! HAVE A BLAST!',\n",
       " 'Looks like the consensus is 4!! I’m so appreciative and excited that you all love that photo too ❤️ I️ will be sure to post the final save the date - all your help has been invaluable!',\n",
       " \"I just wanted to thank all of you for a great year. This month does mark our one year anniversary! Thank you [DivineBurke]( for putting together the first meetup of the DC Gaymers. I'm very pleased with the huge diverse group and the large network we have established. I look forward to another year of great times and adventures. I will be soon organizing a trip out to Secrets for the uninitiated. I hope everyone has a great and safe holiday coming up. Cheers!\",\n",
       " \"Ahhh I just joined this sub a couple week ago and I love it! Glad to hear you're doing well and I'm looking forward to seeing more short stories 😊\",\n",
       " \"Looks good, I'm excited for my own to come within the next few days hopefully :)\",\n",
       " 'Thank you very much for taking the time to come back to let me know. It’s great to find out that people are enjoying the story and I’m very excited about where things go next. I can’t wait to get you the second book. :)',\n",
       " \"It's a great pleasure to have EMC2 on board :)\"]"
      ]
     },
     "execution_count": 12,
     "metadata": {},
     "output_type": "execute_result"
    }
   ],
   "source": [
    "dataset['train'][-20:-1]['post']"
   ]
  },
  {
   "cell_type": "code",
   "execution_count": 13,
   "id": "6b4c034f",
   "metadata": {},
   "outputs": [
    {
     "data": {
      "text/plain": [
       "[\"It's a show dog, dude. This fucking dog has fucking papers!\",\n",
       " \"Everyone shitting on you, thinking you're an angsty teen, (you could be) but i feel the pain. My roommate does this all the fucking time and it's infuriating.\",\n",
       " \"I'll be the asshole here: Your vet is lying. Your dogs are pretty stupid.\",\n",
       " \"I didn't watch this because I don't need to see it to know how fucked up it is. But to me the really fucked up thing is the asshole just standing there and videoing this attempted murder. I'm so tired of seeing mother fuckers stand by and video tape instead of helping.\",\n",
       " 'If I was the driver I would’ve gotten out and beat the ever living dog shit out of this guy, injured or not who gives a fuck. I hate morons that play in the streets then get all shocked because they got hit with a car lmao. The fuck did you think was going to happen cool guy? We were all going to stop traffic so you can land your kick flip? Get the fuck out of here. We should flip the script on people like this and drive our cars inside the skate parks and then hit one of them. Idk sounds fair.',\n",
       " 'I work security at a really busy entertainment district and our beer garden gets very busy on the weekends. Groups GROUPS of grown ass men and women will stand in the entrance for eternity while a herd of humans desperately tries to claw past. Fuck you, fuck your pointless drunk conversation; these other drunk motherfuckers need to get in to spend money to pay me... I will fucking throat punch you.',\n",
       " \"Shut the fuck up, how do you think it's okay to make fun of someone with a disease?\",\n",
       " 'Youtube gets worse and worse every year. Who the fuck makes these decisions? I want to tweet obscenities at them.',\n",
       " \"That video made me more mad than anything. I just kept thinking that poor animal. I wanted to beat the fuck outta her. I couldn't stand watching it.! Why do people think it's funny t abuse animals. When she kept jumping on the pony, I wanted I lie her down and fucking jump of her! What the fuck is wrong with people!!! Fuck!\",\n",
       " 'Dude, I was fucking close. These little 12 year old assholes kept talking during Doctor Strange and yelling at the screen I was about to kick their asses',\n",
       " 'Show me your fuck holes too, you nasty fuck slut. Your ass is a fucking joke. My cock started getting soft while I looked at your picture in my feed. I though, who the fuck would show such a half assed, no erotic picture here... oh thats right, you. You are a dumb fucking bitch with a mediocre ass',\n",
       " \"Yeah hate all you want, but everything star trek is garbage. Including the new movies. They are garbage in purest form and you're making fun of star wars. Shut the fuck up you stupid little fanboy. You're just upset that the person that made that stupid worthless franchise even worse, didn't hurt star wars at all. That's where all this bitterness comes from. Go fuck yourself you pathetic little fanboy.\",\n",
       " 'Fuck you, Odorrrrr!!!! What a waste of a draft pick!',\n",
       " \"Fuck this crybaby who can't handle criticism of his faith. He has to resort to violence because he has no other response. It's funny how he thinks he has to stand up for an all knowing, all powerful being. The guy yelling was being a bit of a dick but the real bad guy is the one who commit assault and then blamed the victim. Fuck allah, and fuck all other gods while you're at it. Let's see how low my karma can get from the rest of you little babies.\",\n",
       " 'Turkeys are fucking assholes. They roam around my town, block traffic, get on your roof and cause a ruckus. Fuck turkeys.',\n",
       " 'The routine fuckups, some from the previous governments are still fucking up because fuck ups fuck up and vote them in.',\n",
       " \"Dude what the fuck are you talking about. Don't ever say the words placebo nebula to my face. That was hard to read.\",\n",
       " 'Not fucking far away enough, this is fucking bullshit muthafucka, godamn niggas shitting down each others fucking gagpipes while eating shit and and whatnot, bitch',\n",
       " 'This makes me so angry. Little by little our rights are being taken away. I hate everyone who voted for him. Our beautiful country is going to shit.']"
      ]
     },
     "execution_count": 13,
     "metadata": {},
     "output_type": "execute_result"
    }
   ],
   "source": [
    "dataset=dataset.sort('anger')\n",
    "dataset['train'][-20:-1]['post']"
   ]
  },
  {
   "cell_type": "code",
   "execution_count": 14,
   "id": "f71130f3",
   "metadata": {},
   "outputs": [
    {
     "data": {
      "text/plain": [
       "['I love fishing and have been for many years now. I still find it sad thinking of how helpless fish are with hooks lodged in their mouth',\n",
       " 'I got all excited because we have a tilted kilt here in raleigh but then i saw the top comment about the one in denver and got sad because i thought it was one of a kind. Sad.',\n",
       " \"Lost my dad December 21st 2012, he is my best friend next to my wife. I still have his phone number in my contacts. This makes me want to talk to him so bad. My miss and want to hear his voice goes so deep I can't even begin to describe. And darn it for making me want to burst into tears right now.\",\n",
       " 'It\\'s sad to know these things happen and it\\'s worse knowing it was perpetrated by family members who are supposed to \"love\" you.',\n",
       " \"I'm genuinely very sad now... But at the same time I'm so glad this sick, sick kid is going to prison. I have a pet cat, and if anything ever happened to her like this I would be beyond furious. That poor cat.\",\n",
       " 'ikr my life is sad and cringy',\n",
       " 'My fiance left me a month ago. I still cry all night and I feel like its getting worse.',\n",
       " \"This is my favorite as well! It's so spooky and sad. Poor Dick.\",\n",
       " 'Damn this is so sad I love big black.. RIP',\n",
       " 'I love that song but it always makes me feel so uncomfortable and sad.',\n",
       " 'That is really sad. I love Alien 3.',\n",
       " \"Family Circus. Wait, I never found that funny. I still love the Lockhorns. It's sad how much two people can live with but loathe another person.\",\n",
       " \"Here I am in Vegas. Eating at Dennys. On the eve of my best friends wedding. A friend I have been in love with for 8 years. But I can't give her up. I'm horribly sad. Struggling not to cry in public. There is alot more to this, but I can't type it all. Posting here cause I got no one else to talk with.\",\n",
       " 'Sad. Shrug.',\n",
       " 'Crap. Currently reading Unseen Academicals. So sad to know there are only a few Discworld books left. RIP Terry, you will be sorely missed.',\n",
       " 'i love it! came across the pic while looking for flights on one... sad that their days are numbered. slowly being phased out.',\n",
       " \"I would love to see both Sweden and Italy in the world cup! It's so sad .. Italy has always been my second team since I was a kid! in 1994 I cried for you .. this is very sad :(\",\n",
       " \"I finished Dark Souls III months ago, and I'm still in love with it. Sad that it's over =[\",\n",
       " 'I feel like crying for you 😕']"
      ]
     },
     "execution_count": 14,
     "metadata": {},
     "output_type": "execute_result"
    }
   ],
   "source": [
    "dataset=dataset.sort('sadness')\n",
    "dataset['train'][-20:-1]['post']"
   ]
  },
  {
   "cell_type": "code",
   "execution_count": null,
   "id": "448dbb4e",
   "metadata": {},
   "outputs": [],
   "source": [
    "EMOTIONS = ['admiration','amusement','anger','annoyance','approval','caring',\n",
    " 'confusion','curiosity','desire','disappointment','disapproval','disgust','embarrassment',\n",
    " 'excitement','fear','gratitude','grief','joy','love','nervousness','optimism','pride',\n",
    " 'realization','relief','remorse','sadness','surprise','neutral']\n",
    "\n",
    "for emotion in EMOTIONS:\n",
    "    perc =  np.mean(np.array(dataset['train'][emotion])>0.8)\n",
    "    counts =  np.sum(np.array(dataset['train'][emotion])>0.8)\n",
    "    print(f'{emotion}: {perc} {counts}')"
   ]
  },
  {
   "cell_type": "markdown",
   "id": "a4a2a7cc",
   "metadata": {},
   "source": [
    "#### Exploring Emotional Sentences 10M"
   ]
  },
  {
   "cell_type": "code",
   "execution_count": 15,
   "id": "2dd98f5d",
   "metadata": {},
   "outputs": [],
   "source": [
    "dataset = load_from_disk(datasets[3])\n"
   ]
  },
  {
   "cell_type": "code",
   "execution_count": 16,
   "id": "603e8df8",
   "metadata": {},
   "outputs": [
    {
     "name": "stdout",
     "output_type": "stream",
     "text": [
      "DatasetDict({\n",
      "    train: Dataset({\n",
      "        features: ['sentence', 'sentiment', 'admiration', 'amusement', 'anger', 'annoyance', 'approval', 'caring', 'confusion', 'curiosity', 'desire', 'disappointment', 'disapproval', 'disgust', 'embarrassment', 'excitement', 'fear', 'gratitude', 'grief', 'joy', 'love', 'nervousness', 'neutral', 'optimism', 'pride', 'realization', 'relief', 'remorse', 'sadness', 'surprise'],\n",
      "        num_rows: 9625718\n",
      "    })\n",
      "    test: Dataset({\n",
      "        features: ['sentence', 'sentiment', 'admiration', 'amusement', 'anger', 'annoyance', 'approval', 'caring', 'confusion', 'curiosity', 'desire', 'disappointment', 'disapproval', 'disgust', 'embarrassment', 'excitement', 'fear', 'gratitude', 'grief', 'joy', 'love', 'nervousness', 'neutral', 'optimism', 'pride', 'realization', 'relief', 'remorse', 'sadness', 'surprise'],\n",
      "        num_rows: 96899\n",
      "    })\n",
      "    validation: Dataset({\n",
      "        features: ['sentence', 'sentiment', 'admiration', 'amusement', 'anger', 'annoyance', 'approval', 'caring', 'confusion', 'curiosity', 'desire', 'disappointment', 'disapproval', 'disgust', 'embarrassment', 'excitement', 'fear', 'gratitude', 'grief', 'joy', 'love', 'nervousness', 'neutral', 'optimism', 'pride', 'realization', 'relief', 'remorse', 'sadness', 'surprise'],\n",
      "        num_rows: 96685\n",
      "    })\n",
      "})\n"
     ]
    }
   ],
   "source": [
    "print(dataset)"
   ]
  },
  {
   "cell_type": "code",
   "execution_count": 17,
   "id": "0a28d88a",
   "metadata": {},
   "outputs": [
    {
     "data": {
      "text/plain": [
       "['WHAT THE FUCK AM I GOING TO DO NOW!?!? This is the worst thing that has happened to me all day, and I vomited from pain earlier.',\n",
       " 'WW2 is fucking awful, played 9 hours today and want a refund.',\n",
       " 'The intro to Scrubs annoys me to no end because the lung fields are burned out and the heart shadow is backwards.',\n",
       " \"I already don't understand how my bf does work under what his degree is and it is one of my negative things about him that irritates me all the time.\",\n",
       " \"That's been added in a patch, Iget no hitching but the fucking game crashes every 30-1hour so I just uninstalled this shit game because it's just not fucking fun.\",\n",
       " 'I hate this person with every fiber of my being, every hour he posts stupid \"like this if you ___\" posts and I can\\'t make it stop, even if I block him I still see his posts.',\n",
       " \"I hate this place, the medications don't work I've been here for 7 years.\",\n",
       " \"I hate this place, the medications don't work I've been here for 7 years.\",\n",
       " \"I hate this place, the medications don't work I've been here for 7 years.\",\n",
       " \"I hate this place, the medications don't work I've been here for 7 years.\",\n",
       " \"the defense is fucking atrocious, i'm already tired of this shit and it's the 4th game of the season.\",\n",
       " 'Only thing that sucks is there are two people in cevo who are awful and annoying as all fuck and cry all the time on mic every game.',\n",
       " 'josh is a neighbour who always empties his grass on our fucking lawn every week for the past month, that goddamn asshole.',\n",
       " 'This song annoys me so much, you get about halfway through when the backing becomes **really** frustrating, the stupid noise which sounds like somebody rewinding a tape.',\n",
       " 'I cannot comprehend how fucking homophobic these ass hats in my class are, THEY GOT MY FAVORITE TEACHER TO QUIT.',\n",
       " 'Hello friend, It pains me to inform you that i can not load tinypic at my place of work due that website sucks crap.',\n",
       " 'I\\'m not voting because both sides are assholes and why should I waste my fucking gas, time, and money to drive to a polling place to write in \"Mickey Mouse\" because the 2 candidates for every position are fucking assholes.',\n",
       " \"what pisses me off the most right now is that i'm pissed of at something that does not affect me whatsoever.\",\n",
       " 'This really seems like an awful article; from the opening paragraphs to the closing, he insults his readers.',\n",
       " 'Actually i give a huge shit about the desert sickness its why i dont go into the desert because it annoys me greatly.']"
      ]
     },
     "execution_count": 17,
     "metadata": {},
     "output_type": "execute_result"
    }
   ],
   "source": [
    "dataset=dataset.sort('sentiment')\n",
    "dataset['train'][0:20]['sentence']"
   ]
  },
  {
   "cell_type": "code",
   "execution_count": 18,
   "id": "ae292a33",
   "metadata": {},
   "outputs": [
    {
     "data": {
      "text/plain": [
       "[\"Pledged $25! I love this community and I can't wait to see the movie! :D.\",\n",
       " 'I love us too!💋💋💋you look great.',\n",
       " \"And thanks! I only started seriously lifting last month, and I'm really enjoying it so far! I LOVE THE VICTORIES! Good luck! :D.\",\n",
       " 'I have an All in One and its the best thing ever! Kinda excited for the smocan.',\n",
       " \"My absolute favorite poster here, it's a great day when you post! :) :).\",\n",
       " \"The best present anybody's ever given me for they'e birthday! =P HAPPY BIRTHDAY! &lt;3.\",\n",
       " 'Oh my god, congrats!! I hope you have a blast at homecoming! &lt;3 And *yes,* my friends bring out the best in me whenever we go out together.',\n",
       " 'You guys are MORE than welcome to come! I love meeting people from new cities! :D.',\n",
       " 'Easily the best week! Sooo gooood! Honorable mentions for: Portiabella.',\n",
       " \"Can't wait to see it! The video I'm making now looks great so far, one of my best.\",\n",
       " \"Thank you for doing this much already! It's looking awesome and I'm excited to see the final product! :D.\",\n",
       " \"It's so nice to hear about your experience! Cheers and have a blast this weekend! 🎉.\",\n",
       " 'You’re looking absolutely gorgeous my dear!!! Glad to see your classy self back!! Hope to see more of you!! Kisses kisses kisses!! ❤️❤️❤️😘😘😘.',\n",
       " 'I’m very glad you did!!! Absolutely beautiful!!! ❤️❤️😘😘👅👅👅👅.',\n",
       " 'Because I genuinely look forward to these every day! Thanks for making the holidays full of Hiddles cheer! &lt;3.',\n",
       " \"Looks good, I'm excited for my own to come within the next few days hopefully :).\",\n",
       " '^^hypehypeHYPE So glad to see my favourite gamemode hosted again, ily &lt;3.',\n",
       " \"Ahhh I just joined this sub a couple week ago and I love it! Glad to hear you're doing well and I'm looking forward to seeing more short stories 😊.\",\n",
       " \"Thank you, friend :) It was a true pleasure getting to chat with you! I can't wait to get this ball rolling.\"]"
      ]
     },
     "execution_count": 18,
     "metadata": {},
     "output_type": "execute_result"
    }
   ],
   "source": [
    "dataset['train'][-20:-1]['sentence']"
   ]
  },
  {
   "cell_type": "code",
   "execution_count": 19,
   "id": "b7d4a267",
   "metadata": {},
   "outputs": [
    {
     "data": {
      "text/plain": [
       "['You nintoddlers are such fucking suckers and losers.',\n",
       " \"All you motherfuckers are gonna pay! You are the ones who are the ball-lickers! We're gonna fuck your mothers while you watch and cry like little, whiny bitches.\",\n",
       " 'This shits harder than a wedding dick!\" All day yelling and getting pissed off at me and the layout that was drawn out.',\n",
       " 'Shut the fuck up, people are here to study, if you want to chat and giggle about yesterday party get out and go to the cafetaria.',\n",
       " 'Just shut the fuck up until the game ends.',\n",
       " \"Dammit Kellogg! First, my son and now this?! You're fucking dead, bastard.\",\n",
       " 'I am gonna kick YOUR ass, bro.',\n",
       " \"Well damn dude I was just saying if your next to a group of kids, don't talk about how fucking hammered you got and then fucked the shit out of that blonde bitch.\",\n",
       " 'Just cause u want to scam the life out of people and you are a selfish, greedy bastard.',\n",
       " \"It's what a fuckin idiot would say, fuck you Tammy, you're the biggest fuckin slut of the universe and every alternative timeline, I hope a fuckin planet falls in your fuckin face.\",\n",
       " 'What the fuck is up with white guys and causing harm to their junk? Reddit is like an encyclopedia of genital destruction.',\n",
       " \"Of course, then there's the fucking heat, the shitty education system, the stupid politics, and the fucking heat.\",\n",
       " \"It's so infuriating for the opponent because it's such a ridiculous celebration.\",\n",
       " \"Anyone who starts mouthing off about people's weight and claims it's out of concern for their health is a fucking liar and a bully.\",\n",
       " \"Your guy's site fucking sucks, your technical support fucking sucks, you guys waste everyone's time and insult anyone who wants to do anything Internet related.\",\n",
       " 'What a scam fest, and what shitty management.',\n",
       " 'Throwing away all the boxes and manuals when I was younger, thinking it was just trash.',\n",
       " 'The routine fuckups, some from the previous governments are still fucking up because fuck ups fuck up and vote them in.',\n",
       " 'Addressing babies as objects really, I hate arrogant parents, especially gamer parents Person over microphone: bla bla bla (baby crying background) me: you should shut that baby up like 5 people on their mocrophones: WTF DUDE RABBLE RABBLE BLAH RABBLE ITS A BABY OMG seriously get your heads out of your asses, retards.']"
      ]
     },
     "execution_count": 19,
     "metadata": {},
     "output_type": "execute_result"
    }
   ],
   "source": [
    "dataset=dataset.sort('anger')\n",
    "dataset['train'][-20:-1]['sentence']"
   ]
  },
  {
   "cell_type": "code",
   "execution_count": 20,
   "id": "d4349b7d",
   "metadata": {},
   "outputs": [
    {
     "data": {
      "text/plain": [
       "[\"I fell in love with the characters and now I'm sad because i finished the book.\",\n",
       " 'Which is really very sad for me because I love the taste of grapefruit.',\n",
       " \"I love PC personally, so it's sad that it's dead.\",\n",
       " 'Sad to see you bad puppey.',\n",
       " \"I would love to think a few different women, outside of girlfriends but it's sad that we will never know.\",\n",
       " 'I feel so sad for this cute doggy.',\n",
       " \"Sadly, I'm greedy and love money.\",\n",
       " 'This is very romantic and sad.',\n",
       " 'It\\'s sad to know these things happen and it\\'s worse knowing it was perpetrated by family members who are supposed to \"love\" you.',\n",
       " 'I have never been able to find a solid picture of this image, which is sad because I would love it as a poster or desktop background.',\n",
       " 'I have been sad for the last 3 years of course on the exterior I am the fun, happy go loving guy but alone I was sad and I hated life.',\n",
       " 'Sad though as I really love one of the pairs I have.',\n",
       " 'For some reason my heart went out to him, and I felt really bad, and wanted to be there for him.',\n",
       " 'For some reason my heart went out to him, and I felt really bad, and wanted to be there for him.',\n",
       " 'I love that song but it always makes me feel so uncomfortable and sad.',\n",
       " \"I'm really sad that this is the end of the top gear I loved for years.\",\n",
       " 'I feel like crying for you 😕.',\n",
       " 'ikr my life is sad and cringy.',\n",
       " \"It's really sad, I love my current guild but it is slowly dying.\"]"
      ]
     },
     "execution_count": 20,
     "metadata": {},
     "output_type": "execute_result"
    }
   ],
   "source": [
    "dataset=dataset.sort('sadness')\n",
    "dataset['train'][-20:-1]['sentence']"
   ]
  },
  {
   "cell_type": "code",
   "execution_count": null,
   "id": "1f7a74be",
   "metadata": {},
   "outputs": [],
   "source": [
    "EMOTIONS = ['admiration','amusement','anger','annoyance','approval','caring',\n",
    " 'confusion','curiosity','desire','disappointment','disapproval','disgust','embarrassment',\n",
    " 'excitement','fear','gratitude','grief','joy','love','nervousness','optimism','pride',\n",
    " 'realization','relief','remorse','sadness','surprise','neutral']\n",
    "\n",
    "for emotion in EMOTIONS:\n",
    "    perc =  np.mean(np.array(dataset['train'][emotion])>0.8)\n",
    "    counts =  np.sum(np.array(dataset['train'][emotion])>0.8)\n",
    "    print(f'{emotion}: {perc} {counts}')"
   ]
  },
  {
   "cell_type": "code",
   "execution_count": null,
   "id": "fe87cb3a",
   "metadata": {},
   "outputs": [],
   "source": [
    "# emotion = 'admiration'\n",
    "# dataset.filter(lambda example: example[emotion]>0.8, num_proc=64, batched=True)"
   ]
  },
  {
   "cell_type": "code",
   "execution_count": null,
   "id": "392de1bd",
   "metadata": {},
   "outputs": [],
   "source": [
    "text_name = 'sentence'\n",
    "def count_words(batch):\n",
    "    word_counts = []\n",
    "    for text in batch[text_name]:\n",
    "        word_counts.append(len(text.split(' ')))\n",
    "    batch['n_words']=word_counts\n",
    "    return(batch)"
   ]
  },
  {
   "cell_type": "code",
   "execution_count": null,
   "id": "ca8f4c22",
   "metadata": {},
   "outputs": [],
   "source": [
    "dataset = dataset.map(count_words, num_proc=64, batched=True)"
   ]
  },
  {
   "cell_type": "markdown",
   "id": "eeecec41",
   "metadata": {},
   "source": [
    "#### Exploring Emotional Posts 2M"
   ]
  },
  {
   "cell_type": "code",
   "execution_count": null,
   "id": "5a12c498",
   "metadata": {},
   "outputs": [],
   "source": [
    "dataset = load_from_disk(datasets[0])\n"
   ]
  },
  {
   "cell_type": "code",
   "execution_count": null,
   "id": "e65267f7",
   "metadata": {},
   "outputs": [],
   "source": [
    "print(dataset)"
   ]
  },
  {
   "cell_type": "code",
   "execution_count": 11,
   "id": "da98d754",
   "metadata": {},
   "outputs": [
    {
     "data": {
      "text/plain": [
       "['I am sick of fucking Arian Foster doing nothing. :(',\n",
       " 'Fucking bf4... Worst fucking gaming experience so far... I get angry everytime i play because it freeze a way too much... Hate it... 100$ in the garbage',\n",
       " 'WW2 is fucking awful, played 9 hours today and want a refund.',\n",
       " 'I cannot believe that blizzard would let this horrible crime against humanity stay in the game so long! This is destroying my experience. I am immediately going to uninstall Overwatch and rate the game 1/5 stars because this is making the game LITERALLY UNPLAYABLE.',\n",
       " \"the defense is fucking atrocious, i'm already tired of this shit and it's the 4th game of the season\",\n",
       " \"I don't know what it is about this game, but I fucking suck dick with the Sniper Rifle ONLY in Team Snipers. I don't know if it's the kickback that makes your crosshair shoot up a FUCKING MILE when you get shot, or if they just took off aim assist in this playlist, but it really bugs the fuck out of me. Is anyone else having problems?\",\n",
       " 'Every time I go to our zoo, I feel sad. I do not like our zoo and the animals look bored to death. We have a terrible zoo!',\n",
       " 'I live down the road from psa and they just suck. Terrible service and terrible attitudes all around.',\n",
       " 'oh god ubus 310?? is the worst fucking class ever. that shit, coupled with dekalb being a shithole made me transfer back to my old school.',\n",
       " 'I hate this person with every fiber of my being, every hour he posts stupid \"like this if you ___\" posts and I can\\'t make it stop, even if I block him I still see his posts.',\n",
       " \"I'm here at the game right now. Pathetic baseball team. Not even making an effort since before the first pitch. They've quit. Total waste of money. I HATE THIS TEAM MORE THAN ANY OTHER TEAM I HAVE EVER WATCHED IN ANY SPORT. FIRE EVERYONE.\",\n",
       " '[This shit]( is frustrating as fuck. Why are we so spread out :(',\n",
       " \"God damn fried chicken. I've found one place in this entire country that sells it, and it's not even that good =(\",\n",
       " 'Dont go to Disney world. Place sucks. People are rude, the staff are assholes, and the whole atmosphere sucks.',\n",
       " \"The Hangover. Don't understand why people rate this film. I found it unfunny and the characters unlikable.\",\n",
       " \"My framerate is a usual 30 fps on medium settings. The hitching is ruining it though, and the game crashes, and this game is just NOT fun. I can not do SHIT! I fucking hate this game and I'm uninstalling it. IDGAF what you people think this game just isnt fun when I KEEP FUCKING DYING.\",\n",
       " 'This is like the worst fucking day of my fucking life. All my boys broke up. FeelsBadMan',\n",
       " \"Fuck psyonix and there bullshit fucking asses, I can't even play ranked because of freezing(not an issue on my end)! Have contacted them multiple times about the issue and have gotten either no response or a response of, it's my networking. BULSHIT!!!! Fuck you psyonix!\",\n",
       " \"Fuck The Rocky Horror Picture Show. It isn't about anything, and the songs are annoying. Furthermore, people SINGING ALONG don't help at all.\",\n",
       " 'As a Canadian, Boston Pizza. Fucking horrible food, service and prices.']"
      ]
     },
     "execution_count": 11,
     "metadata": {},
     "output_type": "execute_result"
    }
   ],
   "source": [
    "dataset=dataset.sort('sentiment')\n",
    "dataset['train'][0:20]['post']"
   ]
  },
  {
   "cell_type": "code",
   "execution_count": 12,
   "id": "e47a1ccc",
   "metadata": {},
   "outputs": [
    {
     "data": {
      "text/plain": [
       "[\"With that, you've made me very excited for tomorrow! Thanks :)\",\n",
       " 'Thank you my friend! Cant wait to buy the game on Friday, im really quite excited to start my journey :)',\n",
       " 'I am so happy to have stumbled on this. Thank you for everything! Hope you have a great night!',\n",
       " 'Already signed up and am working on the first project! I love it so far! Thanks for the insight :)',\n",
       " 'Glad to see another Seattleite on here :) congrats on the beautiful purchase!',\n",
       " \"This is a dream come true, so yes...I'm VERY happy with this opportunity! The more I read on here, the better I feel about it. Thanks everyone!!\",\n",
       " 'Will do! It’s already been a blast. The Day 5 Season 2 premiere last night was amazing and the perfect way to start it off. The Paramount Theatre is beautiful.',\n",
       " 'Oh man, my favorite birthday memory is when my boyfriend saved up a lot of money to take me to a really nice restaurant in the city. We ended up going to this place called The White Chocolate Grill and man, I was in awe. The food was beautiful and the service was so nice. We ended up getting two free appetizers. It was a great birthday and I really appreciated my boyfriend taking me out on an awesome birthday dinner. woop twentyfive happy birthday~~',\n",
       " 'Congrats!! Also, I love seeing another Monday wedding. It makes me feel at ease with my Monday date every time I see one. Hope goes well!',\n",
       " \"Thats a good start! You look like you have a great body. I can't wait for some more :)\",\n",
       " \"Can't wait for this giveaway :D Eon Neon!!! Thank you for hosting this giveaway :D Appreciate it!\",\n",
       " \"This week was great! I just celebrated my three month anniversary with my secondary, C, and my primary had a date this weekend that went pretty well. The date might be joining us game night later this week, so I'm super excited to meet them :)\",\n",
       " 'Happy Birthday to you!!!! :) Deposited a level 15 Mienfoo (Female) :D Thank you &amp; HBD! HAVE A BLAST!',\n",
       " 'Looks like the consensus is 4!! I’m so appreciative and excited that you all love that photo too ❤️ I️ will be sure to post the final save the date - all your help has been invaluable!',\n",
       " \"I just wanted to thank all of you for a great year. This month does mark our one year anniversary! Thank you [DivineBurke]( for putting together the first meetup of the DC Gaymers. I'm very pleased with the huge diverse group and the large network we have established. I look forward to another year of great times and adventures. I will be soon organizing a trip out to Secrets for the uninitiated. I hope everyone has a great and safe holiday coming up. Cheers!\",\n",
       " \"Ahhh I just joined this sub a couple week ago and I love it! Glad to hear you're doing well and I'm looking forward to seeing more short stories 😊\",\n",
       " \"Looks good, I'm excited for my own to come within the next few days hopefully :)\",\n",
       " 'Thank you very much for taking the time to come back to let me know. It’s great to find out that people are enjoying the story and I’m very excited about where things go next. I can’t wait to get you the second book. :)',\n",
       " \"It's a great pleasure to have EMC2 on board :)\"]"
      ]
     },
     "execution_count": 12,
     "metadata": {},
     "output_type": "execute_result"
    }
   ],
   "source": [
    "dataset['train'][-20:-1]['post']"
   ]
  },
  {
   "cell_type": "code",
   "execution_count": 13,
   "id": "d4562826",
   "metadata": {},
   "outputs": [
    {
     "data": {
      "text/plain": [
       "[\"It's a show dog, dude. This fucking dog has fucking papers!\",\n",
       " \"Everyone shitting on you, thinking you're an angsty teen, (you could be) but i feel the pain. My roommate does this all the fucking time and it's infuriating.\",\n",
       " \"I'll be the asshole here: Your vet is lying. Your dogs are pretty stupid.\",\n",
       " \"I didn't watch this because I don't need to see it to know how fucked up it is. But to me the really fucked up thing is the asshole just standing there and videoing this attempted murder. I'm so tired of seeing mother fuckers stand by and video tape instead of helping.\",\n",
       " 'If I was the driver I would’ve gotten out and beat the ever living dog shit out of this guy, injured or not who gives a fuck. I hate morons that play in the streets then get all shocked because they got hit with a car lmao. The fuck did you think was going to happen cool guy? We were all going to stop traffic so you can land your kick flip? Get the fuck out of here. We should flip the script on people like this and drive our cars inside the skate parks and then hit one of them. Idk sounds fair.',\n",
       " 'I work security at a really busy entertainment district and our beer garden gets very busy on the weekends. Groups GROUPS of grown ass men and women will stand in the entrance for eternity while a herd of humans desperately tries to claw past. Fuck you, fuck your pointless drunk conversation; these other drunk motherfuckers need to get in to spend money to pay me... I will fucking throat punch you.',\n",
       " \"Shut the fuck up, how do you think it's okay to make fun of someone with a disease?\",\n",
       " 'Youtube gets worse and worse every year. Who the fuck makes these decisions? I want to tweet obscenities at them.',\n",
       " \"That video made me more mad than anything. I just kept thinking that poor animal. I wanted to beat the fuck outta her. I couldn't stand watching it.! Why do people think it's funny t abuse animals. When she kept jumping on the pony, I wanted I lie her down and fucking jump of her! What the fuck is wrong with people!!! Fuck!\",\n",
       " 'Dude, I was fucking close. These little 12 year old assholes kept talking during Doctor Strange and yelling at the screen I was about to kick their asses',\n",
       " 'Show me your fuck holes too, you nasty fuck slut. Your ass is a fucking joke. My cock started getting soft while I looked at your picture in my feed. I though, who the fuck would show such a half assed, no erotic picture here... oh thats right, you. You are a dumb fucking bitch with a mediocre ass',\n",
       " \"Yeah hate all you want, but everything star trek is garbage. Including the new movies. They are garbage in purest form and you're making fun of star wars. Shut the fuck up you stupid little fanboy. You're just upset that the person that made that stupid worthless franchise even worse, didn't hurt star wars at all. That's where all this bitterness comes from. Go fuck yourself you pathetic little fanboy.\",\n",
       " 'Fuck you, Odorrrrr!!!! What a waste of a draft pick!',\n",
       " \"Fuck this crybaby who can't handle criticism of his faith. He has to resort to violence because he has no other response. It's funny how he thinks he has to stand up for an all knowing, all powerful being. The guy yelling was being a bit of a dick but the real bad guy is the one who commit assault and then blamed the victim. Fuck allah, and fuck all other gods while you're at it. Let's see how low my karma can get from the rest of you little babies.\",\n",
       " 'Turkeys are fucking assholes. They roam around my town, block traffic, get on your roof and cause a ruckus. Fuck turkeys.',\n",
       " 'The routine fuckups, some from the previous governments are still fucking up because fuck ups fuck up and vote them in.',\n",
       " \"Dude what the fuck are you talking about. Don't ever say the words placebo nebula to my face. That was hard to read.\",\n",
       " 'Not fucking far away enough, this is fucking bullshit muthafucka, godamn niggas shitting down each others fucking gagpipes while eating shit and and whatnot, bitch',\n",
       " 'This makes me so angry. Little by little our rights are being taken away. I hate everyone who voted for him. Our beautiful country is going to shit.']"
      ]
     },
     "execution_count": 13,
     "metadata": {},
     "output_type": "execute_result"
    }
   ],
   "source": [
    "dataset=dataset.sort('anger')\n",
    "dataset['train'][-20:-1]['post']"
   ]
  },
  {
   "cell_type": "code",
   "execution_count": 14,
   "id": "ecf520a2",
   "metadata": {},
   "outputs": [
    {
     "data": {
      "text/plain": [
       "['I love fishing and have been for many years now. I still find it sad thinking of how helpless fish are with hooks lodged in their mouth',\n",
       " 'I got all excited because we have a tilted kilt here in raleigh but then i saw the top comment about the one in denver and got sad because i thought it was one of a kind. Sad.',\n",
       " \"Lost my dad December 21st 2012, he is my best friend next to my wife. I still have his phone number in my contacts. This makes me want to talk to him so bad. My miss and want to hear his voice goes so deep I can't even begin to describe. And darn it for making me want to burst into tears right now.\",\n",
       " 'It\\'s sad to know these things happen and it\\'s worse knowing it was perpetrated by family members who are supposed to \"love\" you.',\n",
       " \"I'm genuinely very sad now... But at the same time I'm so glad this sick, sick kid is going to prison. I have a pet cat, and if anything ever happened to her like this I would be beyond furious. That poor cat.\",\n",
       " 'ikr my life is sad and cringy',\n",
       " 'My fiance left me a month ago. I still cry all night and I feel like its getting worse.',\n",
       " \"This is my favorite as well! It's so spooky and sad. Poor Dick.\",\n",
       " 'Damn this is so sad I love big black.. RIP',\n",
       " 'I love that song but it always makes me feel so uncomfortable and sad.',\n",
       " 'That is really sad. I love Alien 3.',\n",
       " \"Family Circus. Wait, I never found that funny. I still love the Lockhorns. It's sad how much two people can live with but loathe another person.\",\n",
       " \"Here I am in Vegas. Eating at Dennys. On the eve of my best friends wedding. A friend I have been in love with for 8 years. But I can't give her up. I'm horribly sad. Struggling not to cry in public. There is alot more to this, but I can't type it all. Posting here cause I got no one else to talk with.\",\n",
       " 'Sad. Shrug.',\n",
       " 'Crap. Currently reading Unseen Academicals. So sad to know there are only a few Discworld books left. RIP Terry, you will be sorely missed.',\n",
       " 'i love it! came across the pic while looking for flights on one... sad that their days are numbered. slowly being phased out.',\n",
       " \"I would love to see both Sweden and Italy in the world cup! It's so sad .. Italy has always been my second team since I was a kid! in 1994 I cried for you .. this is very sad :(\",\n",
       " \"I finished Dark Souls III months ago, and I'm still in love with it. Sad that it's over =[\",\n",
       " 'I feel like crying for you 😕']"
      ]
     },
     "execution_count": 14,
     "metadata": {},
     "output_type": "execute_result"
    }
   ],
   "source": [
    "dataset=dataset.sort('sadness')\n",
    "dataset['train'][-20:-1]['post']"
   ]
  },
  {
   "cell_type": "code",
   "execution_count": null,
   "id": "d9e866da",
   "metadata": {},
   "outputs": [],
   "source": [
    "EMOTIONS = ['admiration','amusement','anger','annoyance','approval','caring',\n",
    " 'confusion','curiosity','desire','disappointment','disapproval','disgust','embarrassment',\n",
    " 'excitement','fear','gratitude','grief','joy','love','nervousness','optimism','pride',\n",
    " 'realization','relief','remorse','sadness','surprise','neutral']\n",
    "\n",
    "for emotion in EMOTIONS:\n",
    "    perc =  np.mean(np.array(dataset['train'][emotion])>0.8)\n",
    "    counts =  np.sum(np.array(dataset['train'][emotion])>0.8)\n",
    "    print(f'{emotion}: {perc} {counts}')"
   ]
  },
  {
   "cell_type": "markdown",
   "id": "d8a5fdbd",
   "metadata": {},
   "source": [
    "#### Exploring Emotional Sentences 10M"
   ]
  },
  {
   "cell_type": "code",
   "execution_count": 15,
   "id": "888034fd",
   "metadata": {},
   "outputs": [],
   "source": [
    "dataset = load_from_disk(datasets[3])\n"
   ]
  },
  {
   "cell_type": "code",
   "execution_count": 16,
   "id": "3598dd7d",
   "metadata": {},
   "outputs": [
    {
     "name": "stdout",
     "output_type": "stream",
     "text": [
      "DatasetDict({\n",
      "    train: Dataset({\n",
      "        features: ['sentence', 'sentiment', 'admiration', 'amusement', 'anger', 'annoyance', 'approval', 'caring', 'confusion', 'curiosity', 'desire', 'disappointment', 'disapproval', 'disgust', 'embarrassment', 'excitement', 'fear', 'gratitude', 'grief', 'joy', 'love', 'nervousness', 'neutral', 'optimism', 'pride', 'realization', 'relief', 'remorse', 'sadness', 'surprise'],\n",
      "        num_rows: 9625718\n",
      "    })\n",
      "    test: Dataset({\n",
      "        features: ['sentence', 'sentiment', 'admiration', 'amusement', 'anger', 'annoyance', 'approval', 'caring', 'confusion', 'curiosity', 'desire', 'disappointment', 'disapproval', 'disgust', 'embarrassment', 'excitement', 'fear', 'gratitude', 'grief', 'joy', 'love', 'nervousness', 'neutral', 'optimism', 'pride', 'realization', 'relief', 'remorse', 'sadness', 'surprise'],\n",
      "        num_rows: 96899\n",
      "    })\n",
      "    validation: Dataset({\n",
      "        features: ['sentence', 'sentiment', 'admiration', 'amusement', 'anger', 'annoyance', 'approval', 'caring', 'confusion', 'curiosity', 'desire', 'disappointment', 'disapproval', 'disgust', 'embarrassment', 'excitement', 'fear', 'gratitude', 'grief', 'joy', 'love', 'nervousness', 'neutral', 'optimism', 'pride', 'realization', 'relief', 'remorse', 'sadness', 'surprise'],\n",
      "        num_rows: 96685\n",
      "    })\n",
      "})\n"
     ]
    }
   ],
   "source": [
    "print(dataset)"
   ]
  },
  {
   "cell_type": "code",
   "execution_count": 17,
   "id": "3d3751bd",
   "metadata": {},
   "outputs": [
    {
     "data": {
      "text/plain": [
       "['WHAT THE FUCK AM I GOING TO DO NOW!?!? This is the worst thing that has happened to me all day, and I vomited from pain earlier.',\n",
       " 'WW2 is fucking awful, played 9 hours today and want a refund.',\n",
       " 'The intro to Scrubs annoys me to no end because the lung fields are burned out and the heart shadow is backwards.',\n",
       " \"I already don't understand how my bf does work under what his degree is and it is one of my negative things about him that irritates me all the time.\",\n",
       " \"That's been added in a patch, Iget no hitching but the fucking game crashes every 30-1hour so I just uninstalled this shit game because it's just not fucking fun.\",\n",
       " 'I hate this person with every fiber of my being, every hour he posts stupid \"like this if you ___\" posts and I can\\'t make it stop, even if I block him I still see his posts.',\n",
       " \"I hate this place, the medications don't work I've been here for 7 years.\",\n",
       " \"I hate this place, the medications don't work I've been here for 7 years.\",\n",
       " \"I hate this place, the medications don't work I've been here for 7 years.\",\n",
       " \"I hate this place, the medications don't work I've been here for 7 years.\",\n",
       " \"the defense is fucking atrocious, i'm already tired of this shit and it's the 4th game of the season.\",\n",
       " 'Only thing that sucks is there are two people in cevo who are awful and annoying as all fuck and cry all the time on mic every game.',\n",
       " 'josh is a neighbour who always empties his grass on our fucking lawn every week for the past month, that goddamn asshole.',\n",
       " 'This song annoys me so much, you get about halfway through when the backing becomes **really** frustrating, the stupid noise which sounds like somebody rewinding a tape.',\n",
       " 'I cannot comprehend how fucking homophobic these ass hats in my class are, THEY GOT MY FAVORITE TEACHER TO QUIT.',\n",
       " 'Hello friend, It pains me to inform you that i can not load tinypic at my place of work due that website sucks crap.',\n",
       " 'I\\'m not voting because both sides are assholes and why should I waste my fucking gas, time, and money to drive to a polling place to write in \"Mickey Mouse\" because the 2 candidates for every position are fucking assholes.',\n",
       " \"what pisses me off the most right now is that i'm pissed of at something that does not affect me whatsoever.\",\n",
       " 'This really seems like an awful article; from the opening paragraphs to the closing, he insults his readers.',\n",
       " 'Actually i give a huge shit about the desert sickness its why i dont go into the desert because it annoys me greatly.']"
      ]
     },
     "execution_count": 17,
     "metadata": {},
     "output_type": "execute_result"
    }
   ],
   "source": [
    "dataset=dataset.sort('sentiment')\n",
    "dataset['train'][0:20]['sentence']"
   ]
  },
  {
   "cell_type": "code",
   "execution_count": 18,
   "id": "673698f8",
   "metadata": {},
   "outputs": [
    {
     "data": {
      "text/plain": [
       "[\"Pledged $25! I love this community and I can't wait to see the movie! :D.\",\n",
       " 'I love us too!💋💋💋you look great.',\n",
       " \"And thanks! I only started seriously lifting last month, and I'm really enjoying it so far! I LOVE THE VICTORIES! Good luck! :D.\",\n",
       " 'I have an All in One and its the best thing ever! Kinda excited for the smocan.',\n",
       " \"My absolute favorite poster here, it's a great day when you post! :) :).\",\n",
       " \"The best present anybody's ever given me for they'e birthday! =P HAPPY BIRTHDAY! &lt;3.\",\n",
       " 'Oh my god, congrats!! I hope you have a blast at homecoming! &lt;3 And *yes,* my friends bring out the best in me whenever we go out together.',\n",
       " 'You guys are MORE than welcome to come! I love meeting people from new cities! :D.',\n",
       " 'Easily the best week! Sooo gooood! Honorable mentions for: Portiabella.',\n",
       " \"Can't wait to see it! The video I'm making now looks great so far, one of my best.\",\n",
       " \"Thank you for doing this much already! It's looking awesome and I'm excited to see the final product! :D.\",\n",
       " \"It's so nice to hear about your experience! Cheers and have a blast this weekend! 🎉.\",\n",
       " 'You’re looking absolutely gorgeous my dear!!! Glad to see your classy self back!! Hope to see more of you!! Kisses kisses kisses!! ❤️❤️❤️😘😘😘.',\n",
       " 'I’m very glad you did!!! Absolutely beautiful!!! ❤️❤️😘😘👅👅👅👅.',\n",
       " 'Because I genuinely look forward to these every day! Thanks for making the holidays full of Hiddles cheer! &lt;3.',\n",
       " \"Looks good, I'm excited for my own to come within the next few days hopefully :).\",\n",
       " '^^hypehypeHYPE So glad to see my favourite gamemode hosted again, ily &lt;3.',\n",
       " \"Ahhh I just joined this sub a couple week ago and I love it! Glad to hear you're doing well and I'm looking forward to seeing more short stories 😊.\",\n",
       " \"Thank you, friend :) It was a true pleasure getting to chat with you! I can't wait to get this ball rolling.\"]"
      ]
     },
     "execution_count": 18,
     "metadata": {},
     "output_type": "execute_result"
    }
   ],
   "source": [
    "dataset['train'][-20:-1]['sentence']"
   ]
  },
  {
   "cell_type": "code",
   "execution_count": 19,
   "id": "122603b6",
   "metadata": {},
   "outputs": [
    {
     "data": {
      "text/plain": [
       "['You nintoddlers are such fucking suckers and losers.',\n",
       " \"All you motherfuckers are gonna pay! You are the ones who are the ball-lickers! We're gonna fuck your mothers while you watch and cry like little, whiny bitches.\",\n",
       " 'This shits harder than a wedding dick!\" All day yelling and getting pissed off at me and the layout that was drawn out.',\n",
       " 'Shut the fuck up, people are here to study, if you want to chat and giggle about yesterday party get out and go to the cafetaria.',\n",
       " 'Just shut the fuck up until the game ends.',\n",
       " \"Dammit Kellogg! First, my son and now this?! You're fucking dead, bastard.\",\n",
       " 'I am gonna kick YOUR ass, bro.',\n",
       " \"Well damn dude I was just saying if your next to a group of kids, don't talk about how fucking hammered you got and then fucked the shit out of that blonde bitch.\",\n",
       " 'Just cause u want to scam the life out of people and you are a selfish, greedy bastard.',\n",
       " \"It's what a fuckin idiot would say, fuck you Tammy, you're the biggest fuckin slut of the universe and every alternative timeline, I hope a fuckin planet falls in your fuckin face.\",\n",
       " 'What the fuck is up with white guys and causing harm to their junk? Reddit is like an encyclopedia of genital destruction.',\n",
       " \"Of course, then there's the fucking heat, the shitty education system, the stupid politics, and the fucking heat.\",\n",
       " \"It's so infuriating for the opponent because it's such a ridiculous celebration.\",\n",
       " \"Anyone who starts mouthing off about people's weight and claims it's out of concern for their health is a fucking liar and a bully.\",\n",
       " \"Your guy's site fucking sucks, your technical support fucking sucks, you guys waste everyone's time and insult anyone who wants to do anything Internet related.\",\n",
       " 'What a scam fest, and what shitty management.',\n",
       " 'Throwing away all the boxes and manuals when I was younger, thinking it was just trash.',\n",
       " 'The routine fuckups, some from the previous governments are still fucking up because fuck ups fuck up and vote them in.',\n",
       " 'Addressing babies as objects really, I hate arrogant parents, especially gamer parents Person over microphone: bla bla bla (baby crying background) me: you should shut that baby up like 5 people on their mocrophones: WTF DUDE RABBLE RABBLE BLAH RABBLE ITS A BABY OMG seriously get your heads out of your asses, retards.']"
      ]
     },
     "execution_count": 19,
     "metadata": {},
     "output_type": "execute_result"
    }
   ],
   "source": [
    "dataset=dataset.sort('anger')\n",
    "dataset['train'][-20:-1]['sentence']"
   ]
  },
  {
   "cell_type": "code",
   "execution_count": 20,
   "id": "82728c1d",
   "metadata": {},
   "outputs": [
    {
     "data": {
      "text/plain": [
       "[\"I fell in love with the characters and now I'm sad because i finished the book.\",\n",
       " 'Which is really very sad for me because I love the taste of grapefruit.',\n",
       " \"I love PC personally, so it's sad that it's dead.\",\n",
       " 'Sad to see you bad puppey.',\n",
       " \"I would love to think a few different women, outside of girlfriends but it's sad that we will never know.\",\n",
       " 'I feel so sad for this cute doggy.',\n",
       " \"Sadly, I'm greedy and love money.\",\n",
       " 'This is very romantic and sad.',\n",
       " 'It\\'s sad to know these things happen and it\\'s worse knowing it was perpetrated by family members who are supposed to \"love\" you.',\n",
       " 'I have never been able to find a solid picture of this image, which is sad because I would love it as a poster or desktop background.',\n",
       " 'I have been sad for the last 3 years of course on the exterior I am the fun, happy go loving guy but alone I was sad and I hated life.',\n",
       " 'Sad though as I really love one of the pairs I have.',\n",
       " 'For some reason my heart went out to him, and I felt really bad, and wanted to be there for him.',\n",
       " 'For some reason my heart went out to him, and I felt really bad, and wanted to be there for him.',\n",
       " 'I love that song but it always makes me feel so uncomfortable and sad.',\n",
       " \"I'm really sad that this is the end of the top gear I loved for years.\",\n",
       " 'I feel like crying for you 😕.',\n",
       " 'ikr my life is sad and cringy.',\n",
       " \"It's really sad, I love my current guild but it is slowly dying.\"]"
      ]
     },
     "execution_count": 20,
     "metadata": {},
     "output_type": "execute_result"
    }
   ],
   "source": [
    "dataset=dataset.sort('sadness')\n",
    "dataset['train'][-20:-1]['sentence']"
   ]
  },
  {
   "cell_type": "code",
   "execution_count": null,
   "id": "074389c1",
   "metadata": {},
   "outputs": [],
   "source": [
    "EMOTIONS = ['admiration','amusement','anger','annoyance','approval','caring',\n",
    " 'confusion','curiosity','desire','disappointment','disapproval','disgust','embarrassment',\n",
    " 'excitement','fear','gratitude','grief','joy','love','nervousness','optimism','pride',\n",
    " 'realization','relief','remorse','sadness','surprise','neutral']\n",
    "\n",
    "for emotion in EMOTIONS:\n",
    "    perc =  np.mean(np.array(dataset['train'][emotion])>0.8)\n",
    "    counts =  np.sum(np.array(dataset['train'][emotion])>0.8)\n",
    "    print(f'{emotion}: {perc} {counts}')"
   ]
  },
  {
   "cell_type": "code",
   "execution_count": null,
   "id": "597e62e2",
   "metadata": {},
   "outputs": [],
   "source": [
    "# emotion = 'admiration'\n",
    "# dataset.filter(lambda example: example[emotion]>0.8, num_proc=64, batched=True)"
   ]
  },
  {
   "cell_type": "code",
   "execution_count": null,
   "id": "073bc4c7",
   "metadata": {},
   "outputs": [],
   "source": [
    "text_name = 'sentence'\n",
    "def count_words(batch):\n",
    "    word_counts = []\n",
    "    for text in batch[text_name]:\n",
    "        word_counts.append(len(text.split(' ')))\n",
    "    batch['n_words']=word_counts\n",
    "    return(batch)"
   ]
  },
  {
   "cell_type": "code",
   "execution_count": null,
   "id": "71e6d05e",
   "metadata": {},
   "outputs": [],
   "source": [
    "dataset = dataset.map(count_words, num_proc=64, batched=True)"
   ]
  }
 ],
 "metadata": {
  "kernelspec": {
   "display_name": "Python [conda env:conda_env] *",
   "language": "python",
   "name": "conda-env-conda_env-py"
  },
  "language_info": {
   "codemirror_mode": {
    "name": "ipython",
    "version": 3
   },
   "file_extension": ".py",
   "mimetype": "text/x-python",
   "name": "python",
   "nbconvert_exporter": "python",
   "pygments_lexer": "ipython3",
   "version": "3.9.12"
  },
  "toc": {
   "base_numbering": 1,
   "nav_menu": {},
   "number_sections": true,
   "sideBar": true,
   "skip_h1_title": false,
   "title_cell": "Table of Contents",
   "title_sidebar": "Contents",
   "toc_cell": false,
   "toc_position": {},
   "toc_section_display": true,
   "toc_window_display": true
  }
 },
 "nbformat": 4,
 "nbformat_minor": 5
}
