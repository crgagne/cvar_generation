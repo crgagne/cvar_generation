{
 "cells": [
  {
   "cell_type": "code",
   "execution_count": 1,
   "id": "ef9835ca",
   "metadata": {},
   "outputs": [],
   "source": [
    "import numpy as np\n",
    "import matplotlib.pyplot as plt\n",
    "import seaborn as sns\n",
    "import pickle\n",
    "%matplotlib inline"
   ]
  },
  {
   "cell_type": "code",
   "execution_count": 2,
   "id": "e82bc572",
   "metadata": {},
   "outputs": [
    {
     "name": "stderr",
     "output_type": "stream",
     "text": [
      "/home/cgagne/cvar_generation/conda_env/lib/python3.9/site-packages/tqdm/auto.py:22: TqdmWarning: IProgress not found. Please update jupyter and ipywidgets. See https://ipywidgets.readthedocs.io/en/stable/user_install.html\n",
      "  from .autonotebook import tqdm as notebook_tqdm\n"
     ]
    }
   ],
   "source": [
    "from transformers import (\n",
    "    GPT2Config,\n",
    "    GPT2Tokenizer,\n",
    "    GPT2LMHeadModel,\n",
    ")"
   ]
  },
  {
   "cell_type": "code",
   "execution_count": 3,
   "id": "c2e5f424",
   "metadata": {},
   "outputs": [],
   "source": [
    "modelname = '../models/pretrained/gpt2-large/'\n",
    "config = GPT2Config.from_pretrained(modelname)\n",
    "tokenizer = GPT2Tokenizer.from_pretrained(modelname)"
   ]
  },
  {
   "cell_type": "code",
   "execution_count": 4,
   "id": "8f793bd6",
   "metadata": {},
   "outputs": [],
   "source": [
    "import sys\n",
    "sys.path.append('../')\n",
    "from rl_learner import TD_Learner\n",
    "import torch\n",
    "import pickle\n",
    "device = 'cpu'\n",
    "import sys\n",
    "sys.path.append('../')\n",
    "\n",
    "from cvar_helpers import calc_cvar_from_samples\n",
    "from train_rl_batch_sentence_chains import average_states_by_period"
   ]
  },
  {
   "cell_type": "markdown",
   "id": "9abbefac",
   "metadata": {},
   "source": [
    "### Code"
   ]
  },
  {
   "cell_type": "code",
   "execution_count": 12,
   "id": "d480a100",
   "metadata": {},
   "outputs": [],
   "source": [
    "def load_rl_model(epoch=48, hidden_dim =100, n_quantiles = 10, extra = '_composite_rewards',\n",
    "                  folder = 'sentence_chains_I_4',huber=0.1):\n",
    "\n",
    "    filename='../data/results/'+folder+'/'\n",
    "    filename+=f'quantile_learner_{hidden_dim}_{huber}{extra}/log_quantile_learner_epoch{epoch}.pkl'\n",
    "\n",
    "    Z_network = TD_Learner(config.n_embd, n_quantiles, hidden_dim=hidden_dim)\n",
    "    Z_network.load_state_dict(torch.load(filename.replace('log_',''),map_location=torch.device('cpu')))\n",
    "\n",
    "    log = pickle.load(open(filename,'rb'))\n",
    "    loss = np.array(log['loss'])\n",
    "    epoch = np.array(log['epoch'])\n",
    "    \n",
    "    out = {'Z_network': Z_network,\n",
    "             'loss': loss}\n",
    "    return(out)"
   ]
  },
  {
   "cell_type": "code",
   "execution_count": null,
   "id": "07407676",
   "metadata": {},
   "outputs": [],
   "source": []
  },
  {
   "cell_type": "markdown",
   "id": "b023aac7",
   "metadata": {},
   "source": [
    "### Comparing v5 Models"
   ]
  },
  {
   "cell_type": "code",
   "execution_count": 13,
   "id": "78084a33",
   "metadata": {},
   "outputs": [],
   "source": [
    "out = load_rl_model(epoch=19, hidden_dim =100, n_quantiles = 10, extra = '_composite_rewards',\n",
    "                          folder = 'sentence_chains_I_5',huber=0.1)"
   ]
  },
  {
   "cell_type": "code",
   "execution_count": 15,
   "id": "32ea4631",
   "metadata": {},
   "outputs": [],
   "source": [
    "v5_stems_1 =[\"Tomorrow will be an easy day.\",\n",
    "           \"Tomorrow will be a busy day.\",\n",
    "           \"Tomorrow will be a difficult day.\"]\n",
    "v5_stems_2 = [\"I need to go to the doctor's.\", 'I need to go to work.', \n",
    "         'I need to go to the grocery store.', 'I need to clean the house.',  'I need to take that test.']\n",
    "\n"
   ]
  },
  {
   "cell_type": "code",
   "execution_count": null,
   "id": "3d422919",
   "metadata": {},
   "outputs": [],
   "source": []
  }
 ],
 "metadata": {
  "kernelspec": {
   "display_name": "Python 3",
   "language": "python",
   "name": "python3"
  },
  "language_info": {
   "codemirror_mode": {
    "name": "ipython",
    "version": 3
   },
   "file_extension": ".py",
   "mimetype": "text/x-python",
   "name": "python",
   "nbconvert_exporter": "python",
   "pygments_lexer": "ipython3",
   "version": "3.9.12"
  },
  "toc": {
   "base_numbering": 1,
   "nav_menu": {},
   "number_sections": true,
   "sideBar": true,
   "skip_h1_title": false,
   "title_cell": "Table of Contents",
   "title_sidebar": "Contents",
   "toc_cell": false,
   "toc_position": {},
   "toc_section_display": true,
   "toc_window_display": true
  }
 },
 "nbformat": 4,
 "nbformat_minor": 5
}
