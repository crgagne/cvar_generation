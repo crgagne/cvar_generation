{
 "cells": [
  {
   "cell_type": "markdown",
   "id": "358b5cb9",
   "metadata": {},
   "source": [
    "### Imports "
   ]
  },
  {
   "cell_type": "code",
   "execution_count": 5,
   "id": "90051418",
   "metadata": {},
   "outputs": [],
   "source": [
    "import numpy as np\n",
    "import matplotlib.pyplot as plt\n",
    "import seaborn as sns\n",
    "import pickle\n",
    "import torch\n",
    "import torch.nn as nn\n",
    "import pickle\n",
    "import sys\n",
    "import imp\n",
    "from scipy import stats\n",
    "\n",
    "sys.path.append('../')\n",
    "%matplotlib inline"
   ]
  },
  {
   "cell_type": "code",
   "execution_count": 122,
   "id": "0e14a215",
   "metadata": {},
   "outputs": [],
   "source": [
    "def colored(r, g, b, text):\n",
    "    return \"\\033[38;2;{};{};{}m{}\\033[38;2;255;255;255m\".format(r, g, b, text)\n",
    "  "
   ]
  },
  {
   "cell_type": "code",
   "execution_count": 6,
   "id": "94a180c6",
   "metadata": {},
   "outputs": [],
   "source": [
    "from cvar_helpers import calc_cvar_from_quantiles\n",
    "from cvar_helpers import calc_cvar_from_samples\n",
    "from cvar_sampler import distort_probabilities\n",
    "from rl_learner import TD_Learner\n",
    "from generate_sentences_w_cvar import score_sentiment"
   ]
  },
  {
   "cell_type": "markdown",
   "id": "6d2c1d20",
   "metadata": {},
   "source": [
    "### Code"
   ]
  },
  {
   "cell_type": "code",
   "execution_count": 25,
   "id": "2fff0812",
   "metadata": {},
   "outputs": [],
   "source": [
    "def load_distributions(folder = 'single_sentences_IYou_3',\n",
    "                       alphas = [0.05, 0.2, 0.3, 0.5],\n",
    "                       top_k =10,\n",
    "                       extra = '_prompt_enc',\n",
    "                       prompt = '',\n",
    "                       legacy=True, # stored outside or inside the folder of the quantile model\n",
    "                       quantile_learner='quantile_learner_104_0.1_prompt_enc',\n",
    "                       seed='',\n",
    "                       absol='',\n",
    "                       ):\n",
    "    \n",
    "    # load training corpus\n",
    "    corpus_file = '../data/results/'+folder+'/full_generations.txt'    \n",
    "    f = open(corpus_file, \"r\")\n",
    "    sentences = f.readlines()\n",
    "    sentences = np.array([s.replace('\\n','') for s in sentences])\n",
    "    rewards =  np.array([float(s.split('r=')[-1]) for s in sentences])\n",
    "\n",
    "    corpus_file2 = '../data/results/'+folder+'/ends.txt'    \n",
    "    f = open(corpus_file2, \"r\")\n",
    "    ends = f.readlines()\n",
    "    ends = np.array([s.replace('\\n','').split('r=')[0].strip() for s in ends])\n",
    "    #ends = np.array([s.replace('\\n','').strip() for s in ends])\n",
    "    \n",
    "    # load new generations\n",
    "    sentences_cvar = {}\n",
    "    rewards_cvar = {}\n",
    "\n",
    "    for alpha in alphas:\n",
    "        \n",
    "        if legacy:\n",
    "            file = f'../data/results/'+folder+f'/ends_cvar_{alpha}_{top_k}{extra}_unres{prompt}{seed}{absol}.txt'\n",
    "        else:\n",
    "            file = f'../data/results/'+folder+f'/{quantile_learner}/ends_cvar_{alpha}_{top_k}{extra}_unres{prompt}{seed}{absol}.txt'\n",
    "        \n",
    "        f = open(file, \"r\")\n",
    "\n",
    "        sentences_cvar[alpha] = np.array([s.replace('\\n','') for s in f.readlines()])\n",
    "\n",
    "        rewards_cvar[alpha] =  []\n",
    "        for s in sentences_cvar[alpha]:\n",
    "            try:\n",
    "                r = float(s.split('r=')[-1])\n",
    "                rewards_cvar[alpha].append(r)\n",
    "            except:\n",
    "                rewards_cvar[alpha].append(np.nan)\n",
    "        rewards_cvar[alpha]=np.array(rewards_cvar[alpha])\n",
    "        \n",
    "        \n",
    "    # load extra details related to\n",
    "    alpha_storage = {}\n",
    "    p_storage = {}\n",
    "    pd_storage = {}\n",
    "    sentences_storage = {}\n",
    "    sentences_storage_full = {}\n",
    "    rewards_storage = {}\n",
    "    token_storage = {}\n",
    "    cvar_storage = {}\n",
    "    prompt_storage = {}\n",
    "    quantile_storage = {}\n",
    "    success_storage = {}\n",
    "\n",
    "    for alpha in alphas:\n",
    "    \n",
    "        if legacy:\n",
    "            file = f'../data/results/'+folder+f'/cvar_output_{alpha}_{top_k}{extra}_unres{prompt}{seed}{absol}.pkl'\n",
    "        else:\n",
    "            file = f'../data/results/'+folder+f'/{quantile_learner}/cvar_output_{alpha}_{top_k}{extra}_unres{prompt}{seed}{absol}.pkl'\n",
    "\n",
    "        loaded = pickle.load(open(file,'rb'))\n",
    "        alpha_storage[alpha] = loaded['alphas']\n",
    "        p_storage[alpha] = loaded['p_storage']\n",
    "        pd_storage[alpha] = loaded['pd_storage']\n",
    "        sentences_storage[alpha] = loaded['sentences']\n",
    "        sentences_storage_full[alpha] = loaded['sentences_full']\n",
    "        rewards_storage[alpha] = loaded['rewards']\n",
    "        token_storage[alpha] = loaded['token_storage']\n",
    "        cvar_storage[alpha] = loaded['cvar_storage']\n",
    "        quantile_storage[alpha] = loaded['quantile_storage']\n",
    "        prompt_storage[alpha]= loaded['prompt_storage']\n",
    "        success_storage[alpha] = loaded['successes']\n",
    "\n",
    "    return(sentences, ends, rewards, sentences_cvar, rewards_cvar, \n",
    "           sentences_storage, sentences_storage_full, rewards_storage)"
   ]
  },
  {
   "cell_type": "code",
   "execution_count": 26,
   "id": "f68a7608",
   "metadata": {},
   "outputs": [],
   "source": [
    "def plot_single_distribution(alpha, rewards_cvar):\n",
    "    \n",
    "    xtick_fsize = 14\n",
    "    ylabel_pad = 60\n",
    "    plt.figure(figsize=(8, 2.5), dpi=200)\n",
    "    \n",
    "    \n",
    "    plt.hist(rewards_cvar[alpha], alpha=1, color=sns.color_palette()[0],\n",
    "             label=None,density=False, edgecolor='k',linewidth=0.1)\n",
    "\n",
    "    mean = np.nanmean(rewards_cvar[alpha])\n",
    "    plt.axvline(x=mean, color='k')\n",
    "    \n",
    "    plt.xlim([-1,1])\n",
    "    plt.ylabel(f'alpha={alpha}',rotation=0,fontsize=xtick_fsize+4,labelpad=ylabel_pad)\n",
    "    plt.xlabel('valence', fontsize=xtick_fsize+4)\n",
    "    sns.despine(left=True)\n",
    "    plt.yticks([])\n",
    "    plt.xticks(fontsize=xtick_fsize)"
   ]
  },
  {
   "cell_type": "markdown",
   "id": "e51fcd59",
   "metadata": {},
   "source": [
    "### Can the model generate positively when using flipped rewards? "
   ]
  },
  {
   "cell_type": "code",
   "execution_count": 27,
   "id": "3cf812dc",
   "metadata": {},
   "outputs": [],
   "source": [
    "(sentences, \n",
    " ends, \n",
    " rewards, \n",
    " sentences_cvar, \n",
    " rewards_cvar, \n",
    "sentences_storage, \n",
    " sentences_storage_full, \n",
    " rewards_storage) =load_distributions(folder = 'single_sentences_IYou_3',\n",
    "                                                   alphas = [0.05],\n",
    "                                                   top_k =11,\n",
    "                                                   extra = '_prompt_enc',\n",
    "                                                   legacy=False,\n",
    "                                                   seed =3,\n",
    "                                                   absol='_flipped'\n",
    "                                                  )"
   ]
  },
  {
   "cell_type": "code",
   "execution_count": 28,
   "id": "8be12967",
   "metadata": {},
   "outputs": [
    {
     "data": {
      "image/png": "[encoded data removed]",
      "text/plain": [
       "<Figure size 1600x500 with 1 Axes>"
      ]
     },
     "metadata": {
      "needs_background": "light"
     },
     "output_type": "display_data"
    }
   ],
   "source": [
    "alpha = 0.05\n",
    "plot_single_distribution(alpha, rewards_storage)"
   ]
  },
  {
   "cell_type": "code",
   "execution_count": 23,
   "id": "d29968d4",
   "metadata": {},
   "outputs": [
    {
     "data": {
      "text/plain": [
       "{0.05: [0.0031744539737701416,\n",
       "  0.7883160831406713,\n",
       "  0.447000190615654,\n",
       "  0.9915943390224129,\n",
       "  0.6985661275684834,\n",
       "  0.3203374035656452,\n",
       "  0.7024001870304346,\n",
       "  0.7193903308361769,\n",
       "  0.8663959074765444,\n",
       "  0.4388512037694454,\n",
       "  0.12336665112525225,\n",
       "  0.21914301253855228,\n",
       "  -0.522374227643013,\n",
       "  0.6469310633838177,\n",
       "  0.8515227446332574,\n",
       "  0.9534256123006344,\n",
       "  0.9700766615569592,\n",
       "  0.8057754477486014,\n",
       "  0.11375665664672852,\n",
       "  0.19805332645773888]}"
      ]
     },
     "execution_count": 23,
     "metadata": {},
     "output_type": "execute_result"
    }
   ],
   "source": [
    "rewards_storage"
   ]
  },
  {
   "cell_type": "code",
   "execution_count": 32,
   "id": "b120764a",
   "metadata": {
    "scrolled": false
   },
   "outputs": [
    {
     "name": "stdout",
     "output_type": "stream",
     "text": [
      "It felt good, but I didn't feel like studying. r=0.0\n",
      "I want to get a good grade. r=0.79\n",
      "They said, 'You're fine. r=0.45\n",
      "It'll be the best day of my life! r=0.99\n",
      "We will be OK. r=0.7\n",
      "My heart started to beat again, and then stopped, and then I was back in bed. r=0.32\n",
      "I did everything I could. r=0.7\n",
      "I need to be the best I can be. r=0.72\n",
      "I felt fine. r=0.87\n",
      "But I'll get through it. r=0.44\n",
      "I am a freshman in high school, a freshman majoring in engineering, and I am a member r=0.12\n",
      "I had lunch. r=0.22\n",
      "But what am I going to do about it if I can't go home? What should I do r=-0.52\n",
      "It's not so bad. r=0.65\n",
      "I want to become good at my studies. r=0.85\n",
      "But my family has always been good to me and that's all I needed to know. r=0.95\n",
      "I had a good time. r=0.97\n",
      "I got a new shirt and pants. r=0.81\n",
      "I just got a new laptop! I need surgery and I don't have time to sit around and r=0.11\n",
      "I walked my dog. r=0.2\n"
     ]
    }
   ],
   "source": [
    "alpha = 0.05\n",
    "for s,r in zip(sentences_storage[alpha], rewards_storage[alpha]):\n",
    "    print(s + ' r='+str(np.round(r,2)))"
   ]
  },
  {
   "cell_type": "code",
   "execution_count": 33,
   "id": "666e4eec",
   "metadata": {
    "scrolled": false
   },
   "outputs": [
    {
     "name": "stdout",
     "output_type": "stream",
     "text": [
      "I went to the grocery store. I need to study hard. I walked my dog to the park. It felt good, but I didn't feel like studying. r=0.0\n",
      "I need to study hard. I have a math test. I have a math test. I want to get a good grade. r=0.79\n",
      "I went to the doctors. I have a math test. I went to the doctors. They said, 'You're fine. r=0.45\n",
      "I went to the grocery store. I brushed my teeth. I need to study hard. It'll be the best day of my life! r=0.99\n",
      "I might fail the test. I need surgery. I might fail the test. We will be OK. r=0.7\n",
      "I went to the doctors. I brushed my teeth. I ate breakfast. My heart started to beat again, and then stopped, and then I was back in bed. r=0.32\n",
      "I went to the grocery store. I ate breakfast. I went to the doctors. I did everything I could. r=0.7\n",
      "I walked my dog to the park. I made dinner. I need to study hard. I need to be the best I can be. r=0.72\n",
      "I might fail the test. I went to the doctors. I ate breakfast. I felt fine. r=0.87\n",
      "I brushed my teeth. I brushed my teeth. I might fail the test. But I'll get through it. r=0.44\n",
      "I woke up early. I went to the doctors. I have a math test. I am a freshman in high school, a freshman majoring in engineering, and I am a member r=0.12\n",
      "I went to the doctors. I went to the grocery store. I ate breakfast. I had lunch. r=0.22\n",
      "I went to the grocery store. I have a math test. I need surgery. But what am I going to do about it if I can't go home? What should I do r=-0.52\n",
      "I woke up early. I woke up early. I might fail the test. It's not so bad. r=0.65\n",
      "I went to the grocery store. I ate breakfast. I need to study hard. I want to become good at my studies. r=0.85\n",
      "I brushed my teeth. I went to the doctors. I might fail the test. But my family has always been good to me and that's all I needed to know. r=0.95\n",
      "I have a math test. I made dinner. I went to the grocery store. I had a good time. r=0.97\n",
      "I woke up early. I went to the grocery store. I have a math test. I got a new shirt and pants. r=0.81\n",
      "I have a math test. I brushed my teeth. I need surgery. I just got a new laptop! I need surgery and I don't have time to sit around and r=0.11\n",
      "I walked my dog to the park. I might fail the test. I went to the grocery store. I walked my dog. r=0.2\n"
     ]
    }
   ],
   "source": [
    "alpha = 0.05\n",
    "for s,r in zip(sentences_storage_full[alpha], rewards_storage[alpha]):\n",
    "    print(s + ' r='+str(np.round(r,2)))"
   ]
  },
  {
   "cell_type": "markdown",
   "id": "2527a061",
   "metadata": {},
   "source": [
    "### How does it respond to negative prompts?"
   ]
  },
  {
   "cell_type": "code",
   "execution_count": 124,
   "id": "0deb2ec7",
   "metadata": {},
   "outputs": [],
   "source": [
    "with open('../data/results/single_sentences_IYou_3/prompts_negative_wreward.txt', 'r') as f:\n",
    "    lines = f.readlines()"
   ]
  },
  {
   "cell_type": "code",
   "execution_count": 125,
   "id": "2a0d692f",
   "metadata": {},
   "outputs": [],
   "source": [
    "original_rewards = [float(l.split('\\n')[0].split(' r=')[-1]) for l in lines]"
   ]
  },
  {
   "cell_type": "code",
   "execution_count": 126,
   "id": "7f056dbd",
   "metadata": {},
   "outputs": [],
   "source": [
    "# with open('../data/results/single_sentences_IYou_3/prompts_negative.txt', 'w') as f:\n",
    "#     for line in lines:\n",
    "#         line = line.split(' r=')[0]+'\\n'\n",
    "#         f.write(line)"
   ]
  },
  {
   "cell_type": "code",
   "execution_count": 127,
   "id": "47c34947",
   "metadata": {},
   "outputs": [],
   "source": [
    "with open('../data/results/single_sentences_IYou_3/prompts_negative_comma.txt', 'w') as f:\n",
    "    for line in lines:\n",
    "        line = line.split(' r=')[0].replace('.',',').strip()+'\\n'\n",
    "        f.write(line)"
   ]
  },
  {
   "cell_type": "code",
   "execution_count": 128,
   "id": "85510a7e",
   "metadata": {},
   "outputs": [],
   "source": [
    "(sentences, \n",
    " ends, \n",
    " rewards, \n",
    " sentences_cvar, \n",
    " rewards_cvar, \n",
    "sentences_storage, \n",
    " sentences_storage_full, \n",
    " rewards_storage) =load_distributions(folder = 'single_sentences_IYou_3',\n",
    "                                                   alphas = [0.05],\n",
    "                                                   top_k =11,\n",
    "                                                   extra = '_prompt_enc',\n",
    "                                                   legacy=False,\n",
    "                                                   seed =3,\n",
    "                                                   absol='_prompts_negative_flipped'\n",
    "                                                  )"
   ]
  },
  {
   "cell_type": "code",
   "execution_count": 129,
   "id": "20953788",
   "metadata": {},
   "outputs": [
    {
     "data": {
      "image/png": "[encoded data removed]",
      "text/plain": [
       "<Figure size 1600x500 with 1 Axes>"
      ]
     },
     "metadata": {
      "needs_background": "light"
     },
     "output_type": "display_data"
    }
   ],
   "source": [
    "alpha = 0.05\n",
    "plot_single_distribution(alpha, rewards_storage)\n",
    "#plt.hist(original_rewards, color=sns.color_palette()[1], alpha=0.2)"
   ]
  },
  {
   "cell_type": "code",
   "execution_count": 130,
   "id": "95abc8da",
   "metadata": {
    "scrolled": false
   },
   "outputs": [
    {
     "name": "stdout",
     "output_type": "stream",
     "text": [
      "\u001b[38;2;150;0;0mI'm tired of being an idiot. \u001b[38;2;255;255;255m\u001b[38;2;35;40;50mIt's time for me to grow up, and start taking care of myself. r(2nd part)=-0.18\u001b[38;2;255;255;255m\n",
      "\u001b[38;2;150;0;0mI am so sick of my body. \u001b[38;2;255;255;255m\u001b[38;2;183;40;50mI want to be dead, but I can't do it. r(2nd part)=-0.92\u001b[38;2;255;255;255m\n",
      "\u001b[38;2;150;0;0mMy stomach hurt and I wanted to throw up. \u001b[38;2;255;255;255m\u001b[38;2;50;13;50mI knew the doctor had been talking about me and wanted to be on the list, but I was r(2nd part)=0.07\u001b[38;2;255;255;255m\n",
      "\u001b[38;2;150;0;0mMy dog died of pneumonia in my apartment. \u001b[38;2;255;255;255m\u001b[38;2;137;40;50mWe had to move out of the apartment because of this. r(2nd part)=-0.69\u001b[38;2;255;255;255m\n",
      "\u001b[38;2;150;0;0mIt's a horrible, horrible feeling. \u001b[38;2;255;255;255m\u001b[38;2;65;40;50mBut I've been through this before. r(2nd part)=-0.33\u001b[38;2;255;255;255m\n",
      "\u001b[38;2;150;0;0mAnd I just don't feel good. \u001b[38;2;255;255;255m\u001b[38;2;50;54;50mAnd the only thing that will give me relief is a big, fat injection of some kind of anti r(2nd part)=0.27\u001b[38;2;255;255;255m\n",
      "\u001b[38;2;150;0;0mMy wife is sick. \u001b[38;2;255;255;255m\u001b[38;2;50;172;50mI'm going on a cruise, and I'm going to get a nice, quiet place to stay r(2nd part)=0.86\u001b[38;2;255;255;255m\n",
      "\u001b[38;2;150;0;0mI've had a bad back for three years. \u001b[38;2;255;255;255m\u001b[38;2;50;187;50mIn my time in college, I was a good football player, and I'm a good football player r(2nd part)=0.94\u001b[38;2;255;255;255m\n",
      "\u001b[38;2;150;0;0mI don't feel very well. \u001b[38;2;255;255;255m\u001b[38;2;50;197;50mI was very excited, excited about getting to the next level, getting to the next generation and getting r(2nd part)=0.99\u001b[38;2;255;255;255m\n",
      "\u001b[38;2;150;0;0mI'm not feeling good. \u001b[38;2;255;255;255m\u001b[38;2;50;194;50mI'm feeling a lot better and I'm getting ready to play tomorrow. r(2nd part)=0.97\u001b[38;2;255;255;255m\n",
      "\u001b[38;2;150;0;0mI can't eat breakfast. \u001b[38;2;255;255;255m\u001b[38;2;50;102;50mBut I can eat breakfast, if I want to, I don't have to eat lunch. r(2nd part)=0.51\u001b[38;2;255;255;255m\n",
      "\u001b[38;2;150;0;0mI've been sick all week. \u001b[38;2;255;255;255m\u001b[38;2;65;40;50mSo I was just sitting on my couch and looking through the pictures I'd taken when I was sick r(2nd part)=-0.33\u001b[38;2;255;255;255m\n",
      "\u001b[38;2;150;0;0mMy head hurts. \u001b[38;2;255;255;255m\u001b[38;2;185;40;50mMy face is all swollen and it's hard to breathe. r(2nd part)=-0.93\u001b[38;2;255;255;255m\n",
      "\u001b[38;2;150;0;0mI can't do this. \u001b[38;2;255;255;255m\u001b[38;2;143;40;50mI just don't want to be the one to break that promise to my daughter. r(2nd part)=-0.72\u001b[38;2;255;255;255m\n",
      "\u001b[38;2;150;0;0mMy son had a bad cold. \u001b[38;2;255;255;255m\u001b[38;2;8;40;50mHe was sitting in front of a window. r(2nd part)=-0.04\u001b[38;2;255;255;255m\n",
      "\u001b[38;2;150;0;0mMy stomach was in pain. \u001b[38;2;255;255;255m\u001b[38;2;135;40;50mI was just thinking, 'Oh, I'm about to die. r(2nd part)=-0.68\u001b[38;2;255;255;255m\n",
      "\u001b[38;2;150;0;0mI can't afford to go back to work. \u001b[38;2;255;255;255m\u001b[38;2;3;40;50mBut I know what to do. r(2nd part)=-0.02\u001b[38;2;255;255;255m\n",
      "\u001b[38;2;150;0;0mMy stomach hurt. \u001b[38;2;255;255;255m\u001b[38;2;28;40;50mAnd when the food came out of the box it tasted… well, it was like… um, r(2nd part)=-0.14\u001b[38;2;255;255;255m\n",
      "\u001b[38;2;150;0;0mI don't feel like a man. \u001b[38;2;255;255;255m\u001b[38;2;50;62;50mI feel like me, I have a little bit of a beard. r(2nd part)=0.31\u001b[38;2;255;255;255m\n",
      "\u001b[38;2;150;0;0mMy head hurt. \u001b[38;2;255;255;255m\u001b[38;2;50;178;50mI thought about all the good times with you, and I just wanted you to be happy in the r(2nd part)=0.89\u001b[38;2;255;255;255m\n",
      "\u001b[38;2;150;0;0mI might fail the surgery. \u001b[38;2;255;255;255m\u001b[38;2;50;74;50mBut I think there would be a chance that he would be cured and that he could get the treatment r(2nd part)=0.37\u001b[38;2;255;255;255m\n",
      "\u001b[38;2;150;0;0mI can't afford another surgery. \u001b[38;2;255;255;255m\u001b[38;2;50;178;50mIf the surgery is a success, it will be a good thing that I can be back to normal r(2nd part)=0.89\u001b[38;2;255;255;255m\n",
      "\u001b[38;2;150;0;0mI'm not going to be able to study for that. \u001b[38;2;255;255;255m\u001b[38;2;50;40;50mBut the other thing is that if you're doing something you want to do, that's something else r(2nd part)=0.2\u001b[38;2;255;255;255m\n",
      "\u001b[38;2;150;0;0mThe only things that really bothered me were the three hours before, and the three hours before that. \u001b[38;2;255;255;255m\u001b[38;2;131;40;50mThat's where most of the trouble was. r(2nd part)=-0.66\u001b[38;2;255;255;255m\n",
      "\u001b[38;2;150;0;0mI was diagnosed with a rare form of cancer that had metastasized to my brain. \u001b[38;2;255;255;255m\u001b[38;2;87;40;50mThe treatment for that was a lot of chemo and radiation. r(2nd part)=-0.44\u001b[38;2;255;255;255m\n",
      "\u001b[38;2;150;0;0mAnd I just thought this is really hard on him. \u001b[38;2;255;255;255m\u001b[38;2;51;40;50mHe's a really good, smart player but he doesn't seem to want to play with the best r(2nd part)=-0.26\u001b[38;2;255;255;255m\n",
      "\u001b[38;2;150;0;0mI had a bad day and I was going to have a bad day. \u001b[38;2;255;255;255m\u001b[38;2;50;53;50mSo I just got up out of bed with my hands on my knees and I started praying. r(2nd part)=0.27\u001b[38;2;255;255;255m\n",
      "\u001b[38;2;150;0;0mBut I am not getting the results I need. \u001b[38;2;255;255;255m\u001b[38;2;56;40;50mThis time the result was much different. r(2nd part)=-0.28\u001b[38;2;255;255;255m\n",
      "\u001b[38;2;150;0;0mI can't do it. \u001b[38;2;255;255;255m\u001b[38;2;50;119;50mI'll do it when I know I can make it and I know I can get it on tape r(2nd part)=0.6\u001b[38;2;255;255;255m\n",
      "\u001b[38;2;150;0;0mMy body doesn't like that. \u001b[38;2;255;255;255m\u001b[38;2;50;50;50mIf I'm doing squats, I want to be able to get my weight to around 225 pounds, r(2nd part)=0.25\u001b[38;2;255;255;255m\n",
      "\u001b[38;2;150;0;0mI'm in pain. \u001b[38;2;255;255;255m\u001b[38;2;193;40;50mThe pain is so bad that the only thing that keeps me from dying are my own hands. r(2nd part)=-0.97\u001b[38;2;255;255;255m\n",
      "\u001b[38;2;150;0;0mI don't want to pass it. \u001b[38;2;255;255;255m\u001b[38;2;50;6;50mWe can talk about it later, but I just want to tell my story. r(2nd part)=0.03\u001b[38;2;255;255;255m\n",
      "\u001b[38;2;150;0;0mI'm having a lot of pain. \u001b[38;2;255;255;255m\u001b[38;2;178;40;50mThe doctor says I've got this weird thing called a fibromyalgia, where I can't feel r(2nd part)=-0.89\u001b[38;2;255;255;255m\n",
      "\u001b[38;2;150;0;0mI was just a normal human being, but I knew something was wrong. \u001b[38;2;255;255;255m\u001b[38;2;50;190;50mThe only thing that made me feel better was the fact that we were able to help this person, r(2nd part)=0.95\u001b[38;2;255;255;255m\n",
      "\u001b[38;2;150;0;0mI'm in trouble. \u001b[38;2;255;255;255m\u001b[38;2;50;51;50mI'll need to find a way to save the world, and I'll need your help!\" She r(2nd part)=0.26\u001b[38;2;255;255;255m\n",
      "\u001b[38;2;150;0;0mI don't want to have to go out. \u001b[38;2;255;255;255m\u001b[38;2;50;98;50mI want to be able to be with them when they're out. r(2nd part)=0.49\u001b[38;2;255;255;255m\n",
      "\u001b[38;2;150;0;0mI don't know where to go. \u001b[38;2;255;255;255m\u001b[38;2;50;135;50mI need someone who can make me better. r(2nd part)=0.68\u001b[38;2;255;255;255m\n",
      "\u001b[38;2;150;0;0mMaybe I will fail. \u001b[38;2;255;255;255m\u001b[38;2;50;177;50mBut I will do what I love, and I will do it well. r(2nd part)=0.89\u001b[38;2;255;255;255m\n",
      "\u001b[38;2;150;0;0mMaybe even lose my job. \u001b[38;2;255;255;255m\u001b[38;2;50;154;50mBut I'm going to be okay. r(2nd part)=0.77\u001b[38;2;255;255;255m\n",
      "\u001b[38;2;150;0;0mI need surgery. \u001b[38;2;255;255;255m\u001b[38;2;50;148;50mBut I'll be ok if I can make it through the next week and go through all of that r(2nd part)=0.74\u001b[38;2;255;255;255m\n",
      "\u001b[38;2;150;0;0mI don't know what I'm going to do. \u001b[38;2;255;255;255m\u001b[38;2;50;46;50mI'll have a drink, maybe a couple beers, and I'll think about it. r(2nd part)=0.23\u001b[38;2;255;255;255m\n",
      "\u001b[38;2;150;0;0mAnd I was so tired. \u001b[38;2;255;255;255m\u001b[38;2;50;134;50mThe sun was out, and the air was still. r(2nd part)=0.67\u001b[38;2;255;255;255m\n",
      "\u001b[38;2;150;0;0mI'm tired. \u001b[38;2;255;255;255m\u001b[38;2;50;21;50mI need to get back on a routine. r(2nd part)=0.11\u001b[38;2;255;255;255m\n",
      "\u001b[38;2;150;0;0mI'm tired. \u001b[38;2;255;255;255m\u001b[38;2;52;40;50mI just want to sleep now…\" The girl groaned. r(2nd part)=-0.26\u001b[38;2;255;255;255m\n",
      "\u001b[38;2;150;0;0mI'm not going to get good grades. \u001b[38;2;255;255;255m\u001b[38;2;50;106;50mBut it's my dream of becoming a doctor in the U. r(2nd part)=0.53\u001b[38;2;255;255;255m\n",
      "\u001b[38;2;150;0;0mI'm so sorry. \u001b[38;2;255;255;255m\u001b[38;2;50;101;50mI'll be back to try and help you. r(2nd part)=0.51\u001b[38;2;255;255;255m\n",
      "\u001b[38;2;150;0;0mI was tired of lying there. \u001b[38;2;255;255;255m\u001b[38;2;50;22;50mSo that is when I made up my mind to fight back. r(2nd part)=0.11\u001b[38;2;255;255;255m\n",
      "\u001b[38;2;150;0;0mI didn't get any sleep. \u001b[38;2;255;255;255m\u001b[38;2;50;161;50mI'm just glad it went away quickly. r(2nd part)=0.81\u001b[38;2;255;255;255m\n",
      "\u001b[38;2;150;0;0mI was in a car accident. \u001b[38;2;255;255;255m\u001b[38;2;132;40;50mA friend and I were driving and I got into a car accident. r(2nd part)=-0.66\u001b[38;2;255;255;255m\n",
      "\u001b[38;2;150;0;0mIt's like a nightmare. \u001b[38;2;255;255;255m\u001b[38;2;149;40;50mAnd I'm just like, I don't know what's happening. r(2nd part)=-0.75\u001b[38;2;255;255;255m\n",
      "\u001b[38;2;150;0;0mIt's not that I'm a bad guy, just that I'm a very bad man. \u001b[38;2;255;255;255m\u001b[38;2;195;40;50mI am a very, very, very sick and twisted man. r(2nd part)=-0.98\u001b[38;2;255;255;255m\n",
      "\u001b[38;2;150;0;0mI might get into trouble. \u001b[38;2;255;255;255m\u001b[38;2;50;192;50mBut I'm a good guy, and that makes me feel better. r(2nd part)=0.96\u001b[38;2;255;255;255m\n",
      "\u001b[38;2;150;0;0mI didn't get up to go to school. \u001b[38;2;255;255;255m\u001b[38;2;50;56;50mWhen I finally got out there, I had a few minutes to myself and I just started playing and r(2nd part)=0.28\u001b[38;2;255;255;255m\n",
      "\u001b[38;2;150;0;0mI'm not doing that math. \u001b[38;2;255;255;255m\u001b[38;2;50;196;50mIt's just, I'm so proud of him and I want him to continue to work hard and r(2nd part)=0.98\u001b[38;2;255;255;255m\n",
      "\u001b[38;2;150;0;0mI didn't eat anything. \u001b[38;2;255;255;255m\u001b[38;2;132;40;50mMy husband, my sister, my brother – all of us are in the hospital. r(2nd part)=-0.66\u001b[38;2;255;255;255m\n",
      "\u001b[38;2;150;0;0mMy heart stopped. \u001b[38;2;255;255;255m\u001b[38;2;4;40;50mI looked at the ground, I felt the ground. r(2nd part)=-0.02\u001b[38;2;255;255;255m\n",
      "\u001b[38;2;150;0;0mI don't want to be a burden. \u001b[38;2;255;255;255m\u001b[38;2;50;177;50mI want to be the best I can be, and I want to be an example for the other r(2nd part)=0.89\u001b[38;2;255;255;255m\n",
      "\u001b[38;2;150;0;0mI'm not really sure what I'm doing with this test. \u001b[38;2;255;255;255m\u001b[38;2;50;161;50mIt seems to have some value for a couple of reasons... First, it can be used as an r(2nd part)=0.81\u001b[38;2;255;255;255m\n",
      "\u001b[38;2;150;0;0mI was tired. \u001b[38;2;255;255;255m\u001b[38;2;6;40;50mSo I was just waiting for my turn. r(2nd part)=-0.03\u001b[38;2;255;255;255m\n",
      "\u001b[38;2;150;0;0mI was tired. \u001b[38;2;255;255;255m\u001b[38;2;48;40;50mSo I said 'no' to the first offer and I went with the second. r(2nd part)=-0.24\u001b[38;2;255;255;255m\n",
      "\u001b[38;2;150;0;0mThe next day, I was back in the hospital. \u001b[38;2;255;255;255m\u001b[38;2;50;52;50mThe nurse gave me an IV line, which was the only way to get an intravenous drip. r(2nd part)=0.26\u001b[38;2;255;255;255m\n",
      "\u001b[38;2;150;0;0mI need help. \u001b[38;2;255;255;255m\u001b[38;2;50;127;50mHelp me! Help me! Help me! Help me! Help me! Help me! Help me r(2nd part)=0.64\u001b[38;2;255;255;255m\n",
      "\u001b[38;2;150;0;0mAnd I'm still going to sleep on the floor of the closet. \u001b[38;2;255;255;255m\u001b[38;2;50;25;50mAnd I'm sure they will. r(2nd part)=0.13\u001b[38;2;255;255;255m\n",
      "\u001b[38;2;150;0;0mI might be late. \u001b[38;2;255;255;255m\u001b[38;2;50;90;50mBut I'll get there soon enough. r(2nd part)=0.45\u001b[38;2;255;255;255m\n",
      "\u001b[38;2;150;0;0mHe was in pain. \u001b[38;2;255;255;255m\u001b[38;2;127;40;50mThe doctor had told him that it was time to end his life. r(2nd part)=-0.64\u001b[38;2;255;255;255m\n",
      "\u001b[38;2;150;0;0mThen, I had to get out of my car to use the restroom. \u001b[38;2;255;255;255m\u001b[38;2;50;5;50mAs soon as I was done, we were all standing outside in the cold, and we were all r(2nd part)=0.03\u001b[38;2;255;255;255m\n",
      "\u001b[38;2;150;0;0mThe next morning, I was still tired. \u001b[38;2;255;255;255m\u001b[38;2;8;40;50mThe sun was setting, so my body was in a constant state of heat. r(2nd part)=-0.04\u001b[38;2;255;255;255m\n",
      "\u001b[38;2;150;0;0mI was a little bit nervous. \u001b[38;2;255;255;255m\u001b[38;2;50;160;50mBut I was ready and eager to get it going. r(2nd part)=0.8\u001b[38;2;255;255;255m\n",
      "\u001b[38;2;150;0;0mAnd I got nothing out of that. \u001b[38;2;255;255;255m\u001b[38;2;50;191;50mBut I was so happy. r(2nd part)=0.96\u001b[38;2;255;255;255m\n",
      "\u001b[38;2;150;0;0mI had to work. \u001b[38;2;255;255;255m\u001b[38;2;60;40;50mAnd so it's like a double-edged sword, and you know I was trying to get back r(2nd part)=-0.3\u001b[38;2;255;255;255m\n",
      "\u001b[38;2;150;0;0mI had to work. \u001b[38;2;255;255;255m\u001b[38;2;12;40;50mAnd that's where you come into the game. r(2nd part)=-0.06\u001b[38;2;255;255;255m\n",
      "\u001b[38;2;150;0;0mI didn't have much to do. \u001b[38;2;255;255;255m\u001b[38;2;50;174;50mIt felt like a good idea to have him do a little bit of work for me. r(2nd part)=0.87\u001b[38;2;255;255;255m\n",
      "\u001b[38;2;150;0;0mYou know what I did? I watched television until I collapsed. \u001b[38;2;255;255;255m\u001b[38;2;50;38;50mThen I watched the game with my wife. r(2nd part)=0.19\u001b[38;2;255;255;255m\n",
      "\u001b[38;2;150;0;0mThere was nothing but the same. \u001b[38;2;255;255;255m\u001b[38;2;50;193;50mIt was a good night. r(2nd part)=0.97\u001b[38;2;255;255;255m\n",
      "\u001b[38;2;150;0;0mBut it wasn't going to be easy, and it didn't have to be easy. \u001b[38;2;255;255;255m\u001b[38;2;50;25;50mBut I had a plan. r(2nd part)=0.13\u001b[38;2;255;255;255m\n"
     ]
    }
   ],
   "source": [
    "alpha = 0.05\n",
    "i = 0 \n",
    "for s, sf, r in zip(sentences_storage[alpha],\n",
    "                   sentences_storage_full[alpha], \n",
    "                   rewards_storage[alpha]):\n",
    "    \n",
    "    p = sf.replace(s, '')\n",
    "    \n",
    "    if r<0:\n",
    "        red = int(200*r)*-1\n",
    "        green = 40\n",
    "    else:\n",
    "        green = int(200*r)\n",
    "        red = 50\n",
    "\n",
    "    r_str = ' r(2nd part)='+str(np.round(r,2))\n",
    "    print(colored(150, 0, 0, p) + colored(red, green, 50, s + r_str))\n"
   ]
  },
  {
   "cell_type": "markdown",
   "id": "7a814d5d",
   "metadata": {},
   "source": [
    "### How does it respond to negative prompts? (What about with but)"
   ]
  },
  {
   "cell_type": "code",
   "execution_count": 65,
   "id": "45c542ae",
   "metadata": {},
   "outputs": [],
   "source": [
    "(sentences, \n",
    " ends, \n",
    " rewards, \n",
    " sentences_cvar, \n",
    " rewards_cvar, \n",
    "sentences_storage, \n",
    " sentences_storage_full, \n",
    " rewards_storage) =load_distributions(folder = 'single_sentences_IYou_3',\n",
    "                                                   alphas = [0.05],\n",
    "                                                   top_k =11,\n",
    "                                                   extra = '_prompt_enc',\n",
    "                                                   legacy=False,\n",
    "                                                   seed =3,\n",
    "                                                   absol='_prompts_negative_comma_flipped'\n",
    "                                                  )"
   ]
  },
  {
   "cell_type": "code",
   "execution_count": 66,
   "id": "9a3c0e26",
   "metadata": {},
   "outputs": [
    {
     "data": {
      "image/png": "[encoded data removed]",
      "text/plain": [
       "<Figure size 1600x500 with 1 Axes>"
      ]
     },
     "metadata": {
      "needs_background": "light"
     },
     "output_type": "display_data"
    }
   ],
   "source": [
    "alpha = 0.05\n",
    "plot_single_distribution(alpha, rewards_storage)\n",
    "#plt.hist(original_rewards, color=sns.color_palette()[1], alpha=0.2)"
   ]
  },
  {
   "cell_type": "code",
   "execution_count": 123,
   "id": "bfadd97e",
   "metadata": {
    "scrolled": false
   },
   "outputs": [
    {
     "name": "stdout",
     "output_type": "stream",
     "text": [
      "\u001b[38;2;150;0;0mI'm tired of being an idiot, \u001b[38;2;255;255;255m\u001b[38;2;50;163;50mand I want to be a smart, independent and capable adult. r(2nd part)=0.82\u001b[38;2;255;255;255m\n",
      "\u001b[38;2;150;0;0mI am so sick of my body, \u001b[38;2;255;255;255m\u001b[38;2;193;40;50mI can never be healthy anymore. r(2nd part)=-0.97\u001b[38;2;255;255;255m\n",
      "\u001b[38;2;150;0;0mMy stomach hurt and I wanted to throw up, \u001b[38;2;255;255;255m\u001b[38;2;50;19;50mbut I held onto the bottle until I could calm down. r(2nd part)=0.1\u001b[38;2;255;255;255m\n",
      "\u001b[38;2;150;0;0mMy dog died of pneumonia in my apartment, \u001b[38;2;255;255;255m\u001b[38;2;104;40;50mso we had no idea where to look for a cure. r(2nd part)=-0.52\u001b[38;2;255;255;255m\n",
      "\u001b[38;2;150;0;0mIt's a horrible, horrible feeling, \u001b[38;2;255;255;255m\u001b[38;2;50;194;50mbut we will survive this one, and this is the beginning of another great year for our family. r(2nd part)=0.97\u001b[38;2;255;255;255m\n",
      "\u001b[38;2;150;0;0mAnd I just don't feel good, \u001b[38;2;255;255;255m\u001b[38;2;177;40;50mso I can't do it, and I don't feel like I have a right to do it r(2nd part)=-0.89\u001b[38;2;255;255;255m\n",
      "\u001b[38;2;150;0;0mMy wife is sick, \u001b[38;2;255;255;255m\u001b[38;2;50;192;50mbut it's going better than expected, I'm doing better than I thought I would be doing, r(2nd part)=0.96\u001b[38;2;255;255;255m\n",
      "\u001b[38;2;150;0;0mI've had a bad back for three years, \u001b[38;2;255;255;255m\u001b[38;2;50;177;50mbut I'm in good shape and I'm still playing football. r(2nd part)=0.89\u001b[38;2;255;255;255m\n",
      "\u001b[38;2;150;0;0mI don't feel very well, \u001b[38;2;255;255;255m\u001b[38;2;50;150;50mbut I'm fine and will be in the office for the rest of the day, then we'll r(2nd part)=0.75\u001b[38;2;255;255;255m\n",
      "\u001b[38;2;150;0;0mI'm not feeling good, \u001b[38;2;255;255;255m\u001b[38;2;50;15;50mso let's take a look. r(2nd part)=0.08\u001b[38;2;255;255;255m\n",
      "\u001b[38;2;150;0;0mI can't eat breakfast, \u001b[38;2;255;255;255m\u001b[38;2;50;180;50mbut I do like a nice cup of coffee and some good food. r(2nd part)=0.9\u001b[38;2;255;255;255m\n",
      "\u001b[38;2;150;0;0mI've been sick all week, \u001b[38;2;255;255;255m\u001b[38;2;50;197;50mso this is my chance to show off my skills! Thanks a bunch for the lovely gifts!\" - r(2nd part)=0.99\u001b[38;2;255;255;255m\n",
      "\u001b[38;2;150;0;0mMy head hurts, \u001b[38;2;255;255;255m\u001b[38;2;50;43;50mbut I'm trying to stay strong,' said the boy, who did not give his name. r(2nd part)=0.22\u001b[38;2;255;255;255m\n",
      "\u001b[38;2;150;0;0mI can't do this, \u001b[38;2;255;255;255m\u001b[38;2;50;34;50mbut I've got a plan that we need to do in the short term. r(2nd part)=0.17\u001b[38;2;255;255;255m\n",
      "\u001b[38;2;150;0;0mMy son had a bad cold, \u001b[38;2;255;255;255m\u001b[38;2;50;37;50mso we got him a bottle of water and put him to bed. r(2nd part)=0.19\u001b[38;2;255;255;255m\n",
      "\u001b[38;2;150;0;0mMy stomach was in pain, \u001b[38;2;255;255;255m\u001b[38;2;50;11;50mbut when I was in the middle of it, I knew that the pain was nothing. r(2nd part)=0.06\u001b[38;2;255;255;255m\n",
      "\u001b[38;2;150;0;0mI can't afford to go back to work, \u001b[38;2;255;255;255m\u001b[38;2;50;15;50mso I'm staying here for the time being. r(2nd part)=0.08\u001b[38;2;255;255;255m\n",
      "\u001b[38;2;150;0;0mMy stomach hurt, \u001b[38;2;255;255;255m\u001b[38;2;50;172;50mbut I was glad to have it. r(2nd part)=0.86\u001b[38;2;255;255;255m\n",
      "\u001b[38;2;150;0;0mI don't feel like a man, \u001b[38;2;255;255;255m\u001b[38;2;50;186;50mbut I do feel like a human, and I think that is a very, very powerful thing to r(2nd part)=0.93\u001b[38;2;255;255;255m\n",
      "\u001b[38;2;150;0;0mMy head hurt, \u001b[38;2;255;255;255m\u001b[38;2;50;160;50mbut it seemed to be a good idea to keep going, at least I could feel my arms and r(2nd part)=0.8\u001b[38;2;255;255;255m\n",
      "\u001b[38;2;150;0;0mI might fail the surgery, \u001b[38;2;255;255;255m\u001b[38;2;50;120;50mbut at least my daughter will have a chance. r(2nd part)=0.6\u001b[38;2;255;255;255m\n",
      "\u001b[38;2;150;0;0mI can't afford another surgery, \u001b[38;2;255;255;255m\u001b[38;2;50;147;50mso I want to be able to be with my wife and daughter. r(2nd part)=0.74\u001b[38;2;255;255;255m\n",
      "\u001b[38;2;150;0;0mI'm not going to be able to study for that, \u001b[38;2;255;255;255m\u001b[38;2;50;66;50mbut if you do, then that's the only way you'll get the credit. r(2nd part)=0.33\u001b[38;2;255;255;255m\n",
      "\u001b[38;2;150;0;0mThe only things that really bothered me were the three hours before, and the three hours before that, \u001b[38;2;255;255;255m\u001b[38;2;39;40;50mbut that's to be expected. r(2nd part)=-0.2\u001b[38;2;255;255;255m\n",
      "\u001b[38;2;150;0;0mI was diagnosed with a rare form of cancer that had metastasized to my brain, \u001b[38;2;255;255;255m\u001b[38;2;55;40;50mmy lungs and on to my spine. r(2nd part)=-0.28\u001b[38;2;255;255;255m\n",
      "\u001b[38;2;150;0;0mAnd I just thought this is really hard on him, \u001b[38;2;255;255;255m\u001b[38;2;40;40;50mbut you know, it is. r(2nd part)=-0.2\u001b[38;2;255;255;255m\n",
      "\u001b[38;2;150;0;0mI had a bad day and I was going to have a bad day, \u001b[38;2;255;255;255m\u001b[38;2;50;197;50mbut then the sun came out, and it was amazing and I was just happy and so happy that r(2nd part)=0.99\u001b[38;2;255;255;255m\n",
      "\u001b[38;2;150;0;0mBut I am not getting the results I need, \u001b[38;2;255;255;255m\u001b[38;2;50;53;50mso you have to make the best decision in your situation. r(2nd part)=0.27\u001b[38;2;255;255;255m\n",
      "\u001b[38;2;150;0;0mI can't do it, \u001b[38;2;255;255;255m\u001b[38;2;50;152;50mbut it would be nice. r(2nd part)=0.76\u001b[38;2;255;255;255m\n",
      "\u001b[38;2;150;0;0mMy body doesn't like that, \u001b[38;2;255;255;255m\u001b[38;2;16;40;50mbut it's a reality. r(2nd part)=-0.08\u001b[38;2;255;255;255m\n",
      "\u001b[38;2;150;0;0mI'm in pain, \u001b[38;2;255;255;255m\u001b[38;2;50;138;50mbut I want to play hockey, too. r(2nd part)=0.69\u001b[38;2;255;255;255m\n",
      "\u001b[38;2;150;0;0mI don't want to pass it, \u001b[38;2;255;255;255m\u001b[38;2;50;38;50mso I've just been sitting there with my hands on my knees like a good little girl. r(2nd part)=0.19\u001b[38;2;255;255;255m\n",
      "\u001b[38;2;150;0;0mI'm having a lot of pain, \u001b[38;2;255;255;255m\u001b[38;2;50;194;50mbut I'm also very proud of what we're doing here. r(2nd part)=0.97\u001b[38;2;255;255;255m\n",
      "\u001b[38;2;150;0;0mI was just a normal human being, but I knew something was wrong, \u001b[38;2;255;255;255m\u001b[38;2;34;40;50mso I called the police and we started searching the area. r(2nd part)=-0.17\u001b[38;2;255;255;255m\n",
      "\u001b[38;2;150;0;0mI'm in trouble, \u001b[38;2;255;255;255m\u001b[38;2;50;123;50mbut I'll be fine. r(2nd part)=0.62\u001b[38;2;255;255;255m\n",
      "\u001b[38;2;150;0;0mI don't want to have to go out, \u001b[38;2;255;255;255m\u001b[38;2;36;40;50mbut when I get to see the world and I'm able to see my friends, I don't r(2nd part)=-0.18\u001b[38;2;255;255;255m\n",
      "\u001b[38;2;150;0;0mI don't know where to go, \u001b[38;2;255;255;255m\u001b[38;2;50;41;50mbut I can go anywhere to find something that will let me get out of here fast. r(2nd part)=0.21\u001b[38;2;255;255;255m\n",
      "\u001b[38;2;150;0;0mMaybe I will fail, \u001b[38;2;255;255;255m\u001b[38;2;50;88;50mbut I'm still going to try. r(2nd part)=0.44\u001b[38;2;255;255;255m\n",
      "\u001b[38;2;150;0;0mMaybe even lose my job, \u001b[38;2;255;255;255m\u001b[38;2;9;40;50mtoo. r(2nd part)=-0.05\u001b[38;2;255;255;255m\n",
      "\u001b[38;2;150;0;0mI need surgery, \u001b[38;2;255;255;255m\u001b[38;2;50;3;50mplease. r(2nd part)=0.02\u001b[38;2;255;255;255m\n",
      "\u001b[38;2;150;0;0mI don't know what I'm going to do, \u001b[38;2;255;255;255m\u001b[38;2;50;178;50mbut I'll be back here, with a smile and a good laugh, and I'll be back r(2nd part)=0.89\u001b[38;2;255;255;255m\n",
      "\u001b[38;2;150;0;0mAnd I was so tired, \u001b[38;2;255;255;255m\u001b[38;2;43;40;50mbut I had to get back in my car. r(2nd part)=-0.22\u001b[38;2;255;255;255m\n",
      "\u001b[38;2;150;0;0mI'm tired, \u001b[38;2;255;255;255m\u001b[38;2;26;40;50mso go to sleep. r(2nd part)=-0.13\u001b[38;2;255;255;255m\n",
      "\u001b[38;2;150;0;0mI'm tired, \u001b[38;2;255;255;255m\u001b[38;2;50;126;50mbut I want to keep working. r(2nd part)=0.63\u001b[38;2;255;255;255m\n",
      "\u001b[38;2;150;0;0mI'm not going to get good grades, \u001b[38;2;255;255;255m\u001b[38;2;50;197;50mbut the students are so excited to have the opportunity to do this. r(2nd part)=0.99\u001b[38;2;255;255;255m\n",
      "\u001b[38;2;150;0;0mI'm so sorry, \u001b[38;2;255;255;255m\u001b[38;2;50;9;50mMr. r(2nd part)=0.05\u001b[38;2;255;255;255m\n",
      "\u001b[38;2;150;0;0mI was tired of lying there, \u001b[38;2;255;255;255m\u001b[38;2;50;13;50mso I decided to get out of the water and walk out. r(2nd part)=0.07\u001b[38;2;255;255;255m\n",
      "\u001b[38;2;150;0;0mI didn't get any sleep, \u001b[38;2;255;255;255m\u001b[38;2;50;53;50mthat's for sure. r(2nd part)=0.27\u001b[38;2;255;255;255m\n",
      "\u001b[38;2;150;0;0mI was in a car accident, \u001b[38;2;255;255;255m\u001b[38;2;50;151;50mbut I was able to drive home safely. r(2nd part)=0.76\u001b[38;2;255;255;255m\n",
      "\u001b[38;2;150;0;0mIt's like a nightmare, \u001b[38;2;255;255;255m\u001b[38;2;57;40;50ma nightmare of an alternate reality that you can wake up from. r(2nd part)=-0.29\u001b[38;2;255;255;255m\n",
      "\u001b[38;2;150;0;0mIt's not that I'm a bad guy, just that I'm a very bad man, \u001b[38;2;255;255;255m\u001b[38;2;50;82;50mso I'll be happy to be rid of him. r(2nd part)=0.41\u001b[38;2;255;255;255m\n",
      "\u001b[38;2;150;0;0mI might get into trouble, \u001b[38;2;255;255;255m\u001b[38;2;50;144;50mbut I can still do this!\" I thought. r(2nd part)=0.72\u001b[38;2;255;255;255m\n",
      "\u001b[38;2;150;0;0mI didn't get up to go to school, \u001b[38;2;255;255;255m\u001b[38;2;50;176;50mbut I still got a good grade in school. r(2nd part)=0.88\u001b[38;2;255;255;255m\n",
      "\u001b[38;2;150;0;0mI'm not doing that math, \u001b[38;2;255;255;255m\u001b[38;2;57;40;50mso here you go. r(2nd part)=-0.29\u001b[38;2;255;255;255m\n",
      "\u001b[38;2;150;0;0mI didn't eat anything, \u001b[38;2;255;255;255m\u001b[38;2;50;30;50mbut it wasn't that hard. r(2nd part)=0.15\u001b[38;2;255;255;255m\n",
      "\u001b[38;2;150;0;0mMy heart stopped, \u001b[38;2;255;255;255m\u001b[38;2;113;40;50mthen it went into cardiac arrest. r(2nd part)=-0.57\u001b[38;2;255;255;255m\n",
      "\u001b[38;2;150;0;0mI don't want to be a burden, \u001b[38;2;255;255;255m\u001b[38;2;50;87;50mbut I want to give them something to think about and I'm trying to do that right now. r(2nd part)=0.44\u001b[38;2;255;255;255m\n",
      "\u001b[38;2;150;0;0mI'm not really sure what I'm doing with this test, \u001b[38;2;255;255;255m\u001b[38;2;1;40;50mbut here's how I came up with it:\n",
      "\n",
      ". r(2nd part)=-0.01\u001b[38;2;255;255;255m\n",
      "\u001b[38;2;150;0;0mI was tired, \u001b[38;2;255;255;255m\u001b[38;2;50;170;50mso I took a walk, and when I reached the beach, I thought I had a good place r(2nd part)=0.85\u001b[38;2;255;255;255m\n",
      "\u001b[38;2;150;0;0mI was tired, \u001b[38;2;255;255;255m\u001b[38;2;50;195;50mbut it is a good feeling to be up and running again. r(2nd part)=0.98\u001b[38;2;255;255;255m\n",
      "\u001b[38;2;150;0;0mThe next day, I was back in the hospital, \u001b[38;2;255;255;255m\u001b[38;2;0;40;50mand that was it. r(2nd part)=-0.0\u001b[38;2;255;255;255m\n",
      "\u001b[38;2;150;0;0mI need help, \u001b[38;2;255;255;255m\u001b[38;2;50;6;50mmy friend\". The two of them walked out of a nearby restaurant and headed toward an abandoned warehouse. r(2nd part)=0.03\u001b[38;2;255;255;255m\n",
      "\u001b[38;2;150;0;0mAnd I'm still going to sleep on the floor of the closet, \u001b[38;2;255;255;255m\u001b[38;2;50;149;50mI think that's the right thing to do. r(2nd part)=0.75\u001b[38;2;255;255;255m\n",
      "\u001b[38;2;150;0;0mI might be late, \n",
      "\n",
      "\u001b[38;2;255;255;255m\u001b[38;2;50;67;50mbut please keep up with the progress, it's going to take some time to finish up! r(2nd part)=0.34\u001b[38;2;255;255;255m\n",
      "\u001b[38;2;150;0;0mHe was in pain, \u001b[38;2;255;255;255m\u001b[38;2;21;40;50mso I decided that I'd take this pain into my own hands, and I took his head off r(2nd part)=-0.11\u001b[38;2;255;255;255m\n",
      "\u001b[38;2;150;0;0mThen, I had to get out of my car to use the restroom, \u001b[38;2;255;255;255m\u001b[38;2;17;40;50mand there I found myself in front of a guy who was standing in the middle of the road, r(2nd part)=-0.09\u001b[38;2;255;255;255m\n",
      "\u001b[38;2;150;0;0mThe next morning, I was still tired, \u001b[38;2;255;255;255m\u001b[38;2;50;180;50mbut I felt much better. r(2nd part)=0.9\u001b[38;2;255;255;255m\n",
      "\u001b[38;2;150;0;0mI was a little bit nervous, \u001b[38;2;255;255;255m\u001b[38;2;50;162;50mbut it turned out well. r(2nd part)=0.81\u001b[38;2;255;255;255m\n",
      "\u001b[38;2;150;0;0mAnd I got nothing out of that, \u001b[38;2;255;255;255m\u001b[38;2;50;191;50mbut it was a good experience. r(2nd part)=0.96\u001b[38;2;255;255;255m\n",
      "\u001b[38;2;150;0;0mI had to work, \u001b[38;2;255;255;255m\u001b[38;2;50;184;50mbut it was a good thing for us as a club. r(2nd part)=0.92\u001b[38;2;255;255;255m\n",
      "\u001b[38;2;150;0;0mI had to work, \u001b[38;2;255;255;255m\u001b[38;2;50;193;50mbut it was a great experience. r(2nd part)=0.97\u001b[38;2;255;255;255m\n",
      "\u001b[38;2;150;0;0mI didn't have much to do, \u001b[38;2;255;255;255m\u001b[38;2;50;172;50mbut it was fun anyway. r(2nd part)=0.86\u001b[38;2;255;255;255m\n",
      "\u001b[38;2;150;0;0mYou know what I did? I watched television until I collapsed, \u001b[38;2;255;255;255m\u001b[38;2;45;40;50mjust because, you know what I'm saying, I wanted to see what I'd missed. r(2nd part)=-0.23\u001b[38;2;255;255;255m\n",
      "\u001b[38;2;150;0;0mThere was nothing but the same, \u001b[38;2;255;255;255m\u001b[38;2;41;40;50mthe same, the same as before. r(2nd part)=-0.21\u001b[38;2;255;255;255m\n",
      "\u001b[38;2;150;0;0mBut it wasn't going to be easy, and it didn't have to be easy, \u001b[38;2;255;255;255m\u001b[38;2;50;8;50mbut I was going to do this. r(2nd part)=0.04\u001b[38;2;255;255;255m\n"
     ]
    }
   ],
   "source": [
    "alpha = 0.05\n",
    "i = 0 \n",
    "for s, sf, r in zip(sentences_storage[alpha],\n",
    "                   sentences_storage_full[alpha], \n",
    "                   rewards_storage[alpha]):\n",
    "    \n",
    "    p = sf.replace(s, '')\n",
    "    \n",
    "    if r<0:\n",
    "        red = int(200*r)*-1\n",
    "        green = 40\n",
    "    else:\n",
    "        green = int(200*r)\n",
    "        red = 50\n",
    "\n",
    "    r_str = ' r(2nd part)='+str(np.round(r,2))\n",
    "    print(colored(150, 0, 0, p) + colored(red, green, 50, s + r_str))\n"
   ]
  },
  {
   "cell_type": "code",
   "execution_count": null,
   "id": "40354b70",
   "metadata": {},
   "outputs": [],
   "source": []
  }
 ],
 "metadata": {
  "kernelspec": {
   "display_name": "Python [conda env:conda_env] *",
   "language": "python",
   "name": "conda-env-conda_env-py"
  },
  "language_info": {
   "codemirror_mode": {
    "name": "ipython",
    "version": 3
   },
   "file_extension": ".py",
   "mimetype": "text/x-python",
   "name": "python",
   "nbconvert_exporter": "python",
   "pygments_lexer": "ipython3",
   "version": "3.9.12"
  },
  "toc": {
   "base_numbering": 1,
   "nav_menu": {},
   "number_sections": true,
   "sideBar": true,
   "skip_h1_title": false,
   "title_cell": "Table of Contents",
   "title_sidebar": "Contents",
   "toc_cell": false,
   "toc_position": {},
   "toc_section_display": true,
   "toc_window_display": true
  }
 },
 "nbformat": 4,
 "nbformat_minor": 5
}
