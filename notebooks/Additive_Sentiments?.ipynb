{
 "cells": [
  {
   "cell_type": "code",
   "execution_count": 1,
   "id": "a5b6cdbe",
   "metadata": {},
   "outputs": [
    {
     "name": "stderr",
     "output_type": "stream",
     "text": [
      "/home/cgagne/cvar_generation/conda_env/lib/python3.9/site-packages/tqdm/auto.py:22: TqdmWarning: IProgress not found. Please update jupyter and ipywidgets. See https://ipywidgets.readthedocs.io/en/stable/user_install.html\n",
      "  from .autonotebook import tqdm as notebook_tqdm\n"
     ]
    }
   ],
   "source": [
    "import numpy as np\n",
    "import matplotlib.pyplot as plt\n",
    "import seaborn as sns\n",
    "import pickle\n",
    "import torch\n",
    "import torch.nn as nn\n",
    "import pickle\n",
    "import sys\n",
    "import imp\n",
    "sys.path.append('../')\n",
    "%matplotlib inline"
   ]
  },
  {
   "cell_type": "code",
   "execution_count": 2,
   "id": "ba6e874a",
   "metadata": {},
   "outputs": [],
   "source": [
    "from transformers import (\n",
    "    GPT2Config,\n",
    "    GPT2Tokenizer,\n",
    "    GPT2LMHeadModel,\n",
    "    MinLengthLogitsProcessor,\n",
    "    LogitsProcessorList,\n",
    "    AutoTokenizer,\n",
    "    AutoModelForSequenceClassification,\n",
    ")\n",
    "from cvar_helpers import calc_cvar_from_quantiles\n",
    "from cvar_sampler import distort_probabilities\n",
    "from rl_learner import TD_Learner\n",
    "from generate_sentences_w_cvar import score_sentiment\n",
    "\n",
    "import manual_examples\n",
    "imp.reload(manual_examples)\n",
    "from manual_examples import get_probabilities, get_distributions, plot_distributions, get_prompt_distribution"
   ]
  },
  {
   "cell_type": "markdown",
   "id": "fead1377",
   "metadata": {},
   "source": [
    "### Loading Sentiment Model"
   ]
  },
  {
   "cell_type": "code",
   "execution_count": 4,
   "id": "eabd40a0",
   "metadata": {},
   "outputs": [],
   "source": [
    "device = 'cpu'\n",
    "sentiment_tokenizer = AutoTokenizer.from_pretrained('../models/pretrained/cardiffnlp-twitter-roberta-base-sentiment')\n",
    "sentiment_model = AutoModelForSequenceClassification.from_pretrained('../models/pretrained/cardiffnlp-twitter-roberta-base-sentiment')\n",
    "sentiment_model.to(device);"
   ]
  },
  {
   "cell_type": "markdown",
   "id": "dc172e23",
   "metadata": {},
   "source": [
    "### Examples"
   ]
  },
  {
   "cell_type": "code",
   "execution_count": 5,
   "id": "67fb15fd",
   "metadata": {},
   "outputs": [
    {
     "name": "stdout",
     "output_type": "stream",
     "text": [
      "I felt really sick.\n",
      "But then I went to the doctors to get medicine.\n",
      "Now I feel better.\n",
      "I felt really sick. But then I went to the doctors to get medicine. Now I feel better.\n",
      "\n",
      "individual sentiments: [-0.9379235  -0.15414045  0.88297855]\n",
      "summed: -0.21\n",
      "scored as a whole: 0.61\n"
     ]
    }
   ],
   "source": [
    "prompts = ['I felt really sick.', \n",
    "               'But then I went to the doctors to get medicine.', \n",
    "               'Now I feel better.']\n",
    "\n",
    "compound = ' '.join(prompts)\n",
    "prompts.append(compound)\n",
    "for prompt in prompts:\n",
    "    print(prompt)\n",
    "sentiments = score_sentiment(prompts, sentiment_tokenizer, sentiment_model, device)\n",
    "print(\"\")\n",
    "print(f'individual sentiments: {sentiments[0:-1]}')\n",
    "print(f'summed: {sentiments[0:-1].sum():0.2f}')\n",
    "print(f'scored as a whole: {sentiments[-1]:0.2f}')\n"
   ]
  },
  {
   "cell_type": "code",
   "execution_count": 6,
   "id": "cea4161b",
   "metadata": {},
   "outputs": [
    {
     "name": "stdout",
     "output_type": "stream",
     "text": [
      "I felt good.\n",
      "But then I went to the restaurant.\n",
      "And I got sick.\n",
      "I felt good. But then I went to the restaurant. And I got sick.\n",
      "\n",
      "individual sentiments: [ 0.95712042  0.02555282 -0.91727647]\n",
      "summed: 0.07\n",
      "scored as a whole: -0.47\n"
     ]
    }
   ],
   "source": [
    "prompts = ['I felt good.', \n",
    "               'But then I went to the restaurant.', \n",
    "               'And I got sick.']\n",
    "\n",
    "compound = ' '.join(prompts)\n",
    "prompts.append(compound)\n",
    "for prompt in prompts:\n",
    "    print(prompt)\n",
    "sentiments = score_sentiment(prompts, sentiment_tokenizer, sentiment_model, device)\n",
    "print(\"\")\n",
    "print(f'individual sentiments: {sentiments[0:-1]}')\n",
    "print(f'summed: {sentiments[0:-1].sum():0.2f}')\n",
    "print(f'scored as a whole: {sentiments[-1]:0.2f}')\n"
   ]
  },
  {
   "cell_type": "code",
   "execution_count": 7,
   "id": "036d5e9a",
   "metadata": {},
   "outputs": [
    {
     "name": "stdout",
     "output_type": "stream",
     "text": [
      "I felt good.\n",
      "I felt bad.\n",
      "I felt good. I felt bad.\n",
      "\n",
      "individual sentiments: [ 0.95712024 -0.79355948]\n",
      "summed: 0.16\n",
      "scored as a whole: 0.24\n"
     ]
    }
   ],
   "source": [
    "prompts = ['I felt good.', \n",
    "               'I felt bad.']\n",
    "\n",
    "compound = ' '.join(prompts)\n",
    "prompts.append(compound)\n",
    "for prompt in prompts:\n",
    "    print(prompt)\n",
    "sentiments = score_sentiment(prompts, sentiment_tokenizer, sentiment_model, device)\n",
    "print(\"\")\n",
    "print(f'individual sentiments: {sentiments[0:-1]}')\n",
    "print(f'summed: {sentiments[0:-1].sum():0.2f}')\n",
    "print(f'scored as a whole: {sentiments[-1]:0.2f}')\n"
   ]
  },
  {
   "cell_type": "code",
   "execution_count": 8,
   "id": "f85cfdcd",
   "metadata": {},
   "outputs": [
    {
     "name": "stdout",
     "output_type": "stream",
     "text": [
      "I felt good.\n",
      "But I felt bad.\n",
      "I felt good. But I felt bad.\n",
      "\n",
      "individual sentiments: [ 0.95712024 -0.74740514]\n",
      "summed: 0.21\n",
      "scored as a whole: -0.10\n"
     ]
    }
   ],
   "source": [
    "prompts = ['I felt good.', \n",
    "               'But I felt bad.']\n",
    "\n",
    "compound = ' '.join(prompts)\n",
    "prompts.append(compound)\n",
    "for prompt in prompts:\n",
    "    print(prompt)\n",
    "sentiments = score_sentiment(prompts, sentiment_tokenizer, sentiment_model, device)\n",
    "print(\"\")\n",
    "print(f'individual sentiments: {sentiments[0:-1]}')\n",
    "print(f'summed: {sentiments[0:-1].sum():0.2f}')\n",
    "print(f'scored as a whole: {sentiments[-1]:0.2f}')"
   ]
  },
  {
   "cell_type": "code",
   "execution_count": 9,
   "id": "66ca7462",
   "metadata": {},
   "outputs": [
    {
     "name": "stdout",
     "output_type": "stream",
     "text": [
      "I felt good.\n",
      "Even though it was a terrible day.\n",
      "I felt good. Even though it was a terrible day.\n",
      "\n",
      "individual sentiments: [ 0.95712042 -0.79817049]\n",
      "summed: 0.16\n",
      "scored as a whole: 0.50\n"
     ]
    }
   ],
   "source": [
    "prompts = ['I felt good.', \n",
    "               'Even though it was a terrible day.']\n",
    "\n",
    "compound = ' '.join(prompts)\n",
    "prompts.append(compound)\n",
    "for prompt in prompts:\n",
    "    print(prompt)\n",
    "sentiments = score_sentiment(prompts, sentiment_tokenizer, sentiment_model, device)\n",
    "print(\"\")\n",
    "print(f'individual sentiments: {sentiments[0:-1]}')\n",
    "print(f'summed: {sentiments[0:-1].sum():0.2f}')\n",
    "print(f'scored as a whole: {sentiments[-1]:0.2f}')"
   ]
  },
  {
   "cell_type": "code",
   "execution_count": 10,
   "id": "b25af90b",
   "metadata": {},
   "outputs": [
    {
     "name": "stdout",
     "output_type": "stream",
     "text": [
      "I felt bad.\n",
      "Even though it was a fun day.\n",
      "I felt bad. Even though it was a fun day.\n",
      "\n",
      "individual sentiments: [-0.79355936  0.72371446]\n",
      "summed: -0.07\n",
      "scored as a whole: -0.39\n"
     ]
    }
   ],
   "source": [
    "prompts = ['I felt bad.', \n",
    "               'Even though it was a fun day.']\n",
    "\n",
    "compound = ' '.join(prompts)\n",
    "prompts.append(compound)\n",
    "for prompt in prompts:\n",
    "    print(prompt)\n",
    "sentiments = score_sentiment(prompts, sentiment_tokenizer, sentiment_model, device)\n",
    "print(\"\")\n",
    "print(f'individual sentiments: {sentiments[0:-1]}')\n",
    "print(f'summed: {sentiments[0:-1].sum():0.2f}')\n",
    "print(f'scored as a whole: {sentiments[-1]:0.2f}')"
   ]
  },
  {
   "cell_type": "code",
   "execution_count": 11,
   "id": "9d5269e1",
   "metadata": {},
   "outputs": [
    {
     "name": "stdout",
     "output_type": "stream",
     "text": [
      "It was great, we went out to lunch.\n",
      "I had a nice salad.\n",
      "Then she dumped me, and I felt sad.\n",
      "It was great, we went out to lunch. I had a nice salad. Then she dumped me, and I felt sad.\n",
      "\n",
      "individual sentiments: [ 0.98594735  0.96157024 -0.86260593]\n",
      "summed: 1.08\n",
      "scored as a whole: 0.19\n"
     ]
    }
   ],
   "source": [
    "prompts = ['It was great, we went out to lunch.',\n",
    "           'I had a nice salad.',\n",
    "           'Then she dumped me, and I felt sad.']\n",
    "\n",
    "compound = ' '.join(prompts)\n",
    "prompts.append(compound)\n",
    "for prompt in prompts:\n",
    "    print(prompt)\n",
    "sentiments = score_sentiment(prompts, sentiment_tokenizer, sentiment_model, device)\n",
    "print(\"\")\n",
    "print(f'individual sentiments: {sentiments[0:-1]}')\n",
    "print(f'summed: {sentiments[0:-1].sum():0.2f}')\n",
    "print(f'scored as a whole: {sentiments[-1]:0.2f}')"
   ]
  },
  {
   "cell_type": "code",
   "execution_count": null,
   "id": "478b8c47",
   "metadata": {},
   "outputs": [],
   "source": []
  }
 ],
 "metadata": {
  "kernelspec": {
   "display_name": "Python 3",
   "language": "python",
   "name": "python3"
  },
  "language_info": {
   "codemirror_mode": {
    "name": "ipython",
    "version": 3
   },
   "file_extension": ".py",
   "mimetype": "text/x-python",
   "name": "python",
   "nbconvert_exporter": "python",
   "pygments_lexer": "ipython3",
   "version": "3.9.12"
  },
  "toc": {
   "base_numbering": 1,
   "nav_menu": {},
   "number_sections": true,
   "sideBar": true,
   "skip_h1_title": false,
   "title_cell": "Table of Contents",
   "title_sidebar": "Contents",
   "toc_cell": false,
   "toc_position": {},
   "toc_section_display": true,
   "toc_window_display": false
  }
 },
 "nbformat": 4,
 "nbformat_minor": 5
}
