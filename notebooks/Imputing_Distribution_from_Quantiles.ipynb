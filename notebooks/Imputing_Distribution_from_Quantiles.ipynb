{
 "cells": [
  {
   "cell_type": "code",
   "execution_count": 1,
   "id": "e352b878",
   "metadata": {},
   "outputs": [],
   "source": [
    "import numpy as np\n",
    "import scipy\n",
    "import scipy.stats\n",
    "import matplotlib.pyplot as plt\n",
    "import seaborn as sns\n",
    "%matplotlib inline"
   ]
  },
  {
   "cell_type": "markdown",
   "id": "7a8a7aa3",
   "metadata": {},
   "source": [
    "### Code"
   ]
  },
  {
   "cell_type": "code",
   "execution_count": 2,
   "id": "ad3f5642",
   "metadata": {},
   "outputs": [],
   "source": [
    "def expectile_loss(expectiles,taus,samples):\n",
    "    '''\n",
    "    delta = z - q\n",
    "    loss = E[I(z>q)*tau + (1-I(z>q))*(1-tau)]*(delta^2)\n",
    "    see Rowland et al. 2019 Definition 3.3.\n",
    "    '''\n",
    "    delta = (samples[None, :] - expectiles[:, None])\n",
    "    indic = np.array(delta >= 0., dtype=np.float32)\n",
    "    loss = np.mean((indic*taus[:,None] + (1-indic)*(1-taus[:,None]))*delta**2)\n",
    "    return(loss)"
   ]
  },
  {
   "cell_type": "code",
   "execution_count": 3,
   "id": "d7b4a22d",
   "metadata": {},
   "outputs": [],
   "source": [
    "def expectile_loss_fn(expectiles, taus, samples):\n",
    "    '''\n",
    "    From Nature Paper Online Code (their notes below)\n",
    "    It's the Expectile loss function for finding samples this time instead of expectiles.\n",
    "    see Rowland et al. 2019 eqn. 8\n",
    "\n",
    "    '''\n",
    "\n",
    "    # distributional TD model: delta_t = (r + \\gamma V*) - V_i\n",
    "    # expectile loss: delta = sample - expectile\n",
    "    delta = (samples[None, :] - expectiles[:, None])\n",
    "\n",
    "    # distributional TD model: alpha^+ delta if delta > 0, alpha^- delta otherwise\n",
    "    # expectile loss: |taus - I_{delta <= 0}| * delta^2\n",
    "\n",
    "    # Note: When used to decode we take the gradient of this loss,\n",
    "    # and then evaluate the mean-squared gradient. That is because *samples* must\n",
    "    # trade-off errors with all expectiles to zero out the gradient of the\n",
    "    # expectile loss.\n",
    "    indic = np.array(delta <= 0., dtype=np.float32)\n",
    "    grad =  np.abs(taus[:, None] - indic) * delta * -0.5\n",
    "    return np.mean(np.square(np.mean(grad, axis=-1)))\n"
   ]
  },
  {
   "cell_type": "code",
   "execution_count": 47,
   "id": "bff72269",
   "metadata": {},
   "outputs": [],
   "source": [
    "def quantile_loss_fn(quantiles, taus, samples):\n",
    "    '''\n",
    "\n",
    "    '''\n",
    "    # quantile loss: |taus - I_{delta <= 0}| * |delta|\n",
    "    \n",
    "    delta = (samples[None, :] - quantiles[:, None])\n",
    "    indic = np.array(delta <= 0., dtype=np.float32)\n",
    "    grad =  np.abs(taus[:, None] - indic) * -0.5 # removing the delta here \n",
    "    return np.mean(np.square(np.mean(grad, axis=-1)))\n"
   ]
  },
  {
   "cell_type": "code",
   "execution_count": 48,
   "id": "9b72ca3c",
   "metadata": {},
   "outputs": [],
   "source": [
    "def find_expectiles(expectiles0,taus,samples,method='optimize_scipy',alpha=0.01,\n",
    "                    max_iters=10000,precision=0.0001,printt=False):\n",
    "\n",
    "    '''\n",
    "    Given samples, calculate best fitting expectiles.\n",
    "\n",
    "    Notes on gradient descent:\n",
    "        - learning rate needs to be low (0.01 or less) for distributions with rare events\n",
    "        - in general, I don't the grad descent function, but it's nice to know it works\n",
    "\n",
    "    '''\n",
    "    if method=='grad_desc':\n",
    "        expectiles_n = expectiles0.copy()\n",
    "        for _i in range(max_iters):\n",
    "            if printt:\n",
    "                print(_i)\n",
    "            expectiles_c = expectiles_n\n",
    "\n",
    "            # grad over entire dataset (versus at a sample)\n",
    "            grad = np.mean(grad_expectile_loss(expectiles_c,taus,samples),axis=1)\n",
    "            expectiles_n = expectiles_c - alpha*np.squeeze(grad)\n",
    "\n",
    "            step = expectiles_c-expectiles_n\n",
    "            if np.all(np.abs(step)<=precision):\n",
    "                expectiles = expectiles_n\n",
    "                print('here')\n",
    "                break\n",
    "\n",
    "        expectiles = expectiles_n\n",
    "\n",
    "    elif method=='optimize_scipy':\n",
    "        #import pdb; pdb.set_trace()\n",
    "        fn_to_minimize = lambda x: expectile_loss(x, taus, samples)\n",
    "        result = scipy.optimize.minimize(\n",
    "                    fn_to_minimize, method=None, x0=expectiles0)['x']\n",
    "        expectiles = result\n",
    "\n",
    "    return(expectiles)"
   ]
  },
  {
   "cell_type": "code",
   "execution_count": 49,
   "id": "26a879cf",
   "metadata": {},
   "outputs": [],
   "source": [
    "def impute_distribution(expectiles, taus, minv=-10, maxv=10, method=None,\n",
    "                 max_samples=100, max_epochs=5, N=25, use_quantiles=False):\n",
    "    \"\"\"\n",
    "    From Nature Paper Online Code (their notes below)\n",
    "    They say 'Run decoding given reversal points and asymmetries (taus).'\n",
    "\n",
    "    expectiles were reversal points in their code\n",
    "    Reversal points = (but they were estimated from neurons)\n",
    "\n",
    "    \"\"\"\n",
    "\n",
    "    ind = list(np.argsort(expectiles))\n",
    "    points = expectiles[ind]\n",
    "    tau = taus[ind]\n",
    "    if use_quantiles:\n",
    "        loss_fn = quantile_loss_fn\n",
    "    else:\n",
    "        loss_fn = expectile_loss_fn\n",
    "\n",
    "    # Robustified optimization to infer distribution\n",
    "    # Generate max_epochs sets of samples,\n",
    "    # each starting the optimization at the best of max_samples initial points.\n",
    "    sampled_dist = []\n",
    "    for _ in range(max_epochs):\n",
    "        # Randomly search for good initial conditions\n",
    "        # This significantly improves the minima found\n",
    "        #import pdb; pdb.set_trace()\n",
    "        samples = np.random.uniform(minv, maxv, size=(max_samples, N))\n",
    "        fvalues = np.array([loss_fn(points, tau, x0) for x0 in samples])\n",
    "        #np.array([x0 for x0 in samples])\n",
    "\n",
    "        # Perform loss minimizing on expectile loss (w.r.t samples)\n",
    "        x0 = np.array(sorted(samples[fvalues.argmin()]))\n",
    "        fn_to_minimize = lambda x: loss_fn(points, tau, x)\n",
    "        result = scipy.optimize.minimize(\n",
    "            fn_to_minimize, method=method,\n",
    "            bounds=[(minv, maxv) for _ in x0], x0=x0)['x']\n",
    "\n",
    "        sampled_dist.extend(result.tolist())\n",
    "\n",
    "    return np.array(sampled_dist), loss_fn(points, tau, np.array(sampled_dist))"
   ]
  },
  {
   "cell_type": "markdown",
   "id": "1eb4a1c5",
   "metadata": {},
   "source": [
    "### Expectile Examples"
   ]
  },
  {
   "cell_type": "code",
   "execution_count": 50,
   "id": "a27ca113",
   "metadata": {},
   "outputs": [],
   "source": [
    "x = np.random.normal(0,1,1000)"
   ]
  },
  {
   "cell_type": "code",
   "execution_count": 51,
   "id": "9197a872",
   "metadata": {},
   "outputs": [],
   "source": [
    "n_quantiles = 10\n",
    "taus = (2 * np.arange(n_quantiles) + 1) / (2.0 * n_quantiles)"
   ]
  },
  {
   "cell_type": "code",
   "execution_count": 52,
   "id": "fcbf9605",
   "metadata": {},
   "outputs": [],
   "source": [
    "def calc_quantiles(x, taus):\n",
    "    quantiles = []\n",
    "    for tau in taus:\n",
    "        quantiles.append(np.quantile(x, tau))\n",
    "    return(np.array(quantiles))"
   ]
  },
  {
   "cell_type": "code",
   "execution_count": 53,
   "id": "c17aa12a",
   "metadata": {},
   "outputs": [
    {
     "data": {
      "text/plain": [
       "array([-1.67926213, -1.08944015, -0.75451304, -0.42025922, -0.16742806,\n",
       "        0.05312698,  0.35957278,  0.61560768,  1.00139246,  1.68888326])"
      ]
     },
     "execution_count": 53,
     "metadata": {},
     "output_type": "execute_result"
    }
   ],
   "source": [
    "quantiles = calc_quantiles(x, taus)\n",
    "quantiles"
   ]
  },
  {
   "cell_type": "code",
   "execution_count": 54,
   "id": "5466908c",
   "metadata": {},
   "outputs": [
    {
     "data": {
      "text/plain": [
       "array([-1.19208054, -0.73535028, -0.48436451, -0.29117395, -0.12214235,\n",
       "        0.04060209,  0.21158216,  0.406731  ,  0.66591371,  1.15520544])"
      ]
     },
     "execution_count": 54,
     "metadata": {},
     "output_type": "execute_result"
    }
   ],
   "source": [
    "expectiles = find_expectiles(quantiles, taus, x)\n",
    "expectiles"
   ]
  },
  {
   "cell_type": "code",
   "execution_count": 55,
   "id": "4dacef01",
   "metadata": {},
   "outputs": [],
   "source": [
    "x_imputed, loss = impute_distribution(expectiles, taus, minv=-10, maxv=10)\n",
    "x_imputed_q, loss = impute_distribution(quantiles, taus, minv=-10, maxv=10, use_quantiles=True)"
   ]
  },
  {
   "cell_type": "code",
   "execution_count": 56,
   "id": "304c25f0",
   "metadata": {},
   "outputs": [
    {
     "data": {
      "image/png": "[encoded data removed]",
      "text/plain": [
       "<Figure size 432x288 with 1 Axes>"
      ]
     },
     "metadata": {
      "needs_background": "light"
     },
     "output_type": "display_data"
    },
    {
     "data": {
      "image/png": "[encoded data removed]",
      "text/plain": [
       "<Figure size 432x288 with 1 Axes>"
      ]
     },
     "metadata": {
      "needs_background": "light"
     },
     "output_type": "display_data"
    },
    {
     "data": {
      "image/png": "[encoded data removed]",
      "text/plain": [
       "<Figure size 432x288 with 1 Axes>"
      ]
     },
     "metadata": {
      "needs_background": "light"
     },
     "output_type": "display_data"
    }
   ],
   "source": [
    "plt.figure()\n",
    "plt.hist(x, alpha=0.5)\n",
    "sns.despine()\n",
    "xlim = plt.gca().get_xlim()\n",
    "\n",
    "plt.figure()\n",
    "plt.hist(x_imputed, alpha=0.5)\n",
    "sns.despine()\n",
    "plt.xlim(xlim)\n",
    "\n",
    "plt.figure()\n",
    "plt.hist(x_imputed_q, alpha=0.5)\n",
    "sns.despine()\n",
    "#plt.xlim(xlim)"
   ]
  },
  {
   "cell_type": "code",
   "execution_count": 57,
   "id": "f71a0491",
   "metadata": {},
   "outputs": [
    {
     "data": {
      "text/plain": [
       "0.04948724"
      ]
     },
     "execution_count": 57,
     "metadata": {},
     "output_type": "execute_result"
    }
   ],
   "source": [
    "loss"
   ]
  },
  {
   "cell_type": "code",
   "execution_count": null,
   "id": "2c87bd53",
   "metadata": {},
   "outputs": [],
   "source": []
  }
 ],
 "metadata": {
  "kernelspec": {
   "display_name": "Python 3",
   "language": "python",
   "name": "python3"
  },
  "language_info": {
   "codemirror_mode": {
    "name": "ipython",
    "version": 3
   },
   "file_extension": ".py",
   "mimetype": "text/x-python",
   "name": "python",
   "nbconvert_exporter": "python",
   "pygments_lexer": "ipython3",
   "version": "3.9.12"
  },
  "toc": {
   "base_numbering": 1,
   "nav_menu": {},
   "number_sections": true,
   "sideBar": true,
   "skip_h1_title": false,
   "title_cell": "Table of Contents",
   "title_sidebar": "Contents",
   "toc_cell": false,
   "toc_position": {},
   "toc_section_display": true,
   "toc_window_display": true
  }
 },
 "nbformat": 4,
 "nbformat_minor": 5
}
